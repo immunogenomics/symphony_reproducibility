{
 "cells": [
  {
   "cell_type": "markdown",
   "id": "silver-disease",
   "metadata": {},
   "source": [
    "# Scanpy covid-19 preprocessing\n",
    "\n",
    "Because the original dataset counts matrix is too large to read into R (due to 32-bit limit for sparse matrices due to Rcpp), we will preprocess the dataset in python through normalization and subsetting by variable genes before reading into R. This will reduce the number of values stored in the sparse matrix to allow for performing downstream steps in R."
   ]
  },
  {
   "cell_type": "code",
   "execution_count": 64,
   "id": "distant-graph",
   "metadata": {},
   "outputs": [
    {
     "name": "stdout",
     "output_type": "stream",
     "text": [
      "scanpy==1.7.2 anndata==0.7.6 umap==0.5.1 numpy==1.19.2 scipy==1.6.0 pandas==1.2.1 scikit-learn==0.24.1 statsmodels==0.12.2 python-igraph==0.9.1 louvain==0.7.0\n"
     ]
    }
   ],
   "source": [
    "import numpy as np\n",
    "import pandas as pd\n",
    "import scanpy as sc\n",
    "import scipy\n",
    "from numpy import savetxt\n",
    "from scipy import io\n",
    "\n",
    "sc.settings.verbosity = 3             # verbosity: errors (0), warnings (1), info (2), hints (3)\n",
    "sc.logging.print_header()\n",
    "sc.settings.set_figure_params(dpi=80, facecolor='white')"
   ]
  },
  {
   "cell_type": "markdown",
   "id": "romantic-louisiana",
   "metadata": {},
   "source": [
    "Obtained AnnData file `GSE158055_covid19.h5ad` from https://drive.google.com/file/d/1TXDJqOvFkJxbcm2u2-_bM5RBdTOqv56w/view, based on this Seurat issue regarding large file size: https://github.com/satijalab/seurat/issues/4030"
   ]
  },
  {
   "cell_type": "code",
   "execution_count": 4,
   "id": "protected-ranch",
   "metadata": {},
   "outputs": [
    {
     "data": {
      "text/plain": [
       "AnnData object with n_obs × n_vars = 1462702 × 27943"
      ]
     },
     "execution_count": 4,
     "metadata": {},
     "output_type": "execute_result"
    }
   ],
   "source": [
    "adata = sc.read('/data/srlab2/jkang/datasets/ren_covid_cell_2021/GSE158055_covid19.h5ad')\n",
    "adata"
   ]
  },
  {
   "cell_type": "code",
   "execution_count": 15,
   "id": "quarterly-china",
   "metadata": {},
   "outputs": [
    {
     "name": "stderr",
     "output_type": "stream",
     "text": [
      "normalizing counts per cell\n",
      "    finished (0:00:42)\n"
     ]
    }
   ],
   "source": [
    "## Log(CP10k+1) normalize\n",
    "sc.pp.normalize_total(adata, target_sum=1e4)\n",
    "sc.pp.log1p(adata)"
   ]
  },
  {
   "cell_type": "code",
   "execution_count": 40,
   "id": "chronic-check",
   "metadata": {},
   "outputs": [
    {
     "data": {
      "text/html": [
       "<div>\n",
       "<style scoped>\n",
       "    .dataframe tbody tr th:only-of-type {\n",
       "        vertical-align: middle;\n",
       "    }\n",
       "\n",
       "    .dataframe tbody tr th {\n",
       "        vertical-align: top;\n",
       "    }\n",
       "\n",
       "    .dataframe thead th {\n",
       "        text-align: right;\n",
       "    }\n",
       "</style>\n",
       "<table border=\"1\" class=\"dataframe\">\n",
       "  <thead>\n",
       "    <tr style=\"text-align: right;\">\n",
       "      <th></th>\n",
       "      <th>Genes</th>\n",
       "    </tr>\n",
       "  </thead>\n",
       "  <tbody>\n",
       "    <tr>\n",
       "      <th>0</th>\n",
       "      <td>A2M</td>\n",
       "    </tr>\n",
       "    <tr>\n",
       "      <th>1</th>\n",
       "      <td>A2ML1</td>\n",
       "    </tr>\n",
       "    <tr>\n",
       "      <th>2</th>\n",
       "      <td>AATK</td>\n",
       "    </tr>\n",
       "    <tr>\n",
       "      <th>3</th>\n",
       "      <td>ABCA1</td>\n",
       "    </tr>\n",
       "    <tr>\n",
       "      <th>4</th>\n",
       "      <td>ABCA13</td>\n",
       "    </tr>\n",
       "    <tr>\n",
       "      <th>...</th>\n",
       "      <td>...</td>\n",
       "    </tr>\n",
       "    <tr>\n",
       "      <th>1296</th>\n",
       "      <td>ZBBX</td>\n",
       "    </tr>\n",
       "    <tr>\n",
       "      <th>1297</th>\n",
       "      <td>ZG16B</td>\n",
       "    </tr>\n",
       "    <tr>\n",
       "      <th>1298</th>\n",
       "      <td>ZNF185</td>\n",
       "    </tr>\n",
       "    <tr>\n",
       "      <th>1299</th>\n",
       "      <td>ZNF683</td>\n",
       "    </tr>\n",
       "    <tr>\n",
       "      <th>1300</th>\n",
       "      <td>ZNF705A</td>\n",
       "    </tr>\n",
       "  </tbody>\n",
       "</table>\n",
       "<p>1301 rows × 1 columns</p>\n",
       "</div>"
      ],
      "text/plain": [
       "        Genes\n",
       "0         A2M\n",
       "1       A2ML1\n",
       "2        AATK\n",
       "3       ABCA1\n",
       "4      ABCA13\n",
       "...       ...\n",
       "1296     ZBBX\n",
       "1297    ZG16B\n",
       "1298   ZNF185\n",
       "1299   ZNF683\n",
       "1300  ZNF705A\n",
       "\n",
       "[1301 rows x 1 columns]"
      ]
     },
     "execution_count": 40,
     "metadata": {},
     "output_type": "execute_result"
    }
   ],
   "source": [
    "var_genes = pd.read_table('All_sample_hvg.csv', header = 0) # Obtained from original authors (Ren et al)\n",
    "var_genes"
   ]
  },
  {
   "cell_type": "code",
   "execution_count": 41,
   "id": "multiple-destruction",
   "metadata": {},
   "outputs": [
    {
     "data": {
      "text/plain": [
       "0           A2M\n",
       "1         A2ML1\n",
       "2          AATK\n",
       "3         ABCA1\n",
       "4        ABCA13\n",
       "         ...   \n",
       "1296       ZBBX\n",
       "1297      ZG16B\n",
       "1298     ZNF185\n",
       "1299     ZNF683\n",
       "1300    ZNF705A\n",
       "Name: Genes, Length: 1301, dtype: object"
      ]
     },
     "execution_count": 41,
     "metadata": {},
     "output_type": "execute_result"
    }
   ],
   "source": [
    "var_genes.loc[:, 'Genes']"
   ]
  },
  {
   "cell_type": "code",
   "execution_count": 49,
   "id": "elegant-sapphire",
   "metadata": {},
   "outputs": [
    {
     "data": {
      "text/plain": [
       "View of AnnData object with n_obs × n_vars = 1462702 × 1301\n",
       "    uns: 'log1p'"
      ]
     },
     "execution_count": 49,
     "metadata": {},
     "output_type": "execute_result"
    }
   ],
   "source": [
    "## Subset by variable genes\n",
    "adata_vargenes = adata[:, var_genes.loc[:, 'Genes']]\n",
    "adata_vargenes"
   ]
  },
  {
   "cell_type": "code",
   "execution_count": 52,
   "id": "detected-louisville",
   "metadata": {},
   "outputs": [
    {
     "data": {
      "text/html": [
       "<div>\n",
       "<style scoped>\n",
       "    .dataframe tbody tr th:only-of-type {\n",
       "        vertical-align: middle;\n",
       "    }\n",
       "\n",
       "    .dataframe tbody tr th {\n",
       "        vertical-align: top;\n",
       "    }\n",
       "\n",
       "    .dataframe thead th {\n",
       "        text-align: right;\n",
       "    }\n",
       "</style>\n",
       "<table border=\"1\" class=\"dataframe\">\n",
       "  <thead>\n",
       "    <tr style=\"text-align: right;\">\n",
       "      <th></th>\n",
       "    </tr>\n",
       "  </thead>\n",
       "  <tbody>\n",
       "    <tr>\n",
       "      <th>d01_sample_A_AACAGGGGTCGGATTT</th>\n",
       "    </tr>\n",
       "    <tr>\n",
       "      <th>d01_sample_A_AACCAACGTCCGAAAG</th>\n",
       "    </tr>\n",
       "    <tr>\n",
       "      <th>d01_sample_A_AACCTTTGTAGCACGA</th>\n",
       "    </tr>\n",
       "    <tr>\n",
       "      <th>d01_sample_A_AAGCATCTCTATCGCC</th>\n",
       "    </tr>\n",
       "    <tr>\n",
       "      <th>d01_sample_A_AATCACGGTCATAAAG</th>\n",
       "    </tr>\n",
       "    <tr>\n",
       "      <th>...</th>\n",
       "    </tr>\n",
       "    <tr>\n",
       "      <th>d17_9_TTTGTCATCCACGCAG</th>\n",
       "    </tr>\n",
       "    <tr>\n",
       "      <th>d17_9_TTTGTCATCCGCTGTT</th>\n",
       "    </tr>\n",
       "    <tr>\n",
       "      <th>d17_9_TTTGTCATCGTCGTTC</th>\n",
       "    </tr>\n",
       "    <tr>\n",
       "      <th>d17_9_TTTGTCATCTGTACGA</th>\n",
       "    </tr>\n",
       "    <tr>\n",
       "      <th>d17_9_TTTGTCATCTTGCCGT</th>\n",
       "    </tr>\n",
       "  </tbody>\n",
       "</table>\n",
       "<p>1462702 rows × 0 columns</p>\n",
       "</div>"
      ],
      "text/plain": [
       "Empty DataFrameView\n",
       "Columns: []\n",
       "Index: [d01_sample_A_AACAGGGGTCGGATTT, d01_sample_A_AACCAACGTCCGAAAG, d01_sample_A_AACCTTTGTAGCACGA, d01_sample_A_AAGCATCTCTATCGCC, d01_sample_A_AATCACGGTCATAAAG, d01_sample_A_AATCACGGTGGTTCTA, d01_sample_A_AATGAAGCAACTGGTT, d01_sample_A_AATGAAGCACCAGCGT, d01_sample_A_AATGCCATCACCTCGT, d01_sample_A_AATGGCTCAAGGCTTT, d01_sample_A_ACACCAAGTTTGGAGG, d01_sample_A_ACATCCCGTCTTACAG, d01_sample_A_ACATCCCGTTGGGATG, d01_sample_A_ACATTTCTCCGAGTGC, d01_sample_A_ACCAAACTCGAGTACT, d01_sample_A_ACCAACATCGTGTTCC, d01_sample_A_ACGATGTGTACCTATG, d01_sample_A_ACGCACGAGAACCGCA, d01_sample_A_ACGCACGTCTGCCCTA, d01_sample_A_ACGGGTCAGGGAGATA, d01_sample_A_ACGGTCGAGTGCCAGA, d01_sample_A_ACGTTCCAGCTGCCTG, d01_sample_A_ACTGTGAAGAACCCGG, d01_sample_A_ACTTATCCACATATCG, d01_sample_A_ACTTATCCAGAACTTC, d01_sample_A_ACTTCCGCAACTCCAA, d01_sample_A_ACTTCGCTCAACTACG, d01_sample_A_ACTTTGTAGCCTCTGG, d01_sample_A_AGAAATGCACCTCAGG, d01_sample_A_AGAACCTCACAATGTC, d01_sample_A_AGAACCTCAGTTGTTG, d01_sample_A_AGAGCAGGTTCCACGG, d01_sample_A_AGCATCAGTCCGAAGA, d01_sample_A_AGCTACAGTTACCTGA, d01_sample_A_AGCTCAAGTACATTGC, d01_sample_A_AGCTTCCTCCATGATG, d01_sample_A_AGGAAATAGAAGGGAT, d01_sample_A_AGGAAATAGGTCGCCT, d01_sample_A_AGGAGGTTCTGTCAGA, d01_sample_A_AGGGCTCTCAGTGCGC, d01_sample_A_AGGTTGTCAATCCTTT, d01_sample_A_AGTACTGAGAGCCCAA, d01_sample_A_AGTCATGGTCGTCAGC, d01_sample_A_AGTGACTAGGTGCCTC, d01_sample_A_AGTGATCGTTCTGAGT, d01_sample_A_AGTTAGCAGAACTCCT, d01_sample_A_ATCCGTCGTGAGATAT, d01_sample_A_ATCGTGAGTGCCTACG, d01_sample_A_ATCTTCACACATTCGA, d01_sample_A_ATGAAAGGTGCATCTA, d01_sample_A_ATGAGGGAGATAGCTA, d01_sample_A_ATGAGGGCACGTAGTT, d01_sample_A_ATGATCGTCATACGGT, d01_sample_A_ATGGATCCATGGCCCA, d01_sample_A_ATGGGTTCAATTGGTC, d01_sample_A_ATGGTTGGTCACCTTC, d01_sample_A_ATGTCCCGTGCCGTAC, d01_sample_A_ATGTCCCTCTTAGCAG, d01_sample_A_ATGTCTTCATCGAAGG, d01_sample_A_ATTCGTTAGGTCGACA, d01_sample_A_ATTCTTGGTTAGGACG, d01_sample_A_ATTGTTCGTTTGACAC, d01_sample_A_ATTTACCAGATCACCT, d01_sample_A_ATTTACCGTAGGCTCC, d01_sample_A_CAACGGCAGTCGTCGT, d01_sample_A_CAACGGCCACTCAGAT, d01_sample_A_CAAGACTAGATCACTC, d01_sample_A_CAAGACTGTGCCGGTT, d01_sample_A_CAAGAGGAGGAAGTAG, d01_sample_A_CAATACGCAACTAGAA, d01_sample_A_CAATGACAGTGGGAAA, d01_sample_A_CACAGGCTCAAATGAG, d01_sample_A_CACCAAAGTGTGCTTA, d01_sample_A_CACCGTTTCGATGCTA, d01_sample_A_CACGAATTCCTTATAC, d01_sample_A_CACGGGTTCGGCTCTT, d01_sample_A_CACTGGGTCGAACCTA, d01_sample_A_CACTTCGCAAATACGA, d01_sample_A_CAGAGCCAGTCCCTAA, d01_sample_A_CAGCAGCCAGCCGTTG, d01_sample_A_CAGCGTGTCCTCTGCA, d01_sample_A_CAGGTATGTTGCCTAA, d01_sample_A_CATACTTGTACGCTTA, d01_sample_A_CATCCACGTACCGTGC, d01_sample_A_CATCCGTTCAACGTGT, d01_sample_A_CATCGCTGTTAGGCCC, d01_sample_A_CATGCGGGTCTGATCA, d01_sample_A_CATTCCGAGCTACTGT, d01_sample_A_CCAATGACACCAAATC, d01_sample_A_CCAATGAGTGAGTTGG, d01_sample_A_CCAATTTCAAATTGCC, d01_sample_A_CCACACTTCTGTCCGT, d01_sample_A_CCACCATAGAAGCGCT, d01_sample_A_CCACGAGTCCGATGTA, d01_sample_A_CCGATCTCAGTCAACT, d01_sample_A_CCTCACAGTCGCGTTG, d01_sample_A_CCTCATGTCACGGGAA, d01_sample_A_CCTCCTCAGGTCCCGT, d01_sample_A_CCTTGTGTCTGTGCGG, d01_sample_A_CCTTTGGCATGACAAA, ...]\n",
       "\n",
       "[1462702 rows x 0 columns]"
      ]
     },
     "execution_count": 52,
     "metadata": {},
     "output_type": "execute_result"
    }
   ],
   "source": [
    "adata_vargenes.obs"
   ]
  },
  {
   "cell_type": "code",
   "execution_count": 53,
   "id": "knowing-scholar",
   "metadata": {},
   "outputs": [
    {
     "data": {
      "text/html": [
       "<div>\n",
       "<style scoped>\n",
       "    .dataframe tbody tr th:only-of-type {\n",
       "        vertical-align: middle;\n",
       "    }\n",
       "\n",
       "    .dataframe tbody tr th {\n",
       "        vertical-align: top;\n",
       "    }\n",
       "\n",
       "    .dataframe thead th {\n",
       "        text-align: right;\n",
       "    }\n",
       "</style>\n",
       "<table border=\"1\" class=\"dataframe\">\n",
       "  <thead>\n",
       "    <tr style=\"text-align: right;\">\n",
       "      <th></th>\n",
       "    </tr>\n",
       "  </thead>\n",
       "  <tbody>\n",
       "    <tr>\n",
       "      <th>A2M</th>\n",
       "    </tr>\n",
       "    <tr>\n",
       "      <th>A2ML1</th>\n",
       "    </tr>\n",
       "    <tr>\n",
       "      <th>AATK</th>\n",
       "    </tr>\n",
       "    <tr>\n",
       "      <th>ABCA1</th>\n",
       "    </tr>\n",
       "    <tr>\n",
       "      <th>ABCA13</th>\n",
       "    </tr>\n",
       "    <tr>\n",
       "      <th>...</th>\n",
       "    </tr>\n",
       "    <tr>\n",
       "      <th>ZBBX</th>\n",
       "    </tr>\n",
       "    <tr>\n",
       "      <th>ZG16B</th>\n",
       "    </tr>\n",
       "    <tr>\n",
       "      <th>ZNF185</th>\n",
       "    </tr>\n",
       "    <tr>\n",
       "      <th>ZNF683</th>\n",
       "    </tr>\n",
       "    <tr>\n",
       "      <th>ZNF705A</th>\n",
       "    </tr>\n",
       "  </tbody>\n",
       "</table>\n",
       "<p>1301 rows × 0 columns</p>\n",
       "</div>"
      ],
      "text/plain": [
       "Empty DataFrameView\n",
       "Columns: []\n",
       "Index: [A2M, A2ML1, AATK, ABCA1, ABCA13, ABCC3, ABHD17C, ABLIM3, AC000093.1, AC003101.2, AC007750.1, AC008763.1, AC009435.1, AC010186.1, AC010980.2, AC011676.2, AC012507.1, AC012507.4, AC012560.1, AC013457.1, AC015912.3, AC016717.2, AC017015.2, AC020916.1, AC023157.3, AC023813.1, AC024597.1, AC025048.4, AC025154.2, AC025580.1, AC026333.3, AC026369.3, AC034199.1, AC058791.1, AC073172.1, AC074327.1, AC084859.1, AC090409.1, AC092746.1, AC092919.1, AC093424.1, AC093627.6, AC096577.1, AC099329.1, AC099489.1, AC102953.1, AC103591.3, AC104389.5, AC114752.2, AC116407.1, AC122108.2, AC123912.4, AC136428.1, AC136475.9, AC139100.1, AC141272.1, AC147651.1, AC233755.1, AC233755.2, AC242022.1, AC245128.3, ACKR1, ACOD1, ACRBP, ACSL1, ADGRF1, ADGRG3, ADGRG6, ADH1C, ADH7, ADIRF, ADM, ADRA2A, AGR2, AGR3, AGRP, AHSP, AIF1, AIF1L, AKAP14, AKR1C2, AL008729.1, AL021707.1, AL031005.1, AL031316.1, AL035078.1, AL035691.1, AL078604.2, AL121761.2, AL121899.1, AL135790.1, AL135960.1, AL157371.2, AL355073.1, AL357093.2, AL365226.2, AL451164.2, AL583722.1, AL589986.2, AL591686.2, ...]\n",
       "\n",
       "[1301 rows x 0 columns]"
      ]
     },
     "execution_count": 53,
     "metadata": {},
     "output_type": "execute_result"
    }
   ],
   "source": [
    "adata_vargenes.var"
   ]
  },
  {
   "cell_type": "code",
   "execution_count": 54,
   "id": "expected-clock",
   "metadata": {},
   "outputs": [
    {
     "data": {
      "text/plain": [
       "8.979815"
      ]
     },
     "execution_count": 54,
     "metadata": {},
     "output_type": "execute_result"
    }
   ],
   "source": [
    "np.max(adata_vargenes.X)"
   ]
  },
  {
   "cell_type": "code",
   "execution_count": 56,
   "id": "eight-speed",
   "metadata": {},
   "outputs": [
    {
     "data": {
      "text/plain": [
       "(1462702, 1301)"
      ]
     },
     "execution_count": 56,
     "metadata": {},
     "output_type": "execute_result"
    }
   ],
   "source": [
    "np.shape(adata_vargenes.X)"
   ]
  },
  {
   "cell_type": "code",
   "execution_count": 57,
   "id": "monetary-recognition",
   "metadata": {},
   "outputs": [
    {
     "data": {
      "text/plain": [
       "<1462702x1301 sparse matrix of type '<class 'numpy.float32'>'\n",
       "\twith 48864973 stored elements in Compressed Sparse Row format>"
      ]
     },
     "execution_count": 57,
     "metadata": {},
     "output_type": "execute_result"
    }
   ],
   "source": [
    "adata_vargenes.X"
   ]
  },
  {
   "cell_type": "markdown",
   "id": "possible-feeling",
   "metadata": {},
   "source": [
    "Save sparse matrix"
   ]
  },
  {
   "cell_type": "code",
   "execution_count": 66,
   "id": "median-retreat",
   "metadata": {},
   "outputs": [],
   "source": [
    "scipy.io.mmwrite('/data/srlab2/jkang/datasets/ren_covid_cell_2021/exp_norm_vargenes', adata_vargenes.X)\n",
    "\n",
    "pd.Series(adata_vargenes.obs_names, index=adata_vargenes.obs_names).to_csv('/data/srlab2/jkang/datasets/ren_covid_cell_2021/exp_norm_vargenes_barcodes.csv', header=False)\n",
    "\n",
    "adata_vargenes.var.to_csv('/data/srlab2/jkang/datasets/ren_covid_cell_2021/exp_norm_vargenes_genes.csv', header=True)"
   ]
  },
  {
   "cell_type": "code",
   "execution_count": 81,
   "id": "apart-hostel",
   "metadata": {},
   "outputs": [
    {
     "name": "stdout",
     "output_type": "stream",
     "text": [
      "  (0, 3)\t1.0726684\n",
      "  (3, 3)\t0.40238896\n"
     ]
    }
   ],
   "source": [
    "x = adata_vargenes.X[0:5, 0:5]\n",
    "print(x) # sanity checked these values upon reading the matrix into R"
   ]
  }
 ],
 "metadata": {
  "kernelspec": {
   "display_name": "Python 3",
   "language": "python",
   "name": "python3"
  },
  "language_info": {
   "codemirror_mode": {
    "name": "ipython",
    "version": 3
   },
   "file_extension": ".py",
   "mimetype": "text/x-python",
   "name": "python",
   "nbconvert_exporter": "python",
   "pygments_lexer": "ipython3",
   "version": "3.7.9"
  }
 },
 "nbformat": 4,
 "nbformat_minor": 5
}
