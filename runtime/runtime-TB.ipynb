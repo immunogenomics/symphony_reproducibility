{
 "cells": [
  {
   "cell_type": "markdown",
   "metadata": {},
   "source": [
    "# Symphony runtime scalability analysis\n",
    "July 5, 2021"
   ]
  },
  {
   "cell_type": "code",
   "execution_count": 1,
   "metadata": {},
   "outputs": [],
   "source": [
    "# Import libraries\n",
    "suppressPackageStartupMessages({\n",
    "    library(tidyverse)\n",
    "    library(data.table)\n",
    "    library(matrixStats)\n",
    "    library(patchwork)\n",
    "    library(ggthemes)\n",
    "    library(Matrix)\n",
    "    library(ggplot2)\n",
    "    library(plyr)\n",
    "    library(dplyr)\n",
    "    library(Seurat)\n",
    "    library(ggrastr)\n",
    "    library(ggpubr)\n",
    "    require(scales)\n",
    "})\n",
    "\n",
    "fig.size <- function (height, width) {\n",
    "    options(repr.plot.height = height, repr.plot.width = width)\n",
    "}"
   ]
  },
  {
   "cell_type": "markdown",
   "metadata": {},
   "source": [
    "## Make standard reference-sized datasets:"
   ]
  },
  {
   "cell_type": "code",
   "execution_count": 2,
   "metadata": {},
   "outputs": [],
   "source": [
    "# set up the dataset\n",
    "exprs_norm = readRDS(\"/data/srlab1/anathan/TBRU/data/analysis/exprs_norm_01.12.rds\")\n",
    "meta_data = readRDS(\"/data/srlab1/anathan/TBRU/data/analysis/meta_data_01.12.rds\")\n",
    "\n",
    "meta_data <- meta_data[meta_data$memTgate,]\n",
    "meta_data$dummy <- 'A'"
   ]
  },
  {
   "cell_type": "code",
   "execution_count": 3,
   "metadata": {},
   "outputs": [],
   "source": [
    "# Make reference datasets\n",
    "for (n in c(20000, 50000, 100000, 250000, 500000)){\n",
    "    if (n == 500000) {\n",
    "        # use entire dataset\n",
    "        idx_ref = sample(seq(1, nrow(meta_data)), n)\n",
    "    } else if (n == 250000) {\n",
    "        # limit to batches 12-35 (24 batches, 136 donors, 257581)\n",
    "        idx_ref = which(meta_data$batch %in% c(12:35))\n",
    "        idx_ref = sample(idx_ref, n)\n",
    "    } else if (n == 100000) {\n",
    "        # limit to batches 12-21 (58 donors, 107730 cells)\n",
    "        idx_ref = which(meta_data$batch > 11 & meta_data$batch <= 21)\n",
    "        idx_ref = sample(idx_ref, n)\n",
    "    } else if (n == 50000) {\n",
    "        # limit to batches 12-16 (30 donors, 56117 cells)\n",
    "        idx_ref = which(meta_data$batch %in% c(12:16))\n",
    "        idx_ref = sample(idx_ref, n)\n",
    "    } else if (n == 20000) {\n",
    "        # limit to batch 12, 13 (12 donors, 20685 cells)\n",
    "        idx_ref = which(meta_data$batch %in% c(12, 13))\n",
    "        idx_ref = sample(idx_ref, n)\n",
    "    }\n",
    "    ref_exp = exprs_norm[, idx_ref]\n",
    "    ref_metadata = meta_data[idx_ref, ]\n",
    "    saveRDS(ref_exp, paste0('benchmark_datasets/', 'ref_exp_', n, '.rds'))\n",
    "    saveRDS(ref_metadata, paste0('benchmark_datasets/', 'ref_metadata_', n, '.rds'))\n",
    "}"
   ]
  },
  {
   "cell_type": "code",
   "execution_count": 4,
   "metadata": {},
   "outputs": [],
   "source": [
    "# Make query datasets\n",
    "for (m in c(1000, 10000, 100000)) {\n",
    "    if (m == 100000) {\n",
    "        # limit to batches 1-11 (64 donors, 106658 cells)\n",
    "        idx_query = which(meta_data$batch <= 11)\n",
    "        idx_query = sample(idx_query, m)\n",
    "    } else if (m == 10000) {\n",
    "        # limit to batch 1 (6 donors, 10075 cells)\n",
    "        idx_query = which(meta_data$batch <= 1)\n",
    "        idx_query = sample(idx_query, m)\n",
    "    } else if (m == 1000) {\n",
    "        # limit to batch 1, donor 1 (2230 cells)\n",
    "        idx_query = which(meta_data$batch <= 1 & meta_data$donor == 'M0007178-8')\n",
    "        idx_query = sample(idx_query, m)\n",
    "    }\n",
    "    query_exp = exprs_norm[, idx_query]\n",
    "    query_metadata = meta_data[idx_query, ]\n",
    "    saveRDS(query_exp, paste0('benchmark_datasets/', 'query_exp_', m, '.rds'))\n",
    "    saveRDS(query_metadata, paste0('benchmark_datasets/', 'query_metadata_', m, '.rds'))\n",
    "}"
   ]
  },
  {
   "cell_type": "markdown",
   "metadata": {},
   "source": [
    "To avoid a Seurat warning, we need to make sure that for the 500,000 cell reference dataset, we change the rownames so there are no duplicate rownames."
   ]
  },
  {
   "cell_type": "code",
   "execution_count": 4,
   "metadata": {},
   "outputs": [],
   "source": [
    "n = 5e+5\n",
    "ref_5k = readRDS(paste0('benchmark_datasets/', 'ref_exp_', n, '.rds'))\n",
    "meta_5k = readRDS(paste0('benchmark_datasets/', 'ref_metadata_', n, '.rds'))"
   ]
  },
  {
   "cell_type": "code",
   "execution_count": 5,
   "metadata": {},
   "outputs": [
    {
     "data": {
      "text/plain": [
       "5 x 5 sparse Matrix of class \"dgCMatrix\"\n",
       "            CCACCATGTTGCCGAC-7_A CCTAACCAGCTTTCCC-18_A TGTAACGCATGTGTCA-30_A\n",
       "MIR1302-2HG                    .                     .                     .\n",
       "FAM138A                        .                     .                     .\n",
       "OR4F5                          .                     .                     .\n",
       "AL627309.1                     .                     .                     .\n",
       "AL627309.3                     .                     .                     .\n",
       "            GTCGAATTCAACGCTA-21_A TGCGACGTCTTAGCAG-38_A\n",
       "MIR1302-2HG                     .                     .\n",
       "FAM138A                         .                     .\n",
       "OR4F5                           .                     .\n",
       "AL627309.1                      .                     .\n",
       "AL627309.3                      .                     ."
      ]
     },
     "metadata": {},
     "output_type": "display_data"
    },
    {
     "data": {
      "text/html": [
       "<table class=\"dataframe\">\n",
       "<caption>A data.table: 6 × 12</caption>\n",
       "<thead>\n",
       "\t<tr><th scope=col>cell_id</th><th scope=col>dummy</th><th scope=col>nUMI</th><th scope=col>nGene</th><th scope=col>percent_mito</th><th scope=col>demux</th><th scope=col>donor</th><th scope=col>id</th><th scope=col>qc</th><th scope=col>batch</th><th scope=col>correct</th><th scope=col>memTgate</th></tr>\n",
       "\t<tr><th scope=col>&lt;chr&gt;</th><th scope=col>&lt;chr&gt;</th><th scope=col>&lt;dbl&gt;</th><th scope=col>&lt;int&gt;</th><th scope=col>&lt;dbl&gt;</th><th scope=col>&lt;lgl&gt;</th><th scope=col>&lt;chr&gt;</th><th scope=col>&lt;chr&gt;</th><th scope=col>&lt;lgl&gt;</th><th scope=col>&lt;dbl&gt;</th><th scope=col>&lt;lgl&gt;</th><th scope=col>&lt;lgl&gt;</th></tr>\n",
       "</thead>\n",
       "<tbody>\n",
       "\t<tr><td>CCACCATGTTGCCGAC-7_A </td><td>A</td><td>7455</td><td>2218</td><td>0.06116700</td><td>TRUE</td><td>M0015237-2</td><td>M0015237-2-7 </td><td>TRUE</td><td> 7</td><td>TRUE</td><td>TRUE</td></tr>\n",
       "\t<tr><td>CCTAACCAGCTTTCCC-18_A</td><td>A</td><td>6164</td><td>2193</td><td>0.06164828</td><td>TRUE</td><td>M0011982-7</td><td>M0011982-7-18</td><td>TRUE</td><td>18</td><td>TRUE</td><td>TRUE</td></tr>\n",
       "\t<tr><td>TGTAACGCATGTGTCA-30_A</td><td>A</td><td>6710</td><td>1872</td><td>0.07242921</td><td>TRUE</td><td>M0007803-1</td><td>M0007803-1-30</td><td>TRUE</td><td>30</td><td>TRUE</td><td>TRUE</td></tr>\n",
       "\t<tr><td>GTCGAATTCAACGCTA-21_A</td><td>A</td><td>7481</td><td>1744</td><td>0.09731319</td><td>TRUE</td><td>M0009413-7</td><td>M0009413-7-21</td><td>TRUE</td><td>21</td><td>TRUE</td><td>TRUE</td></tr>\n",
       "\t<tr><td>TGCGACGTCTTAGCAG-38_A</td><td>A</td><td>6479</td><td>1910</td><td>0.05726192</td><td>TRUE</td><td>M0012428-0</td><td>M0012428-0-38</td><td>TRUE</td><td>38</td><td>TRUE</td><td>TRUE</td></tr>\n",
       "\t<tr><td>TGTTGGAAGTTGTAAG-44_A</td><td>A</td><td>4416</td><td>1200</td><td>0.08401268</td><td>TRUE</td><td>M0019109-9</td><td>M0019109-9-44</td><td>TRUE</td><td>44</td><td>TRUE</td><td>TRUE</td></tr>\n",
       "</tbody>\n",
       "</table>\n"
      ],
      "text/latex": [
       "A data.table: 6 × 12\n",
       "\\begin{tabular}{llllllllllll}\n",
       " cell\\_id & dummy & nUMI & nGene & percent\\_mito & demux & donor & id & qc & batch & correct & memTgate\\\\\n",
       " <chr> & <chr> & <dbl> & <int> & <dbl> & <lgl> & <chr> & <chr> & <lgl> & <dbl> & <lgl> & <lgl>\\\\\n",
       "\\hline\n",
       "\t CCACCATGTTGCCGAC-7\\_A  & A & 7455 & 2218 & 0.06116700 & TRUE & M0015237-2 & M0015237-2-7  & TRUE &  7 & TRUE & TRUE\\\\\n",
       "\t CCTAACCAGCTTTCCC-18\\_A & A & 6164 & 2193 & 0.06164828 & TRUE & M0011982-7 & M0011982-7-18 & TRUE & 18 & TRUE & TRUE\\\\\n",
       "\t TGTAACGCATGTGTCA-30\\_A & A & 6710 & 1872 & 0.07242921 & TRUE & M0007803-1 & M0007803-1-30 & TRUE & 30 & TRUE & TRUE\\\\\n",
       "\t GTCGAATTCAACGCTA-21\\_A & A & 7481 & 1744 & 0.09731319 & TRUE & M0009413-7 & M0009413-7-21 & TRUE & 21 & TRUE & TRUE\\\\\n",
       "\t TGCGACGTCTTAGCAG-38\\_A & A & 6479 & 1910 & 0.05726192 & TRUE & M0012428-0 & M0012428-0-38 & TRUE & 38 & TRUE & TRUE\\\\\n",
       "\t TGTTGGAAGTTGTAAG-44\\_A & A & 4416 & 1200 & 0.08401268 & TRUE & M0019109-9 & M0019109-9-44 & TRUE & 44 & TRUE & TRUE\\\\\n",
       "\\end{tabular}\n"
      ],
      "text/markdown": [
       "\n",
       "A data.table: 6 × 12\n",
       "\n",
       "| cell_id &lt;chr&gt; | dummy &lt;chr&gt; | nUMI &lt;dbl&gt; | nGene &lt;int&gt; | percent_mito &lt;dbl&gt; | demux &lt;lgl&gt; | donor &lt;chr&gt; | id &lt;chr&gt; | qc &lt;lgl&gt; | batch &lt;dbl&gt; | correct &lt;lgl&gt; | memTgate &lt;lgl&gt; |\n",
       "|---|---|---|---|---|---|---|---|---|---|---|---|\n",
       "| CCACCATGTTGCCGAC-7_A  | A | 7455 | 2218 | 0.06116700 | TRUE | M0015237-2 | M0015237-2-7  | TRUE |  7 | TRUE | TRUE |\n",
       "| CCTAACCAGCTTTCCC-18_A | A | 6164 | 2193 | 0.06164828 | TRUE | M0011982-7 | M0011982-7-18 | TRUE | 18 | TRUE | TRUE |\n",
       "| TGTAACGCATGTGTCA-30_A | A | 6710 | 1872 | 0.07242921 | TRUE | M0007803-1 | M0007803-1-30 | TRUE | 30 | TRUE | TRUE |\n",
       "| GTCGAATTCAACGCTA-21_A | A | 7481 | 1744 | 0.09731319 | TRUE | M0009413-7 | M0009413-7-21 | TRUE | 21 | TRUE | TRUE |\n",
       "| TGCGACGTCTTAGCAG-38_A | A | 6479 | 1910 | 0.05726192 | TRUE | M0012428-0 | M0012428-0-38 | TRUE | 38 | TRUE | TRUE |\n",
       "| TGTTGGAAGTTGTAAG-44_A | A | 4416 | 1200 | 0.08401268 | TRUE | M0019109-9 | M0019109-9-44 | TRUE | 44 | TRUE | TRUE |\n",
       "\n"
      ],
      "text/plain": [
       "  cell_id               dummy nUMI nGene percent_mito demux donor     \n",
       "1 CCACCATGTTGCCGAC-7_A  A     7455 2218  0.06116700   TRUE  M0015237-2\n",
       "2 CCTAACCAGCTTTCCC-18_A A     6164 2193  0.06164828   TRUE  M0011982-7\n",
       "3 TGTAACGCATGTGTCA-30_A A     6710 1872  0.07242921   TRUE  M0007803-1\n",
       "4 GTCGAATTCAACGCTA-21_A A     7481 1744  0.09731319   TRUE  M0009413-7\n",
       "5 TGCGACGTCTTAGCAG-38_A A     6479 1910  0.05726192   TRUE  M0012428-0\n",
       "6 TGTTGGAAGTTGTAAG-44_A A     4416 1200  0.08401268   TRUE  M0019109-9\n",
       "  id            qc   batch correct memTgate\n",
       "1 M0015237-2-7  TRUE  7    TRUE    TRUE    \n",
       "2 M0011982-7-18 TRUE 18    TRUE    TRUE    \n",
       "3 M0007803-1-30 TRUE 30    TRUE    TRUE    \n",
       "4 M0009413-7-21 TRUE 21    TRUE    TRUE    \n",
       "5 M0012428-0-38 TRUE 38    TRUE    TRUE    \n",
       "6 M0019109-9-44 TRUE 44    TRUE    TRUE    "
      ]
     },
     "metadata": {},
     "output_type": "display_data"
    }
   ],
   "source": [
    "colnames(ref_5k) = paste0(colnames(ref_5k), '_A')\n",
    "meta_5k$cell_id = paste0(meta_5k$cell_id, '_A')\n",
    "ref_5k[1:5, 1:5]\n",
    "meta_5k %>% head()"
   ]
  },
  {
   "cell_type": "code",
   "execution_count": 6,
   "metadata": {},
   "outputs": [],
   "source": [
    "saveRDS(ref_5k, paste0('benchmark_datasets/', 'ref_exp_', n, '.rds'))\n",
    "saveRDS(meta_5k, paste0('benchmark_datasets/', 'ref_metadata_', n, '.rds'))"
   ]
  },
  {
   "cell_type": "markdown",
   "metadata": {},
   "source": [
    "## Run Symphony/Harmony experiments on standard reference-sized datasets:"
   ]
  },
  {
   "cell_type": "code",
   "execution_count": 7,
   "metadata": {},
   "outputs": [],
   "source": [
    "# Build and submit the scripts\n",
    "ref_sizes = c(20000, 50000, 100000, 250000, 500000)\n",
    "query_sizes = c(1000, 10000, 100000)"
   ]
  },
  {
   "cell_type": "code",
   "execution_count": 14,
   "metadata": {
    "scrolled": true,
    "tags": []
   },
   "outputs": [
    {
     "name": "stdout",
     "output_type": "stream",
     "text": [
      "[1] \"bsub -R \\\"select[hname!=cn044]\\\" -R \\\"select[hname!=cn045]\\\" -R \\\"select[hname!=cn001]\\\" -R \\\"select[hname!=cn002]\\\" -R \\\"select[hname!=cn003]\\\" -R \\\"select[hname!=cn004]\\\" -R \\\"select[hname!=cn005]\\\" -q big-multi -n 4 -o  /data/srlab2/jkang/symphony_reproducibility/runtime/results/symphony_q=1000_r=20000  -M 64000 -R 'rusage[mem=64000]' \\\"Rscript run_symphony.R 1000 20000 \\\"\"\n",
      "[1] \"bsub -R \\\"select[hname!=cn044]\\\" -R \\\"select[hname!=cn045]\\\" -R \\\"select[hname!=cn001]\\\" -R \\\"select[hname!=cn002]\\\" -R \\\"select[hname!=cn003]\\\" -R \\\"select[hname!=cn004]\\\" -R \\\"select[hname!=cn005]\\\" -q big-multi -n 4 -o  /data/srlab2/jkang/symphony_reproducibility/runtime/results/harmony_q=1000_r=20000  -M 64000 -R 'rusage[mem=64000]' \\\"Rscript run_harmony.R 1000 20000 \\\"\"\n",
      "[1] \"bsub -R \\\"select[hname!=cn044]\\\" -R \\\"select[hname!=cn045]\\\" -R \\\"select[hname!=cn001]\\\" -R \\\"select[hname!=cn002]\\\" -R \\\"select[hname!=cn003]\\\" -R \\\"select[hname!=cn004]\\\" -R \\\"select[hname!=cn005]\\\" -q big-multi -n 4 -o  /data/srlab2/jkang/symphony_reproducibility/runtime/results/symphony_q=10000_r=20000  -M 64000 -R 'rusage[mem=64000]' \\\"Rscript run_symphony.R 10000 20000 \\\"\"\n",
      "[1] \"bsub -R \\\"select[hname!=cn044]\\\" -R \\\"select[hname!=cn045]\\\" -R \\\"select[hname!=cn001]\\\" -R \\\"select[hname!=cn002]\\\" -R \\\"select[hname!=cn003]\\\" -R \\\"select[hname!=cn004]\\\" -R \\\"select[hname!=cn005]\\\" -q big-multi -n 4 -o  /data/srlab2/jkang/symphony_reproducibility/runtime/results/harmony_q=10000_r=20000  -M 64000 -R 'rusage[mem=64000]' \\\"Rscript run_harmony.R 10000 20000 \\\"\"\n",
      "[1] \"bsub -R \\\"select[hname!=cn044]\\\" -R \\\"select[hname!=cn045]\\\" -R \\\"select[hname!=cn001]\\\" -R \\\"select[hname!=cn002]\\\" -R \\\"select[hname!=cn003]\\\" -R \\\"select[hname!=cn004]\\\" -R \\\"select[hname!=cn005]\\\" -q big-multi -n 4 -o  /data/srlab2/jkang/symphony_reproducibility/runtime/results/symphony_q=1e+05_r=20000  -M 64000 -R 'rusage[mem=64000]' \\\"Rscript run_symphony.R 1e+05 20000 \\\"\"\n",
      "[1] \"bsub -R \\\"select[hname!=cn044]\\\" -R \\\"select[hname!=cn045]\\\" -R \\\"select[hname!=cn001]\\\" -R \\\"select[hname!=cn002]\\\" -R \\\"select[hname!=cn003]\\\" -R \\\"select[hname!=cn004]\\\" -R \\\"select[hname!=cn005]\\\" -q big-multi -n 4 -o  /data/srlab2/jkang/symphony_reproducibility/runtime/results/harmony_q=1e+05_r=20000  -M 64000 -R 'rusage[mem=64000]' \\\"Rscript run_harmony.R 1e+05 20000 \\\"\"\n",
      "[1] \"bsub -R \\\"select[hname!=cn044]\\\" -R \\\"select[hname!=cn045]\\\" -R \\\"select[hname!=cn001]\\\" -R \\\"select[hname!=cn002]\\\" -R \\\"select[hname!=cn003]\\\" -R \\\"select[hname!=cn004]\\\" -R \\\"select[hname!=cn005]\\\" -q big-multi -n 4 -o  /data/srlab2/jkang/symphony_reproducibility/runtime/results/symphony_q=1000_r=50000  -M 64000 -R 'rusage[mem=64000]' \\\"Rscript run_symphony.R 1000 50000 \\\"\"\n",
      "[1] \"bsub -R \\\"select[hname!=cn044]\\\" -R \\\"select[hname!=cn045]\\\" -R \\\"select[hname!=cn001]\\\" -R \\\"select[hname!=cn002]\\\" -R \\\"select[hname!=cn003]\\\" -R \\\"select[hname!=cn004]\\\" -R \\\"select[hname!=cn005]\\\" -q big-multi -n 4 -o  /data/srlab2/jkang/symphony_reproducibility/runtime/results/harmony_q=1000_r=50000  -M 64000 -R 'rusage[mem=64000]' \\\"Rscript run_harmony.R 1000 50000 \\\"\"\n",
      "[1] \"bsub -R \\\"select[hname!=cn044]\\\" -R \\\"select[hname!=cn045]\\\" -R \\\"select[hname!=cn001]\\\" -R \\\"select[hname!=cn002]\\\" -R \\\"select[hname!=cn003]\\\" -R \\\"select[hname!=cn004]\\\" -R \\\"select[hname!=cn005]\\\" -q big-multi -n 4 -o  /data/srlab2/jkang/symphony_reproducibility/runtime/results/symphony_q=10000_r=50000  -M 64000 -R 'rusage[mem=64000]' \\\"Rscript run_symphony.R 10000 50000 \\\"\"\n",
      "[1] \"bsub -R \\\"select[hname!=cn044]\\\" -R \\\"select[hname!=cn045]\\\" -R \\\"select[hname!=cn001]\\\" -R \\\"select[hname!=cn002]\\\" -R \\\"select[hname!=cn003]\\\" -R \\\"select[hname!=cn004]\\\" -R \\\"select[hname!=cn005]\\\" -q big-multi -n 4 -o  /data/srlab2/jkang/symphony_reproducibility/runtime/results/harmony_q=10000_r=50000  -M 64000 -R 'rusage[mem=64000]' \\\"Rscript run_harmony.R 10000 50000 \\\"\"\n",
      "[1] \"bsub -R \\\"select[hname!=cn044]\\\" -R \\\"select[hname!=cn045]\\\" -R \\\"select[hname!=cn001]\\\" -R \\\"select[hname!=cn002]\\\" -R \\\"select[hname!=cn003]\\\" -R \\\"select[hname!=cn004]\\\" -R \\\"select[hname!=cn005]\\\" -q big-multi -n 4 -o  /data/srlab2/jkang/symphony_reproducibility/runtime/results/symphony_q=1e+05_r=50000  -M 64000 -R 'rusage[mem=64000]' \\\"Rscript run_symphony.R 1e+05 50000 \\\"\"\n",
      "[1] \"bsub -R \\\"select[hname!=cn044]\\\" -R \\\"select[hname!=cn045]\\\" -R \\\"select[hname!=cn001]\\\" -R \\\"select[hname!=cn002]\\\" -R \\\"select[hname!=cn003]\\\" -R \\\"select[hname!=cn004]\\\" -R \\\"select[hname!=cn005]\\\" -q big-multi -n 4 -o  /data/srlab2/jkang/symphony_reproducibility/runtime/results/harmony_q=1e+05_r=50000  -M 64000 -R 'rusage[mem=64000]' \\\"Rscript run_harmony.R 1e+05 50000 \\\"\"\n",
      "[1] \"bsub -R \\\"select[hname!=cn044]\\\" -R \\\"select[hname!=cn045]\\\" -R \\\"select[hname!=cn001]\\\" -R \\\"select[hname!=cn002]\\\" -R \\\"select[hname!=cn003]\\\" -R \\\"select[hname!=cn004]\\\" -R \\\"select[hname!=cn005]\\\" -q big-multi -n 4 -o  /data/srlab2/jkang/symphony_reproducibility/runtime/results/symphony_q=1000_r=1e+05  -M 64000 -R 'rusage[mem=64000]' \\\"Rscript run_symphony.R 1000 1e+05 \\\"\"\n",
      "[1] \"bsub -R \\\"select[hname!=cn044]\\\" -R \\\"select[hname!=cn045]\\\" -R \\\"select[hname!=cn001]\\\" -R \\\"select[hname!=cn002]\\\" -R \\\"select[hname!=cn003]\\\" -R \\\"select[hname!=cn004]\\\" -R \\\"select[hname!=cn005]\\\" -q big-multi -n 4 -o  /data/srlab2/jkang/symphony_reproducibility/runtime/results/harmony_q=1000_r=1e+05  -M 64000 -R 'rusage[mem=64000]' \\\"Rscript run_harmony.R 1000 1e+05 \\\"\"\n",
      "[1] \"bsub -R \\\"select[hname!=cn044]\\\" -R \\\"select[hname!=cn045]\\\" -R \\\"select[hname!=cn001]\\\" -R \\\"select[hname!=cn002]\\\" -R \\\"select[hname!=cn003]\\\" -R \\\"select[hname!=cn004]\\\" -R \\\"select[hname!=cn005]\\\" -q big-multi -n 4 -o  /data/srlab2/jkang/symphony_reproducibility/runtime/results/symphony_q=10000_r=1e+05  -M 64000 -R 'rusage[mem=64000]' \\\"Rscript run_symphony.R 10000 1e+05 \\\"\"\n",
      "[1] \"bsub -R \\\"select[hname!=cn044]\\\" -R \\\"select[hname!=cn045]\\\" -R \\\"select[hname!=cn001]\\\" -R \\\"select[hname!=cn002]\\\" -R \\\"select[hname!=cn003]\\\" -R \\\"select[hname!=cn004]\\\" -R \\\"select[hname!=cn005]\\\" -q big-multi -n 4 -o  /data/srlab2/jkang/symphony_reproducibility/runtime/results/harmony_q=10000_r=1e+05  -M 64000 -R 'rusage[mem=64000]' \\\"Rscript run_harmony.R 10000 1e+05 \\\"\"\n",
      "[1] \"bsub -R \\\"select[hname!=cn044]\\\" -R \\\"select[hname!=cn045]\\\" -R \\\"select[hname!=cn001]\\\" -R \\\"select[hname!=cn002]\\\" -R \\\"select[hname!=cn003]\\\" -R \\\"select[hname!=cn004]\\\" -R \\\"select[hname!=cn005]\\\" -q big-multi -n 4 -o  /data/srlab2/jkang/symphony_reproducibility/runtime/results/symphony_q=1e+05_r=1e+05  -M 64000 -R 'rusage[mem=64000]' \\\"Rscript run_symphony.R 1e+05 1e+05 \\\"\"\n",
      "[1] \"bsub -R \\\"select[hname!=cn044]\\\" -R \\\"select[hname!=cn045]\\\" -R \\\"select[hname!=cn001]\\\" -R \\\"select[hname!=cn002]\\\" -R \\\"select[hname!=cn003]\\\" -R \\\"select[hname!=cn004]\\\" -R \\\"select[hname!=cn005]\\\" -q big-multi -n 4 -o  /data/srlab2/jkang/symphony_reproducibility/runtime/results/harmony_q=1e+05_r=1e+05  -M 64000 -R 'rusage[mem=64000]' \\\"Rscript run_harmony.R 1e+05 1e+05 \\\"\"\n",
      "[1] \"bsub -R \\\"select[hname!=cn044]\\\" -R \\\"select[hname!=cn045]\\\" -R \\\"select[hname!=cn001]\\\" -R \\\"select[hname!=cn002]\\\" -R \\\"select[hname!=cn003]\\\" -R \\\"select[hname!=cn004]\\\" -R \\\"select[hname!=cn005]\\\" -q big-multi -n 4 -o  /data/srlab2/jkang/symphony_reproducibility/runtime/results/symphony_q=1000_r=250000  -M 64000 -R 'rusage[mem=64000]' \\\"Rscript run_symphony.R 1000 250000 \\\"\"\n",
      "[1] \"bsub -R \\\"select[hname!=cn044]\\\" -R \\\"select[hname!=cn045]\\\" -R \\\"select[hname!=cn001]\\\" -R \\\"select[hname!=cn002]\\\" -R \\\"select[hname!=cn003]\\\" -R \\\"select[hname!=cn004]\\\" -R \\\"select[hname!=cn005]\\\" -q big-multi -n 4 -o  /data/srlab2/jkang/symphony_reproducibility/runtime/results/harmony_q=1000_r=250000  -M 64000 -R 'rusage[mem=64000]' \\\"Rscript run_harmony.R 1000 250000 \\\"\"\n",
      "[1] \"bsub -R \\\"select[hname!=cn044]\\\" -R \\\"select[hname!=cn045]\\\" -R \\\"select[hname!=cn001]\\\" -R \\\"select[hname!=cn002]\\\" -R \\\"select[hname!=cn003]\\\" -R \\\"select[hname!=cn004]\\\" -R \\\"select[hname!=cn005]\\\" -q big-multi -n 4 -o  /data/srlab2/jkang/symphony_reproducibility/runtime/results/symphony_q=10000_r=250000  -M 64000 -R 'rusage[mem=64000]' \\\"Rscript run_symphony.R 10000 250000 \\\"\"\n",
      "[1] \"bsub -R \\\"select[hname!=cn044]\\\" -R \\\"select[hname!=cn045]\\\" -R \\\"select[hname!=cn001]\\\" -R \\\"select[hname!=cn002]\\\" -R \\\"select[hname!=cn003]\\\" -R \\\"select[hname!=cn004]\\\" -R \\\"select[hname!=cn005]\\\" -q big-multi -n 4 -o  /data/srlab2/jkang/symphony_reproducibility/runtime/results/harmony_q=10000_r=250000  -M 64000 -R 'rusage[mem=64000]' \\\"Rscript run_harmony.R 10000 250000 \\\"\"\n",
      "[1] \"bsub -R \\\"select[hname!=cn044]\\\" -R \\\"select[hname!=cn045]\\\" -R \\\"select[hname!=cn001]\\\" -R \\\"select[hname!=cn002]\\\" -R \\\"select[hname!=cn003]\\\" -R \\\"select[hname!=cn004]\\\" -R \\\"select[hname!=cn005]\\\" -q big-multi -n 4 -o  /data/srlab2/jkang/symphony_reproducibility/runtime/results/symphony_q=1e+05_r=250000  -M 64000 -R 'rusage[mem=64000]' \\\"Rscript run_symphony.R 1e+05 250000 \\\"\"\n",
      "[1] \"bsub -R \\\"select[hname!=cn044]\\\" -R \\\"select[hname!=cn045]\\\" -R \\\"select[hname!=cn001]\\\" -R \\\"select[hname!=cn002]\\\" -R \\\"select[hname!=cn003]\\\" -R \\\"select[hname!=cn004]\\\" -R \\\"select[hname!=cn005]\\\" -q big-multi -n 4 -o  /data/srlab2/jkang/symphony_reproducibility/runtime/results/harmony_q=1e+05_r=250000  -M 64000 -R 'rusage[mem=64000]' \\\"Rscript run_harmony.R 1e+05 250000 \\\"\"\n",
      "[1] \"bsub -R \\\"select[hname!=cn044]\\\" -R \\\"select[hname!=cn045]\\\" -R \\\"select[hname!=cn001]\\\" -R \\\"select[hname!=cn002]\\\" -R \\\"select[hname!=cn003]\\\" -R \\\"select[hname!=cn004]\\\" -R \\\"select[hname!=cn005]\\\" -q big-multi -n 4 -o  /data/srlab2/jkang/symphony_reproducibility/runtime/results/symphony_q=1000_r=5e+05  -M 64000 -R 'rusage[mem=64000]' \\\"Rscript run_symphony.R 1000 5e+05 \\\"\"\n",
      "[1] \"bsub -R \\\"select[hname!=cn044]\\\" -R \\\"select[hname!=cn045]\\\" -R \\\"select[hname!=cn001]\\\" -R \\\"select[hname!=cn002]\\\" -R \\\"select[hname!=cn003]\\\" -R \\\"select[hname!=cn004]\\\" -R \\\"select[hname!=cn005]\\\" -q big-multi -n 4 -o  /data/srlab2/jkang/symphony_reproducibility/runtime/results/harmony_q=1000_r=5e+05  -M 64000 -R 'rusage[mem=64000]' \\\"Rscript run_harmony.R 1000 5e+05 \\\"\"\n",
      "[1] \"bsub -R \\\"select[hname!=cn044]\\\" -R \\\"select[hname!=cn045]\\\" -R \\\"select[hname!=cn001]\\\" -R \\\"select[hname!=cn002]\\\" -R \\\"select[hname!=cn003]\\\" -R \\\"select[hname!=cn004]\\\" -R \\\"select[hname!=cn005]\\\" -q big-multi -n 4 -o  /data/srlab2/jkang/symphony_reproducibility/runtime/results/symphony_q=10000_r=5e+05  -M 64000 -R 'rusage[mem=64000]' \\\"Rscript run_symphony.R 10000 5e+05 \\\"\"\n",
      "[1] \"bsub -R \\\"select[hname!=cn044]\\\" -R \\\"select[hname!=cn045]\\\" -R \\\"select[hname!=cn001]\\\" -R \\\"select[hname!=cn002]\\\" -R \\\"select[hname!=cn003]\\\" -R \\\"select[hname!=cn004]\\\" -R \\\"select[hname!=cn005]\\\" -q big-multi -n 4 -o  /data/srlab2/jkang/symphony_reproducibility/runtime/results/harmony_q=10000_r=5e+05  -M 64000 -R 'rusage[mem=64000]' \\\"Rscript run_harmony.R 10000 5e+05 \\\"\"\n",
      "[1] \"bsub -R \\\"select[hname!=cn044]\\\" -R \\\"select[hname!=cn045]\\\" -R \\\"select[hname!=cn001]\\\" -R \\\"select[hname!=cn002]\\\" -R \\\"select[hname!=cn003]\\\" -R \\\"select[hname!=cn004]\\\" -R \\\"select[hname!=cn005]\\\" -q big-multi -n 4 -o  /data/srlab2/jkang/symphony_reproducibility/runtime/results/symphony_q=1e+05_r=5e+05  -M 64000 -R 'rusage[mem=64000]' \\\"Rscript run_symphony.R 1e+05 5e+05 \\\"\"\n",
      "[1] \"bsub -R \\\"select[hname!=cn044]\\\" -R \\\"select[hname!=cn045]\\\" -R \\\"select[hname!=cn001]\\\" -R \\\"select[hname!=cn002]\\\" -R \\\"select[hname!=cn003]\\\" -R \\\"select[hname!=cn004]\\\" -R \\\"select[hname!=cn005]\\\" -q big-multi -n 4 -o  /data/srlab2/jkang/symphony_reproducibility/runtime/results/harmony_q=1e+05_r=5e+05  -M 64000 -R 'rusage[mem=64000]' \\\"Rscript run_harmony.R 1e+05 5e+05 \\\"\"\n"
     ]
    }
   ],
   "source": [
    "avoid_clusters = '-R \\\"select[hname!=cn044]\\\" -R \\\"select[hname!=cn045]\\\" -R \\\"select[hname!=cn001]\\\" -R \\\"select[hname!=cn002]\\\" -R \\\"select[hname!=cn003]\\\" -R \\\"select[hname!=cn004]\\\" -R \\\"select[hname!=cn005]\\\"'\n",
    "for (r in ref_sizes) {\n",
    "    for (q in query_sizes) {\n",
    "        prefix = '/data/srlab2/jkang/symphony_reproducibility/runtime/results/'\n",
    "        \n",
    "        filename = paste0(prefix, 'symphony_', 'q=', q, '_r=', r)\n",
    "        p = paste('bsub', avoid_clusters, '-q big-multi -n 4 -o ', filename, ' -M 64000 -R \\'rusage[mem=64000]\\' \"Rscript run_symphony.R', q, r, \"\\\"\")\n",
    "        print(p)\n",
    "        system(p)\n",
    "            \n",
    "        filename = paste0(prefix, 'harmony_', 'q=', q, '_r=', r)\n",
    "        p = paste('bsub', avoid_clusters, '-q big-multi -n 4 -o ', filename, ' -M 64000 -R \\'rusage[mem=64000]\\' \"Rscript run_harmony.R', q, r, \"\\\"\")\n",
    "        print(p)\n",
    "        system(p)\n",
    "    }\n",
    "}"
   ]
  },
  {
   "cell_type": "markdown",
   "metadata": {},
   "source": [
    "## Run Seurat experiments on standard reference-sized datasets:"
   ]
  },
  {
   "cell_type": "code",
   "execution_count": 2,
   "metadata": {},
   "outputs": [],
   "source": [
    "# Build and submit the scripts\n",
    "ref_sizes = c(20000, 50000, 100000, 250000, 500000)\n",
    "query_sizes = c(1000, 10000, 100000)"
   ]
  },
  {
   "cell_type": "markdown",
   "metadata": {},
   "source": [
    "Run Seurat de novo experiments"
   ]
  },
  {
   "cell_type": "code",
   "execution_count": 3,
   "metadata": {
    "scrolled": true,
    "tags": []
   },
   "outputs": [
    {
     "name": "stdout",
     "output_type": "stream",
     "text": [
      "[1] \"bsub -R \\\"select[hname!=cn044]\\\" -R \\\"select[hname!=cn045]\\\" -R \\\"select[hname!=cn001]\\\" -R \\\"select[hname!=cn002]\\\" -R \\\"select[hname!=cn003]\\\" -R \\\"select[hname!=cn004]\\\" -R \\\"select[hname!=cn005]\\\" -q big-multi -n 4 -o  /data/srlab2/jkang/symphony_reproducibility/runtime/results/seurat_de_novo_q=1000_r=20000_output_120GB -M 120000 -R 'rusage[mem=120000]' \\\"Rscript run_Seurat_de_novo.R 1000 20000 \\\"\"\n",
      "[1] \"bsub -R \\\"select[hname!=cn044]\\\" -R \\\"select[hname!=cn045]\\\" -R \\\"select[hname!=cn001]\\\" -R \\\"select[hname!=cn002]\\\" -R \\\"select[hname!=cn003]\\\" -R \\\"select[hname!=cn004]\\\" -R \\\"select[hname!=cn005]\\\" -q big-multi -n 4 -o  /data/srlab2/jkang/symphony_reproducibility/runtime/results/seurat_de_novo_q=10000_r=20000_output_120GB -M 120000 -R 'rusage[mem=120000]' \\\"Rscript run_Seurat_de_novo.R 10000 20000 \\\"\"\n",
      "[1] \"bsub -R \\\"select[hname!=cn044]\\\" -R \\\"select[hname!=cn045]\\\" -R \\\"select[hname!=cn001]\\\" -R \\\"select[hname!=cn002]\\\" -R \\\"select[hname!=cn003]\\\" -R \\\"select[hname!=cn004]\\\" -R \\\"select[hname!=cn005]\\\" -q big-multi -n 4 -o  /data/srlab2/jkang/symphony_reproducibility/runtime/results/seurat_de_novo_q=1e+05_r=20000_output_120GB -M 120000 -R 'rusage[mem=120000]' \\\"Rscript run_Seurat_de_novo.R 1e+05 20000 \\\"\"\n",
      "[1] \"bsub -R \\\"select[hname!=cn044]\\\" -R \\\"select[hname!=cn045]\\\" -R \\\"select[hname!=cn001]\\\" -R \\\"select[hname!=cn002]\\\" -R \\\"select[hname!=cn003]\\\" -R \\\"select[hname!=cn004]\\\" -R \\\"select[hname!=cn005]\\\" -q big-multi -n 4 -o  /data/srlab2/jkang/symphony_reproducibility/runtime/results/seurat_de_novo_q=1000_r=50000_output_120GB -M 120000 -R 'rusage[mem=120000]' \\\"Rscript run_Seurat_de_novo.R 1000 50000 \\\"\"\n",
      "[1] \"bsub -R \\\"select[hname!=cn044]\\\" -R \\\"select[hname!=cn045]\\\" -R \\\"select[hname!=cn001]\\\" -R \\\"select[hname!=cn002]\\\" -R \\\"select[hname!=cn003]\\\" -R \\\"select[hname!=cn004]\\\" -R \\\"select[hname!=cn005]\\\" -q big-multi -n 4 -o  /data/srlab2/jkang/symphony_reproducibility/runtime/results/seurat_de_novo_q=10000_r=50000_output_120GB -M 120000 -R 'rusage[mem=120000]' \\\"Rscript run_Seurat_de_novo.R 10000 50000 \\\"\"\n",
      "[1] \"bsub -R \\\"select[hname!=cn044]\\\" -R \\\"select[hname!=cn045]\\\" -R \\\"select[hname!=cn001]\\\" -R \\\"select[hname!=cn002]\\\" -R \\\"select[hname!=cn003]\\\" -R \\\"select[hname!=cn004]\\\" -R \\\"select[hname!=cn005]\\\" -q big-multi -n 4 -o  /data/srlab2/jkang/symphony_reproducibility/runtime/results/seurat_de_novo_q=1e+05_r=50000_output_120GB -M 120000 -R 'rusage[mem=120000]' \\\"Rscript run_Seurat_de_novo.R 1e+05 50000 \\\"\"\n",
      "[1] \"bsub -R \\\"select[hname!=cn044]\\\" -R \\\"select[hname!=cn045]\\\" -R \\\"select[hname!=cn001]\\\" -R \\\"select[hname!=cn002]\\\" -R \\\"select[hname!=cn003]\\\" -R \\\"select[hname!=cn004]\\\" -R \\\"select[hname!=cn005]\\\" -q big-multi -n 4 -o  /data/srlab2/jkang/symphony_reproducibility/runtime/results/seurat_de_novo_q=1000_r=1e+05_output_120GB -M 120000 -R 'rusage[mem=120000]' \\\"Rscript run_Seurat_de_novo.R 1000 1e+05 \\\"\"\n",
      "[1] \"bsub -R \\\"select[hname!=cn044]\\\" -R \\\"select[hname!=cn045]\\\" -R \\\"select[hname!=cn001]\\\" -R \\\"select[hname!=cn002]\\\" -R \\\"select[hname!=cn003]\\\" -R \\\"select[hname!=cn004]\\\" -R \\\"select[hname!=cn005]\\\" -q big-multi -n 4 -o  /data/srlab2/jkang/symphony_reproducibility/runtime/results/seurat_de_novo_q=10000_r=1e+05_output_120GB -M 120000 -R 'rusage[mem=120000]' \\\"Rscript run_Seurat_de_novo.R 10000 1e+05 \\\"\"\n",
      "[1] \"bsub -R \\\"select[hname!=cn044]\\\" -R \\\"select[hname!=cn045]\\\" -R \\\"select[hname!=cn001]\\\" -R \\\"select[hname!=cn002]\\\" -R \\\"select[hname!=cn003]\\\" -R \\\"select[hname!=cn004]\\\" -R \\\"select[hname!=cn005]\\\" -q big-multi -n 4 -o  /data/srlab2/jkang/symphony_reproducibility/runtime/results/seurat_de_novo_q=1e+05_r=1e+05_output_120GB -M 120000 -R 'rusage[mem=120000]' \\\"Rscript run_Seurat_de_novo.R 1e+05 1e+05 \\\"\"\n",
      "[1] \"bsub -R \\\"select[hname!=cn044]\\\" -R \\\"select[hname!=cn045]\\\" -R \\\"select[hname!=cn001]\\\" -R \\\"select[hname!=cn002]\\\" -R \\\"select[hname!=cn003]\\\" -R \\\"select[hname!=cn004]\\\" -R \\\"select[hname!=cn005]\\\" -q big-multi -n 4 -o  /data/srlab2/jkang/symphony_reproducibility/runtime/results/seurat_de_novo_q=1000_r=250000_output_120GB -M 120000 -R 'rusage[mem=120000]' \\\"Rscript run_Seurat_de_novo.R 1000 250000 \\\"\"\n",
      "[1] \"bsub -R \\\"select[hname!=cn044]\\\" -R \\\"select[hname!=cn045]\\\" -R \\\"select[hname!=cn001]\\\" -R \\\"select[hname!=cn002]\\\" -R \\\"select[hname!=cn003]\\\" -R \\\"select[hname!=cn004]\\\" -R \\\"select[hname!=cn005]\\\" -q big-multi -n 4 -o  /data/srlab2/jkang/symphony_reproducibility/runtime/results/seurat_de_novo_q=10000_r=250000_output_120GB -M 120000 -R 'rusage[mem=120000]' \\\"Rscript run_Seurat_de_novo.R 10000 250000 \\\"\"\n",
      "[1] \"bsub -R \\\"select[hname!=cn044]\\\" -R \\\"select[hname!=cn045]\\\" -R \\\"select[hname!=cn001]\\\" -R \\\"select[hname!=cn002]\\\" -R \\\"select[hname!=cn003]\\\" -R \\\"select[hname!=cn004]\\\" -R \\\"select[hname!=cn005]\\\" -q big-multi -n 4 -o  /data/srlab2/jkang/symphony_reproducibility/runtime/results/seurat_de_novo_q=1e+05_r=250000_output_120GB -M 120000 -R 'rusage[mem=120000]' \\\"Rscript run_Seurat_de_novo.R 1e+05 250000 \\\"\"\n",
      "[1] \"bsub -R \\\"select[hname!=cn044]\\\" -R \\\"select[hname!=cn045]\\\" -R \\\"select[hname!=cn001]\\\" -R \\\"select[hname!=cn002]\\\" -R \\\"select[hname!=cn003]\\\" -R \\\"select[hname!=cn004]\\\" -R \\\"select[hname!=cn005]\\\" -q big-multi -n 4 -o  /data/srlab2/jkang/symphony_reproducibility/runtime/results/seurat_de_novo_q=1000_r=5e+05_output_120GB -M 120000 -R 'rusage[mem=120000]' \\\"Rscript run_Seurat_de_novo.R 1000 5e+05 \\\"\"\n",
      "[1] \"bsub -R \\\"select[hname!=cn044]\\\" -R \\\"select[hname!=cn045]\\\" -R \\\"select[hname!=cn001]\\\" -R \\\"select[hname!=cn002]\\\" -R \\\"select[hname!=cn003]\\\" -R \\\"select[hname!=cn004]\\\" -R \\\"select[hname!=cn005]\\\" -q big-multi -n 4 -o  /data/srlab2/jkang/symphony_reproducibility/runtime/results/seurat_de_novo_q=10000_r=5e+05_output_120GB -M 120000 -R 'rusage[mem=120000]' \\\"Rscript run_Seurat_de_novo.R 10000 5e+05 \\\"\"\n",
      "[1] \"bsub -R \\\"select[hname!=cn044]\\\" -R \\\"select[hname!=cn045]\\\" -R \\\"select[hname!=cn001]\\\" -R \\\"select[hname!=cn002]\\\" -R \\\"select[hname!=cn003]\\\" -R \\\"select[hname!=cn004]\\\" -R \\\"select[hname!=cn005]\\\" -q big-multi -n 4 -o  /data/srlab2/jkang/symphony_reproducibility/runtime/results/seurat_de_novo_q=1e+05_r=5e+05_output_120GB -M 120000 -R 'rusage[mem=120000]' \\\"Rscript run_Seurat_de_novo.R 1e+05 5e+05 \\\"\"\n"
     ]
    }
   ],
   "source": [
    "avoid_clusters = '-R \\\"select[hname!=cn044]\\\" -R \\\"select[hname!=cn045]\\\" -R \\\"select[hname!=cn001]\\\" -R \\\"select[hname!=cn002]\\\" -R \\\"select[hname!=cn003]\\\" -R \\\"select[hname!=cn004]\\\" -R \\\"select[hname!=cn005]\\\"'\n",
    "for (r in ref_sizes) {\n",
    "    for (q in query_sizes) {\n",
    "        prefix = '/data/srlab2/jkang/symphony_reproducibility/runtime/results/'\n",
    "        filename = paste0(prefix, 'seurat_de_novo_', 'q=', q, '_r=', r,'_output_120GB')\n",
    "        p = paste('bsub', avoid_clusters, '-q big-multi -n 4 -o ', filename, \n",
    "                  '-M 120000 -R \\'rusage[mem=120000]\\' \"Rscript run_Seurat_de_novo.R', q, r, \"\\\"\")\n",
    "        print(p)\n",
    "        system(p)\n",
    "    }\n",
    "}"
   ]
  },
  {
   "cell_type": "markdown",
   "metadata": {},
   "source": [
    "Run Seurat reference mapping experiments"
   ]
  },
  {
   "cell_type": "code",
   "execution_count": 4,
   "metadata": {
    "scrolled": true,
    "tags": []
   },
   "outputs": [
    {
     "name": "stdout",
     "output_type": "stream",
     "text": [
      "[1] \"bsub -R \\\"select[hname!=cn044]\\\" -R \\\"select[hname!=cn045]\\\" -R \\\"select[hname!=cn001]\\\" -R \\\"select[hname!=cn002]\\\" -R \\\"select[hname!=cn003]\\\" -R \\\"select[hname!=cn004]\\\" -R \\\"select[hname!=cn005]\\\" -q big-multi -n 4 -o  /data/srlab2/jkang/symphony_reproducibility/runtime/results/seurat_ref_mapping_q=1000_r=20000_output_120GB -M 120000 -R 'rusage[mem=120000]' \\\"Rscript run_Seurat_ref_mapping.R 1000 20000 \\\"\"\n",
      "[1] \"bsub -R \\\"select[hname!=cn044]\\\" -R \\\"select[hname!=cn045]\\\" -R \\\"select[hname!=cn001]\\\" -R \\\"select[hname!=cn002]\\\" -R \\\"select[hname!=cn003]\\\" -R \\\"select[hname!=cn004]\\\" -R \\\"select[hname!=cn005]\\\" -q big-multi -n 4 -o  /data/srlab2/jkang/symphony_reproducibility/runtime/results/seurat_ref_mapping_q=10000_r=20000_output_120GB -M 120000 -R 'rusage[mem=120000]' \\\"Rscript run_Seurat_ref_mapping.R 10000 20000 \\\"\"\n",
      "[1] \"bsub -R \\\"select[hname!=cn044]\\\" -R \\\"select[hname!=cn045]\\\" -R \\\"select[hname!=cn001]\\\" -R \\\"select[hname!=cn002]\\\" -R \\\"select[hname!=cn003]\\\" -R \\\"select[hname!=cn004]\\\" -R \\\"select[hname!=cn005]\\\" -q big-multi -n 4 -o  /data/srlab2/jkang/symphony_reproducibility/runtime/results/seurat_ref_mapping_q=1e+05_r=20000_output_120GB -M 120000 -R 'rusage[mem=120000]' \\\"Rscript run_Seurat_ref_mapping.R 1e+05 20000 \\\"\"\n",
      "[1] \"bsub -R \\\"select[hname!=cn044]\\\" -R \\\"select[hname!=cn045]\\\" -R \\\"select[hname!=cn001]\\\" -R \\\"select[hname!=cn002]\\\" -R \\\"select[hname!=cn003]\\\" -R \\\"select[hname!=cn004]\\\" -R \\\"select[hname!=cn005]\\\" -q big-multi -n 4 -o  /data/srlab2/jkang/symphony_reproducibility/runtime/results/seurat_ref_mapping_q=1000_r=50000_output_120GB -M 120000 -R 'rusage[mem=120000]' \\\"Rscript run_Seurat_ref_mapping.R 1000 50000 \\\"\"\n",
      "[1] \"bsub -R \\\"select[hname!=cn044]\\\" -R \\\"select[hname!=cn045]\\\" -R \\\"select[hname!=cn001]\\\" -R \\\"select[hname!=cn002]\\\" -R \\\"select[hname!=cn003]\\\" -R \\\"select[hname!=cn004]\\\" -R \\\"select[hname!=cn005]\\\" -q big-multi -n 4 -o  /data/srlab2/jkang/symphony_reproducibility/runtime/results/seurat_ref_mapping_q=10000_r=50000_output_120GB -M 120000 -R 'rusage[mem=120000]' \\\"Rscript run_Seurat_ref_mapping.R 10000 50000 \\\"\"\n",
      "[1] \"bsub -R \\\"select[hname!=cn044]\\\" -R \\\"select[hname!=cn045]\\\" -R \\\"select[hname!=cn001]\\\" -R \\\"select[hname!=cn002]\\\" -R \\\"select[hname!=cn003]\\\" -R \\\"select[hname!=cn004]\\\" -R \\\"select[hname!=cn005]\\\" -q big-multi -n 4 -o  /data/srlab2/jkang/symphony_reproducibility/runtime/results/seurat_ref_mapping_q=1e+05_r=50000_output_120GB -M 120000 -R 'rusage[mem=120000]' \\\"Rscript run_Seurat_ref_mapping.R 1e+05 50000 \\\"\"\n",
      "[1] \"bsub -R \\\"select[hname!=cn044]\\\" -R \\\"select[hname!=cn045]\\\" -R \\\"select[hname!=cn001]\\\" -R \\\"select[hname!=cn002]\\\" -R \\\"select[hname!=cn003]\\\" -R \\\"select[hname!=cn004]\\\" -R \\\"select[hname!=cn005]\\\" -q big-multi -n 4 -o  /data/srlab2/jkang/symphony_reproducibility/runtime/results/seurat_ref_mapping_q=1000_r=1e+05_output_120GB -M 120000 -R 'rusage[mem=120000]' \\\"Rscript run_Seurat_ref_mapping.R 1000 1e+05 \\\"\"\n",
      "[1] \"bsub -R \\\"select[hname!=cn044]\\\" -R \\\"select[hname!=cn045]\\\" -R \\\"select[hname!=cn001]\\\" -R \\\"select[hname!=cn002]\\\" -R \\\"select[hname!=cn003]\\\" -R \\\"select[hname!=cn004]\\\" -R \\\"select[hname!=cn005]\\\" -q big-multi -n 4 -o  /data/srlab2/jkang/symphony_reproducibility/runtime/results/seurat_ref_mapping_q=10000_r=1e+05_output_120GB -M 120000 -R 'rusage[mem=120000]' \\\"Rscript run_Seurat_ref_mapping.R 10000 1e+05 \\\"\"\n",
      "[1] \"bsub -R \\\"select[hname!=cn044]\\\" -R \\\"select[hname!=cn045]\\\" -R \\\"select[hname!=cn001]\\\" -R \\\"select[hname!=cn002]\\\" -R \\\"select[hname!=cn003]\\\" -R \\\"select[hname!=cn004]\\\" -R \\\"select[hname!=cn005]\\\" -q big-multi -n 4 -o  /data/srlab2/jkang/symphony_reproducibility/runtime/results/seurat_ref_mapping_q=1e+05_r=1e+05_output_120GB -M 120000 -R 'rusage[mem=120000]' \\\"Rscript run_Seurat_ref_mapping.R 1e+05 1e+05 \\\"\"\n",
      "[1] \"bsub -R \\\"select[hname!=cn044]\\\" -R \\\"select[hname!=cn045]\\\" -R \\\"select[hname!=cn001]\\\" -R \\\"select[hname!=cn002]\\\" -R \\\"select[hname!=cn003]\\\" -R \\\"select[hname!=cn004]\\\" -R \\\"select[hname!=cn005]\\\" -q big-multi -n 4 -o  /data/srlab2/jkang/symphony_reproducibility/runtime/results/seurat_ref_mapping_q=1000_r=250000_output_120GB -M 120000 -R 'rusage[mem=120000]' \\\"Rscript run_Seurat_ref_mapping.R 1000 250000 \\\"\"\n",
      "[1] \"bsub -R \\\"select[hname!=cn044]\\\" -R \\\"select[hname!=cn045]\\\" -R \\\"select[hname!=cn001]\\\" -R \\\"select[hname!=cn002]\\\" -R \\\"select[hname!=cn003]\\\" -R \\\"select[hname!=cn004]\\\" -R \\\"select[hname!=cn005]\\\" -q big-multi -n 4 -o  /data/srlab2/jkang/symphony_reproducibility/runtime/results/seurat_ref_mapping_q=10000_r=250000_output_120GB -M 120000 -R 'rusage[mem=120000]' \\\"Rscript run_Seurat_ref_mapping.R 10000 250000 \\\"\"\n",
      "[1] \"bsub -R \\\"select[hname!=cn044]\\\" -R \\\"select[hname!=cn045]\\\" -R \\\"select[hname!=cn001]\\\" -R \\\"select[hname!=cn002]\\\" -R \\\"select[hname!=cn003]\\\" -R \\\"select[hname!=cn004]\\\" -R \\\"select[hname!=cn005]\\\" -q big-multi -n 4 -o  /data/srlab2/jkang/symphony_reproducibility/runtime/results/seurat_ref_mapping_q=1e+05_r=250000_output_120GB -M 120000 -R 'rusage[mem=120000]' \\\"Rscript run_Seurat_ref_mapping.R 1e+05 250000 \\\"\"\n",
      "[1] \"bsub -R \\\"select[hname!=cn044]\\\" -R \\\"select[hname!=cn045]\\\" -R \\\"select[hname!=cn001]\\\" -R \\\"select[hname!=cn002]\\\" -R \\\"select[hname!=cn003]\\\" -R \\\"select[hname!=cn004]\\\" -R \\\"select[hname!=cn005]\\\" -q big-multi -n 4 -o  /data/srlab2/jkang/symphony_reproducibility/runtime/results/seurat_ref_mapping_q=1000_r=5e+05_output_120GB -M 120000 -R 'rusage[mem=120000]' \\\"Rscript run_Seurat_ref_mapping.R 1000 5e+05 \\\"\"\n",
      "[1] \"bsub -R \\\"select[hname!=cn044]\\\" -R \\\"select[hname!=cn045]\\\" -R \\\"select[hname!=cn001]\\\" -R \\\"select[hname!=cn002]\\\" -R \\\"select[hname!=cn003]\\\" -R \\\"select[hname!=cn004]\\\" -R \\\"select[hname!=cn005]\\\" -q big-multi -n 4 -o  /data/srlab2/jkang/symphony_reproducibility/runtime/results/seurat_ref_mapping_q=10000_r=5e+05_output_120GB -M 120000 -R 'rusage[mem=120000]' \\\"Rscript run_Seurat_ref_mapping.R 10000 5e+05 \\\"\"\n",
      "[1] \"bsub -R \\\"select[hname!=cn044]\\\" -R \\\"select[hname!=cn045]\\\" -R \\\"select[hname!=cn001]\\\" -R \\\"select[hname!=cn002]\\\" -R \\\"select[hname!=cn003]\\\" -R \\\"select[hname!=cn004]\\\" -R \\\"select[hname!=cn005]\\\" -q big-multi -n 4 -o  /data/srlab2/jkang/symphony_reproducibility/runtime/results/seurat_ref_mapping_q=1e+05_r=5e+05_output_120GB -M 120000 -R 'rusage[mem=120000]' \\\"Rscript run_Seurat_ref_mapping.R 1e+05 5e+05 \\\"\"\n"
     ]
    }
   ],
   "source": [
    "for (r in ref_sizes) {\n",
    "    for (q in query_sizes) {\n",
    "        prefix = '/data/srlab2/jkang/symphony_reproducibility/runtime/results/'\n",
    "        filename = paste0(prefix, 'seurat_ref_mapping_', 'q=', q, '_r=', r,'_output_120GB')\n",
    "        p = paste('bsub', avoid_clusters, '-q big-multi -n 4 -o ', filename, \n",
    "                  '-M 120000 -R \\'rusage[mem=120000]\\' \"Rscript run_Seurat_ref_mapping.R', q, r, \"\\\"\")\n",
    "        print(p)\n",
    "        system(p)\n",
    "    }\n",
    "}"
   ]
  },
  {
   "cell_type": "markdown",
   "metadata": {},
   "source": [
    "## View results"
   ]
  },
  {
   "cell_type": "markdown",
   "metadata": {},
   "source": [
    "Print Harmony/Symphony results"
   ]
  },
  {
   "cell_type": "code",
   "execution_count": 3,
   "metadata": {
    "scrolled": true,
    "tags": []
   },
   "outputs": [
    {
     "name": "stderr",
     "output_type": "stream",
     "text": [
      "harmony_q=1000_r=1e+05\n",
      "\n"
     ]
    },
    {
     "name": "stdout",
     "output_type": "stream",
     "text": [
      "[1] \"3104.840 2617.926  391.786 \"\n"
     ]
    },
    {
     "name": "stderr",
     "output_type": "stream",
     "text": [
      "harmony_q=1000_r=20000\n",
      "\n"
     ]
    },
    {
     "name": "stdout",
     "output_type": "stream",
     "text": [
      "[1] \" 231.490 1137.129  167.558 \"\n"
     ]
    },
    {
     "name": "stderr",
     "output_type": "stream",
     "text": [
      "harmony_q=1000_r=250000\n",
      "\n"
     ]
    },
    {
     "name": "stdout",
     "output_type": "stream",
     "text": [
      "[1] \"23318.019 49247.307  7058.002 \"\n"
     ]
    },
    {
     "name": "stderr",
     "output_type": "stream",
     "text": [
      "harmony_q=1000_r=50000\n",
      "\n"
     ]
    },
    {
     "name": "stdout",
     "output_type": "stream",
     "text": [
      "[1] \" 875.473 3219.839  490.889 \"\n"
     ]
    },
    {
     "name": "stderr",
     "output_type": "stream",
     "text": [
      "harmony_q=1000_r=5e+05\n",
      "\n"
     ]
    },
    {
     "name": "stdout",
     "output_type": "stream",
     "text": [
      "[1] \"68907.152 68469.688  8895.052 \"\n"
     ]
    },
    {
     "name": "stderr",
     "output_type": "stream",
     "text": [
      "harmony_q=10000_r=1e+05\n",
      "\n"
     ]
    },
    {
     "name": "stdout",
     "output_type": "stream",
     "text": [
      "[1] \"4574.956 9967.839 1459.878 \"\n"
     ]
    },
    {
     "name": "stderr",
     "output_type": "stream",
     "text": [
      "harmony_q=10000_r=20000\n",
      "\n"
     ]
    },
    {
     "name": "stdout",
     "output_type": "stream",
     "text": [
      "[1] \"331.626 809.306  67.431 \"\n"
     ]
    },
    {
     "name": "stderr",
     "output_type": "stream",
     "text": [
      "harmony_q=10000_r=250000\n",
      "\n"
     ]
    },
    {
     "name": "stdout",
     "output_type": "stream",
     "text": [
      "[1] \"22812.251 23330.200  4117.026 \"\n"
     ]
    },
    {
     "name": "stderr",
     "output_type": "stream",
     "text": [
      "harmony_q=10000_r=50000\n",
      "\n"
     ]
    },
    {
     "name": "stdout",
     "output_type": "stream",
     "text": [
      "[1] \" 930.345 3144.304  493.657 \"\n"
     ]
    },
    {
     "name": "stderr",
     "output_type": "stream",
     "text": [
      "harmony_q=10000_r=5e+05\n",
      "\n"
     ]
    },
    {
     "name": "stdout",
     "output_type": "stream",
     "text": [
      "[1] \"62669.40 51303.92 10243.75 \"\n"
     ]
    },
    {
     "name": "stderr",
     "output_type": "stream",
     "text": [
      "harmony_q=1e+05_r=1e+05\n",
      "\n"
     ]
    },
    {
     "name": "stdout",
     "output_type": "stream",
     "text": [
      "[1] \"10248.503  6922.243  1074.483 \"\n"
     ]
    },
    {
     "name": "stderr",
     "output_type": "stream",
     "text": [
      "harmony_q=1e+05_r=20000\n",
      "\n"
     ]
    },
    {
     "name": "stdout",
     "output_type": "stream",
     "text": [
      "[1] \"4028.876 3501.948  512.148 \"\n"
     ]
    },
    {
     "name": "stderr",
     "output_type": "stream",
     "text": [
      "harmony_q=1e+05_r=250000\n",
      "\n"
     ]
    },
    {
     "name": "stdout",
     "output_type": "stream",
     "text": [
      "[1] \"37760.21 65999.72 10031.27 \"\n"
     ]
    },
    {
     "name": "stderr",
     "output_type": "stream",
     "text": [
      "harmony_q=1e+05_r=50000\n",
      "\n"
     ]
    },
    {
     "name": "stdout",
     "output_type": "stream",
     "text": [
      "[1] \" 8498.975 15922.982  2323.836 \"\n"
     ]
    },
    {
     "name": "stderr",
     "output_type": "stream",
     "text": [
      "harmony_q=1e+05_r=5e+05\n",
      "\n"
     ]
    },
    {
     "name": "stdout",
     "output_type": "stream",
     "text": [
      "[1] \" 63138.99 104816.75  16520.88 \"\n"
     ]
    },
    {
     "name": "stderr",
     "output_type": "stream",
     "text": [
      "symphony_q=1000_r=1e+05\n",
      "\n"
     ]
    },
    {
     "name": "stdout",
     "output_type": "stream",
     "text": [
      "[1] \"4125.082 9874.594 1411.927 \"\n",
      "[1] \"  0.090   0.099   0.082 \"\n"
     ]
    },
    {
     "name": "stderr",
     "output_type": "stream",
     "text": [
      "symphony_q=1000_r=20000\n",
      "\n"
     ]
    },
    {
     "name": "stdout",
     "output_type": "stream",
     "text": [
      "[1] \"313.213 909.224  61.667 \"\n",
      "[1] \"  0.131   0.226   0.056 \"\n"
     ]
    },
    {
     "name": "stderr",
     "output_type": "stream",
     "text": [
      "symphony_q=1000_r=250000\n",
      "\n"
     ]
    },
    {
     "name": "stdout",
     "output_type": "stream",
     "text": [
      "[1] \"22975.105 35280.979  4374.974 \"\n",
      "[1] \"  0.085   0.149   0.070 \"\n"
     ]
    },
    {
     "name": "stderr",
     "output_type": "stream",
     "text": [
      "symphony_q=1000_r=50000\n",
      "\n"
     ]
    },
    {
     "name": "stdout",
     "output_type": "stream",
     "text": [
      "[1] \" 747.498 2764.156  419.600 \"\n",
      "[1] \"  0.105   0.752   0.163 \"\n"
     ]
    },
    {
     "name": "stderr",
     "output_type": "stream",
     "text": [
      "symphony_q=1000_r=5e+05\n",
      "\n"
     ]
    },
    {
     "name": "stdout",
     "output_type": "stream",
     "text": [
      "[1] \"56293.85 63397.76 21093.27 \"\n",
      "[1] \"  0.156   0.449   0.195 \"\n"
     ]
    },
    {
     "name": "stderr",
     "output_type": "stream",
     "text": [
      "symphony_q=10000_r=1e+05\n",
      "\n"
     ]
    },
    {
     "name": "stdout",
     "output_type": "stream",
     "text": [
      "[1] \"4238.919 8447.921  990.855 \"\n",
      "[1] \"  2.346   7.568   1.382 \"\n"
     ]
    },
    {
     "name": "stderr",
     "output_type": "stream",
     "text": [
      "symphony_q=10000_r=20000\n",
      "\n"
     ]
    },
    {
     "name": "stdout",
     "output_type": "stream",
     "text": [
      "[1] \" 240.897 1208.561  177.539 \"\n",
      "[1] \"  2.577  13.019   2.249 \"\n"
     ]
    },
    {
     "name": "stderr",
     "output_type": "stream",
     "text": [
      "symphony_q=10000_r=250000\n",
      "\n"
     ]
    },
    {
     "name": "stdout",
     "output_type": "stream",
     "text": [
      "[1] \"22451.697 47380.134  6775.721 \"\n",
      "[1] \"  2.262   9.606   1.715 \"\n"
     ]
    },
    {
     "name": "stderr",
     "output_type": "stream",
     "text": [
      "symphony_q=10000_r=50000\n",
      "\n"
     ]
    },
    {
     "name": "stdout",
     "output_type": "stream",
     "text": [
      "[1] \" 788.652 2892.818  447.894 \"\n",
      "[1] \"  2.171  10.532   1.996 \"\n"
     ]
    },
    {
     "name": "stderr",
     "output_type": "stream",
     "text": [
      "symphony_q=10000_r=5e+05\n",
      "\n"
     ]
    },
    {
     "name": "stdout",
     "output_type": "stream",
     "text": [
      "[1] \"64057.42 52813.83 10189.41 \"\n",
      "[1] \"  2.354   4.734   1.180 \"\n"
     ]
    },
    {
     "name": "stderr",
     "output_type": "stream",
     "text": [
      "symphony_q=1e+05_r=1e+05\n",
      "\n"
     ]
    },
    {
     "name": "stdout",
     "output_type": "stream",
     "text": [
      "[1] \"3647.083 3469.485  485.216 \"\n",
      "[1] \"118.953  43.947  13.401 \"\n"
     ]
    },
    {
     "name": "stderr",
     "output_type": "stream",
     "text": [
      "symphony_q=1e+05_r=20000\n",
      "\n"
     ]
    },
    {
     "name": "stdout",
     "output_type": "stream",
     "text": [
      "[1] \" 238.329 1196.295  173.493 \"\n",
      "[1] \"160.694 297.555  43.261 \"\n"
     ]
    },
    {
     "name": "stderr",
     "output_type": "stream",
     "text": [
      "symphony_q=1e+05_r=250000\n",
      "\n"
     ]
    },
    {
     "name": "stdout",
     "output_type": "stream",
     "text": [
      "[1] \"21247.73 22944.27  3972.34 \"\n",
      "[1] \"144.423 177.511  31.683 \"\n"
     ]
    },
    {
     "name": "stderr",
     "output_type": "stream",
     "text": [
      "symphony_q=1e+05_r=50000\n",
      "\n"
     ]
    },
    {
     "name": "stdout",
     "output_type": "stream",
     "text": [
      "[1] \" 898.936 1563.269  163.667 \"\n",
      "[1] \"116.035  44.096  13.535 \"\n"
     ]
    },
    {
     "name": "stderr",
     "output_type": "stream",
     "text": [
      "symphony_q=1e+05_r=5e+05\n",
      "\n"
     ]
    },
    {
     "name": "stdout",
     "output_type": "stream",
     "text": [
      "[1] \" 63567.92 107769.19  16781.98 \"\n",
      "[1] \"163.347 320.969  46.042 \"\n"
     ]
    }
   ],
   "source": [
    "for (file in list.files('results', pattern = 'ony')) {\n",
    "    message(file)\n",
    "    outfile = file(paste0('results/', file) , open=\"r\")\n",
    "    lines = readLines(outfile)\n",
    "    idx = grep(\"elapsed\", lines)\n",
    "    for (i in idx){\n",
    "        #print(lines[i])\n",
    "        print(lines[i+1])\n",
    "    }\n",
    "    close(outfile)\n",
    "}"
   ]
  },
  {
   "cell_type": "markdown",
   "metadata": {},
   "source": [
    "Print Seurat results"
   ]
  },
  {
   "cell_type": "code",
   "execution_count": 4,
   "metadata": {
    "scrolled": true,
    "tags": []
   },
   "outputs": [
    {
     "name": "stderr",
     "output_type": "stream",
     "text": [
      "seurat_de_novo_q=1000_r=1e+05_output_120GB\n",
      "\n"
     ]
    },
    {
     "name": "stdout",
     "output_type": "stream",
     "text": [
      "[1] \"Error: cannot allocate vector of size 20.8 Gb\"\n",
      "[1] \"Timing stopped at: 2.105e+04 9760 1.829e+04\"\n",
      "[1] \"system call failed: Cannot allocate memory \"\n",
      "[1] NA\n"
     ]
    },
    {
     "name": "stderr",
     "output_type": "stream",
     "text": [
      "seurat_de_novo_q=1000_r=20000_output_120GB\n",
      "\n"
     ]
    },
    {
     "name": "stdout",
     "output_type": "stream",
     "text": [
      "[1] \"    user   system  elapsed \"\n",
      "[1] \"1139.630  560.633  894.035 \"\n"
     ]
    },
    {
     "name": "stderr",
     "output_type": "stream",
     "text": [
      "seurat_de_novo_q=1000_r=250000_output_120GB\n",
      "\n"
     ]
    },
    {
     "name": "stdout",
     "output_type": "stream",
     "text": [
      "[1] \"Calls: system.time ... FindWeights -> NNHelper -> do.call -> AnnoyNN -> AnnoySearch\"\n",
      "[1] \"In addition: There were 50 or more warnings (use warnings() to see the first 50)\"\n"
     ]
    },
    {
     "name": "stderr",
     "output_type": "stream",
     "text": [
      "seurat_de_novo_q=1000_r=50000_output_120GB\n",
      "\n"
     ]
    },
    {
     "name": "stdout",
     "output_type": "stream",
     "text": [
      "[1] \"    user   system  elapsed \"\n",
      "[1] \"7842.424 2911.147 6926.435 \"\n"
     ]
    },
    {
     "name": "stderr",
     "output_type": "stream",
     "text": [
      "seurat_de_novo_q=1000_r=5e+05_output_120GB\n",
      "\n"
     ]
    },
    {
     "name": "stdout",
     "output_type": "stream",
     "text": [
      "[1] \"Calls: system.time ... FindWeights -> NNHelper -> do.call -> AnnoyNN -> AnnoySearch\"\n",
      "[1] \"In addition: There were 50 or more warnings (use warnings() to see the first 50)\"\n"
     ]
    },
    {
     "name": "stderr",
     "output_type": "stream",
     "text": [
      "seurat_de_novo_q=10000_r=1e+05_output_120GB\n",
      "\n"
     ]
    },
    {
     "name": "stdout",
     "output_type": "stream",
     "text": [
      "[1] \"system call failed: Cannot allocate memory \"\n",
      "[1] NA\n"
     ]
    },
    {
     "name": "stderr",
     "output_type": "stream",
     "text": [
      "seurat_de_novo_q=10000_r=20000_output_120GB\n",
      "\n"
     ]
    },
    {
     "name": "stdout",
     "output_type": "stream",
     "text": [
      "[1] \"    user   system  elapsed \"\n",
      "[1] \"2259.466 1006.484 1874.398 \"\n"
     ]
    },
    {
     "name": "stderr",
     "output_type": "stream",
     "text": [
      "seurat_de_novo_q=10000_r=250000_output_120GB\n",
      "\n"
     ]
    },
    {
     "name": "stdout",
     "output_type": "stream",
     "text": [
      "[1] \"Calls: system.time ... FindWeights -> NNHelper -> do.call -> AnnoyNN -> AnnoySearch\"\n",
      "[1] \"In addition: There were 50 or more warnings (use warnings() to see the first 50)\"\n"
     ]
    },
    {
     "name": "stderr",
     "output_type": "stream",
     "text": [
      "seurat_de_novo_q=10000_r=50000_output_120GB\n",
      "\n"
     ]
    },
    {
     "name": "stdout",
     "output_type": "stream",
     "text": [
      "[1] \"Error: cannot allocate vector of size 22.9 Gb\"\n",
      "[1] \"Timing stopped at: 9272 3432 8090\"\n",
      "[1] \"system call failed: Cannot allocate memory \"\n",
      "[1] NA\n"
     ]
    },
    {
     "name": "stderr",
     "output_type": "stream",
     "text": [
      "seurat_de_novo_q=10000_r=5e+05_output_120GB\n",
      "\n"
     ]
    },
    {
     "name": "stdout",
     "output_type": "stream",
     "text": [
      "[1] \"TERM_OWNER: job killed by owner.\"\n",
      "[1] \"Exited with exit code 1.\"\n"
     ]
    },
    {
     "name": "stderr",
     "output_type": "stream",
     "text": [
      "seurat_de_novo_q=1e+05_r=1e+05_output_120GB\n",
      "\n"
     ]
    },
    {
     "name": "stdout",
     "output_type": "stream",
     "text": [
      "[1] \"system call failed: Cannot allocate memory \"\n",
      "[1] NA\n"
     ]
    },
    {
     "name": "stderr",
     "output_type": "stream",
     "text": [
      "seurat_de_novo_q=1e+05_r=20000_output_120GB\n",
      "\n"
     ]
    },
    {
     "name": "stdout",
     "output_type": "stream",
     "text": [
      "[1] \"Error: cannot allocate vector of size 19.6 Gb\"\n",
      "[1] \"Timing stopped at: 3.02e+04 1.487e+04 2.659e+04\"\n"
     ]
    },
    {
     "name": "stderr",
     "output_type": "stream",
     "text": [
      "seurat_de_novo_q=1e+05_r=250000_output_120GB\n",
      "\n"
     ]
    },
    {
     "name": "stdout",
     "output_type": "stream",
     "text": [
      "[1] \"Calls: system.time ... FindWeights -> NNHelper -> do.call -> AnnoyNN -> AnnoySearch\"\n",
      "[1] \"In addition: There were 50 or more warnings (use warnings() to see the first 50)\"\n"
     ]
    },
    {
     "name": "stderr",
     "output_type": "stream",
     "text": [
      "seurat_de_novo_q=1e+05_r=50000_output_120GB\n",
      "\n"
     ]
    },
    {
     "name": "stdout",
     "output_type": "stream",
     "text": [
      "[1] \"system call failed: Cannot allocate memory \"\n",
      "[1] NA\n"
     ]
    },
    {
     "name": "stderr",
     "output_type": "stream",
     "text": [
      "seurat_de_novo_q=1e+05_r=5e+05_output_120GB\n",
      "\n"
     ]
    },
    {
     "name": "stdout",
     "output_type": "stream",
     "text": [
      "[1] \"Error: cannot allocate vector of size 89.1 Mb\"\n",
      "[1] \"Timing stopped at: 8.771e+04 4.542e+04 6.838e+04\"\n"
     ]
    },
    {
     "name": "stderr",
     "output_type": "stream",
     "text": [
      "seurat_ref_mapping_q=1000_r=1e+05_output_120GB\n",
      "\n"
     ]
    },
    {
     "name": "stdout",
     "output_type": "stream",
     "text": [
      "[1] \"Error: cannot allocate vector of size 7.9 Gb\"\n",
      "[1] \"Timing stopped at: 2.174e+04 8613 2.663e+04\"\n",
      "[1] \"system call failed: Cannot allocate memory \"\n",
      "[1] NA\n"
     ]
    },
    {
     "name": "stderr",
     "output_type": "stream",
     "text": [
      "seurat_ref_mapping_q=1000_r=20000_output_120GB\n",
      "\n"
     ]
    },
    {
     "name": "stdout",
     "output_type": "stream",
     "text": [
      "[1] \"   user  system elapsed \"\n",
      "[1] \"985.950 434.154 754.823 \"\n",
      "[1] \"   user  system elapsed \"\n",
      "[1] \" 18.703   3.551  19.963 \"\n"
     ]
    },
    {
     "name": "stderr",
     "output_type": "stream",
     "text": [
      "seurat_ref_mapping_q=1000_r=250000_output_120GB\n",
      "\n"
     ]
    },
    {
     "name": "stdout",
     "output_type": "stream",
     "text": [
      "[1] \"Calls: system.time ... FindWeights -> NNHelper -> do.call -> AnnoyNN -> AnnoySearch\"\n",
      "[1] \"In addition: There were 50 or more warnings (use warnings() to see the first 50)\"\n"
     ]
    },
    {
     "name": "stderr",
     "output_type": "stream",
     "text": [
      "seurat_ref_mapping_q=1000_r=50000_output_120GB\n",
      "\n"
     ]
    },
    {
     "name": "stdout",
     "output_type": "stream",
     "text": [
      "[1] \"    user   system  elapsed \"\n",
      "[1] \"6633.218 2591.625 5484.759 \"\n",
      "[1] \"   user  system elapsed \"\n",
      "[1] \" 45.663   5.991  49.384 \"\n"
     ]
    },
    {
     "name": "stderr",
     "output_type": "stream",
     "text": [
      "seurat_ref_mapping_q=1000_r=5e+05_output_120GB\n",
      "\n"
     ]
    },
    {
     "name": "stdout",
     "output_type": "stream",
     "text": [
      "[1] \"TERM_OWNER: job killed by owner.\"\n",
      "[1] \"Exited with exit code 1.\"\n"
     ]
    },
    {
     "name": "stderr",
     "output_type": "stream",
     "text": [
      "seurat_ref_mapping_q=10000_r=1e+05_output_120GB\n",
      "\n"
     ]
    },
    {
     "name": "stdout",
     "output_type": "stream",
     "text": [
      "[1] \"Error: cannot allocate vector of size 7.9 Gb\"\n",
      "[1] \"Timing stopped at: 2.147e+04 8581 2.627e+04\"\n",
      "[1] \"system call failed: Cannot allocate memory \"\n",
      "[1] NA\n"
     ]
    },
    {
     "name": "stderr",
     "output_type": "stream",
     "text": [
      "seurat_ref_mapping_q=10000_r=20000_output_120GB\n",
      "\n"
     ]
    },
    {
     "name": "stdout",
     "output_type": "stream",
     "text": [
      "[1] \"    user   system  elapsed \"\n",
      "[1] \"1008.579  395.013  768.275 \"\n",
      "[1] \"   user  system elapsed \"\n",
      "[1] \"124.669  23.734 133.855 \"\n"
     ]
    },
    {
     "name": "stderr",
     "output_type": "stream",
     "text": [
      "seurat_ref_mapping_q=10000_r=250000_output_120GB\n",
      "\n"
     ]
    },
    {
     "name": "stdout",
     "output_type": "stream",
     "text": [
      "[1] \"Calls: system.time ... FindWeights -> NNHelper -> do.call -> AnnoyNN -> AnnoySearch\"\n",
      "[1] \"In addition: There were 50 or more warnings (use warnings() to see the first 50)\"\n"
     ]
    },
    {
     "name": "stderr",
     "output_type": "stream",
     "text": [
      "seurat_ref_mapping_q=10000_r=50000_output_120GB\n",
      "\n"
     ]
    },
    {
     "name": "stdout",
     "output_type": "stream",
     "text": [
      "[1] \"    user   system  elapsed \"\n",
      "[1] \"7264.555 2417.319 6080.779 \"\n",
      "[1] \"   user  system elapsed \"\n",
      "[1] \"294.155  41.013 321.077 \"\n"
     ]
    },
    {
     "name": "stderr",
     "output_type": "stream",
     "text": [
      "seurat_ref_mapping_q=10000_r=5e+05_output_120GB\n",
      "\n"
     ]
    },
    {
     "name": "stdout",
     "output_type": "stream",
     "text": [
      "[1] \"TERM_OWNER: job killed by owner.\"\n",
      "[1] \"Exited with exit code 1.\"\n"
     ]
    },
    {
     "name": "stderr",
     "output_type": "stream",
     "text": [
      "seurat_ref_mapping_q=1e+05_r=1e+05_output_120GB\n",
      "\n"
     ]
    },
    {
     "name": "stdout",
     "output_type": "stream",
     "text": [
      "[1] \"Error: cannot allocate vector of size 15.6 Gb\"\n",
      "[1] \"Timing stopped at: 2.217e+04 8590 1.885e+04\"\n"
     ]
    },
    {
     "name": "stderr",
     "output_type": "stream",
     "text": [
      "seurat_ref_mapping_q=1e+05_r=20000_output_120GB\n",
      "\n"
     ]
    },
    {
     "name": "stdout",
     "output_type": "stream",
     "text": [
      "[1] \"    user   system  elapsed \"\n",
      "[1] \"1014.728  433.081  784.617 \"\n",
      "[1] \"    user   system  elapsed \"\n",
      "[1] \"1384.809  250.014 1486.463 \"\n"
     ]
    },
    {
     "name": "stderr",
     "output_type": "stream",
     "text": [
      "seurat_ref_mapping_q=1e+05_r=250000_output_120GB\n",
      "\n"
     ]
    },
    {
     "name": "stdout",
     "output_type": "stream",
     "text": [
      "[1] \"Calls: system.time ... FindWeights -> NNHelper -> do.call -> AnnoyNN -> AnnoySearch\"\n",
      "[1] \"In addition: There were 50 or more warnings (use warnings() to see the first 50)\"\n"
     ]
    },
    {
     "name": "stderr",
     "output_type": "stream",
     "text": [
      "seurat_ref_mapping_q=1e+05_r=50000_output_120GB\n",
      "\n"
     ]
    },
    {
     "name": "stdout",
     "output_type": "stream",
     "text": [
      "[1] \"    user   system  elapsed \"\n",
      "[1] \"6819.816 2613.429 5704.960 \"\n",
      "[1] \"    user   system  elapsed \"\n",
      "[1] \"3080.402  383.743 3323.411 \"\n"
     ]
    },
    {
     "name": "stderr",
     "output_type": "stream",
     "text": [
      "seurat_ref_mapping_q=1e+05_r=5e+05_output_120GB\n",
      "\n"
     ]
    },
    {
     "name": "stdout",
     "output_type": "stream",
     "text": [
      "[1] \"TERM_OWNER: job killed by owner.\"\n",
      "[1] \"Exited with exit code 1.\"\n"
     ]
    }
   ],
   "source": [
    "for (file in list.files('results', pattern = 'seurat')) {\n",
    "    message(file)\n",
    "    outfile = file(paste0('results/', file) , open=\"r\")\n",
    "    lines = readLines(outfile)\n",
    "    idx = grep(\"elapsed|Error:|spat|Annoy|dupli|alloc|killed\", lines) # possible errors\n",
    "    for (i in idx){\n",
    "        print(lines[i])\n",
    "        print(lines[i+1])\n",
    "    }\n",
    "    close(outfile)\n",
    "}"
   ]
  },
  {
   "cell_type": "markdown",
   "metadata": {},
   "source": [
    "## Plot results (Make figure)"
   ]
  },
  {
   "cell_type": "code",
   "execution_count": 5,
   "metadata": {},
   "outputs": [
    {
     "data": {
      "text/html": [
       "<table class=\"dataframe\">\n",
       "<caption>A data.frame: 3 × 6</caption>\n",
       "<thead>\n",
       "\t<tr><th></th><th scope=col>Query_num_cells</th><th scope=col>Ref_num_cells</th><th scope=col>Method</th><th scope=col>reference.building</th><th scope=col>query.mapping</th><th scope=col>de.novo.integration</th></tr>\n",
       "\t<tr><th></th><th scope=col>&lt;int&gt;</th><th scope=col>&lt;int&gt;</th><th scope=col>&lt;chr&gt;</th><th scope=col>&lt;dbl&gt;</th><th scope=col>&lt;dbl&gt;</th><th scope=col>&lt;dbl&gt;</th></tr>\n",
       "</thead>\n",
       "<tbody>\n",
       "\t<tr><th scope=row>1</th><td>1000</td><td> 20000</td><td>Symphony</td><td>  61.667</td><td>0.056</td><td>167.558</td></tr>\n",
       "\t<tr><th scope=row>2</th><td>1000</td><td> 50000</td><td>Symphony</td><td> 419.600</td><td>0.163</td><td>490.889</td></tr>\n",
       "\t<tr><th scope=row>3</th><td>1000</td><td>100000</td><td>Symphony</td><td>1411.927</td><td>0.082</td><td>391.786</td></tr>\n",
       "</tbody>\n",
       "</table>\n"
      ],
      "text/latex": [
       "A data.frame: 3 × 6\n",
       "\\begin{tabular}{r|llllll}\n",
       "  & Query\\_num\\_cells & Ref\\_num\\_cells & Method & reference.building & query.mapping & de.novo.integration\\\\\n",
       "  & <int> & <int> & <chr> & <dbl> & <dbl> & <dbl>\\\\\n",
       "\\hline\n",
       "\t1 & 1000 &  20000 & Symphony &   61.667 & 0.056 & 167.558\\\\\n",
       "\t2 & 1000 &  50000 & Symphony &  419.600 & 0.163 & 490.889\\\\\n",
       "\t3 & 1000 & 100000 & Symphony & 1411.927 & 0.082 & 391.786\\\\\n",
       "\\end{tabular}\n"
      ],
      "text/markdown": [
       "\n",
       "A data.frame: 3 × 6\n",
       "\n",
       "| <!--/--> | Query_num_cells &lt;int&gt; | Ref_num_cells &lt;int&gt; | Method &lt;chr&gt; | reference.building &lt;dbl&gt; | query.mapping &lt;dbl&gt; | de.novo.integration &lt;dbl&gt; |\n",
       "|---|---|---|---|---|---|---|\n",
       "| 1 | 1000 |  20000 | Symphony |   61.667 | 0.056 | 167.558 |\n",
       "| 2 | 1000 |  50000 | Symphony |  419.600 | 0.163 | 490.889 |\n",
       "| 3 | 1000 | 100000 | Symphony | 1411.927 | 0.082 | 391.786 |\n",
       "\n"
      ],
      "text/plain": [
       "  Query_num_cells Ref_num_cells Method   reference.building query.mapping\n",
       "1 1000             20000        Symphony   61.667           0.056        \n",
       "2 1000             50000        Symphony  419.600           0.163        \n",
       "3 1000            100000        Symphony 1411.927           0.082        \n",
       "  de.novo.integration\n",
       "1 167.558            \n",
       "2 490.889            \n",
       "3 391.786            "
      ]
     },
     "metadata": {},
     "output_type": "display_data"
    }
   ],
   "source": [
    "runtime = read.csv('runtime_plot.csv', header = TRUE)\n",
    "runtime %>% head(3)"
   ]
  },
  {
   "cell_type": "code",
   "execution_count": 6,
   "metadata": {},
   "outputs": [],
   "source": [
    "runtime_long = gather(runtime, func, elapsed_time, reference.building:de.novo.integration, factor_key = TRUE)\n",
    "levels(runtime_long$func) = c('reference building', 'query mapping', 'de novo integration')\n",
    "runtime_long$Query_num_cells_donors = as.factor(runtime_long$Query_num_cells)\n",
    "levels(runtime_long$Query_num_cells_donors) = c('1,000; 1', '10,000; 6', '100,000; 64')\n",
    "runtime_long$Method = as.factor(runtime_long$Method)\n",
    "runtime_plot = na.omit(runtime_long)\n",
    "runtime_plot$elapsed_min = runtime_plot$elapsed_time / 60\n",
    "#runtime_plot"
   ]
  },
  {
   "cell_type": "code",
   "execution_count": 7,
   "metadata": {},
   "outputs": [],
   "source": [
    "## Rename de novo integration methods\n",
    "runtime_plot$Method_better = as.character(runtime_plot$Method)\n",
    "runtime_plot$Method_better[which(runtime_plot$Method == 'Symphony' & runtime_plot$func == 'de novo integration')] = 'Harmony'\n",
    "runtime_plot$Method_better[which(runtime_plot$Method == 'scArches' & runtime_plot$func == 'de novo integration')] = 'trVAE'"
   ]
  },
  {
   "cell_type": "markdown",
   "metadata": {},
   "source": [
    "## Plot Symphony results only"
   ]
  },
  {
   "cell_type": "code",
   "execution_count": 8,
   "metadata": {},
   "outputs": [
    {
     "data": {
      "text/html": [
       "<strong>png:</strong> 2"
      ],
      "text/latex": [
       "\\textbf{png:} 2"
      ],
      "text/markdown": [
       "**png:** 2"
      ],
      "text/plain": [
       "png \n",
       "  2 "
      ]
     },
     "metadata": {},
     "output_type": "display_data"
    },
    {
     "data": {
      "image/png": "[encoded data removed]",
      "text/plain": [
       "plot without title"
      ]
     },
     "metadata": {
      "image/png": {
       "height": 240,
       "width": 600
      }
     },
     "output_type": "display_data"
    }
   ],
   "source": [
    "fig.size(4, 10)\n",
    "\n",
    "pdf('figures/runtime_Symphony_Harmony.pdf', height=4, width=10,useDingbats = FALSE)\n",
    "\n",
    "symphony_plot = runtime_plot[which(runtime_plot$Method == 'Symphony'),]\n",
    "symphony_plot$longlabel = as.factor(paste0(symphony_plot$Method_better, '\\n', symphony_plot$func))\n",
    "symphony_plot$longlabel = forcats::fct_relevel(symphony_plot$longlabel, c('Symphony\\nreference building', \n",
    "                                            'Symphony\\nquery mapping', 'Harmony\\nde novo integration'))\n",
    "\n",
    "p = ggplot(data=symphony_plot, aes(x=Ref_num_cells, y=elapsed_time, \n",
    "                             color = Query_num_cells_donors)) +\n",
    "    geom_line() + geom_point() +\n",
    "    facet_wrap(~longlabel) +\n",
    "    theme_bw() + scale_color_manual(values = c(\"#86B9CE\", \"#899AA1\",\"#206682\")) + \n",
    "    ylab('elapsed time (s)') + xlab('Reference size (cells)') + \n",
    "    labs(color = 'Query size \\n(cells; donors)') +\n",
    "    ggtitle('Symphony runtime scalability') +\n",
    "    theme(axis.text.x = element_text(angle = 60, hjust = 1, size=10),\n",
    "        axis.text.y = element_text(hjust = 1, size=10), strip.text.x = element_text(size=12),\n",
    "        plot.title = element_text(hjust = 0.5, size = 14), axis.title=element_text(size=12)) +\n",
    "    scale_x_continuous(trans = 'log2', labels = comma, \n",
    "        limits = c(15000, 600000), breaks = c(20000, 50000, 100000, 250000, 500000)) +\n",
    "    scale_y_continuous(trans = 'log10', labels = comma_format(accuracy = 1), \n",
    "                       breaks = c(1, 10, 100, 1000, 10000), limits = c(0.01, 24000))\n",
    "print(p)\n",
    "dev.off()\n",
    "p"
   ]
  },
  {
   "cell_type": "markdown",
   "metadata": {},
   "source": [
    "## Plot reference building runtime for 3 tools"
   ]
  },
  {
   "cell_type": "code",
   "execution_count": 9,
   "metadata": {
    "tags": []
   },
   "outputs": [
    {
     "data": {
      "text/html": [
       "<strong>png:</strong> 2"
      ],
      "text/latex": [
       "\\textbf{png:} 2"
      ],
      "text/markdown": [
       "**png:** 2"
      ],
      "text/plain": [
       "png \n",
       "  2 "
      ]
     },
     "metadata": {},
     "output_type": "display_data"
    },
    {
     "data": {
      "image/png": "[encoded data removed]",
      "text/plain": [
       "plot without title"
      ]
     },
     "metadata": {
      "image/png": {
       "height": 210,
       "width": 300
      }
     },
     "output_type": "display_data"
    }
   ],
   "source": [
    "fig.size(3.5, 5)\n",
    "\n",
    "runtime_ref_building = runtime_plot[which(runtime_plot$func == \"reference building\" &\n",
    "                                         runtime_plot$Query_num_cells == 1000),]\n",
    "\n",
    "pdf('figures/runtime_publish_refBuilding.pdf', height = 3.5, width = 5,useDingbats = FALSE)\n",
    "p = ggplot(data=runtime_ref_building, \n",
    "           aes(x=Ref_num_cells, y=elapsed_min, color = Method)) +\n",
    "    geom_line(aes(x=Ref_num_cells, y=elapsed_min, color = Method)) +\n",
    "    geom_point() +\n",
    "    theme_bw() + scale_color_brewer(palette = 'Set2') +\n",
    "    ylab('elapsed time (mins)') + xlab('Reference size (cells)') + \n",
    "    ggtitle('Reference building runtime') +\n",
    "    theme(axis.text.x = element_text(angle = 60, hjust = 1, size=10),\n",
    "        axis.text.y = element_text(hjust = 1, size=10), strip.text.x = element_text(size=10),\n",
    "        plot.title = element_text(hjust = 0.5, size = 14), axis.title=element_text(size=12)) +\n",
    "    scale_x_continuous(trans = 'log2', labels = comma, \n",
    "        limits = c(15000, 600000), breaks = c(20000, 50000, 100000, 250000, 500000), ) +\n",
    "    scale_y_continuous(labels = comma_format(accuracy = 1), breaks = c(0, 200, 400, 600, 800, 1000, 1200)) + \n",
    "    theme(strip.text.x = element_text(size = 12), strip.text.y = element_text(size = 11))\n",
    "plot(p)\n",
    "dev.off()\n",
    "p"
   ]
  },
  {
   "cell_type": "markdown",
   "metadata": {},
   "source": [
    "## Plot query mapping runtime for 3 tools"
   ]
  },
  {
   "cell_type": "code",
   "execution_count": 10,
   "metadata": {
    "tags": []
   },
   "outputs": [
    {
     "data": {
      "text/html": [
       "<strong>png:</strong> 2"
      ],
      "text/latex": [
       "\\textbf{png:} 2"
      ],
      "text/markdown": [
       "**png:** 2"
      ],
      "text/plain": [
       "png \n",
       "  2 "
      ]
     },
     "metadata": {},
     "output_type": "display_data"
    },
    {
     "data": {
      "image/png": "[encoded data removed]",
      "text/plain": [
       "plot without title"
      ]
     },
     "metadata": {
      "image/png": {
       "height": 210,
       "width": 300
      }
     },
     "output_type": "display_data"
    }
   ],
   "source": [
    "fig.size(3.5, 5)\n",
    "\n",
    "runtime_query_mapping = runtime_plot[which(runtime_plot$func == \"query mapping\" &\n",
    "                                         runtime_plot$Ref_num_cells == 50000),]\n",
    "\n",
    "pdf('figures/runtime_publish_queryMapping.pdf', height = 3.5, width = 5,useDingbats = FALSE)\n",
    "\n",
    "p = ggplot(data=runtime_query_mapping, aes(x = Query_num_cells, y = elapsed_time, color = Method)) +\n",
    "    geom_line(aes(x = Query_num_cells, y = elapsed_time, color = Method)) +\n",
    "    geom_point() +\n",
    "    theme_bw() + scale_color_brewer(palette = 'Set2') +\n",
    "    ylab('elapsed time (s)') + xlab('Query size (cells)') + \n",
    "    ggtitle('Query mapping runtime \\n(for 50,000-cell reference)') +\n",
    "    theme(axis.text.x = element_text(angle = 60, hjust = 1, size=10),\n",
    "        axis.text.y = element_text(hjust = 1, size=10), strip.text.x = element_text(size=10),\n",
    "        plot.title = element_text(hjust = 0.5, size = 14), axis.title=element_text(size=12)) +\n",
    "    scale_x_continuous(trans = 'log10', labels = comma, breaks = c(1000, 10000, 100000)) + \n",
    "    scale_y_continuous(trans = 'log10', labels = comma_format(accuracy = 1), breaks = c(1, 2, 20, 200, 2000, 20000))\n",
    "    #theme(strip.text.x = element_text(size = 12), strip.text.y = element_text(size = 11))\n",
    "plot(p)\n",
    "dev.off()\n",
    "p"
   ]
  },
  {
   "cell_type": "markdown",
   "metadata": {},
   "source": [
    "# Mapping parameter experiments\n",
    "In this analysis, we will explore the effect of query num_cells and num_donors independently, as well as number of centroids and dimensions."
   ]
  },
  {
   "cell_type": "markdown",
   "metadata": {},
   "source": [
    "## Vary the num centroids and dimensions (k and d)"
   ]
  },
  {
   "cell_type": "code",
   "execution_count": 17,
   "metadata": {},
   "outputs": [
    {
     "name": "stdout",
     "output_type": "stream",
     "text": [
      "[1] \"bsub -q big-multi -n 4 -o  /data/srlab2/jkang/symphony_reproducibility/runtime/results_kd/symphony_k=25_d=20  -M 64000 -R 'rusage[mem=64000]' \\\"Rscript run_symphony_kd.R 25 20 \\\"\"\n",
      "[1] \"bsub -q big-multi -n 4 -o  /data/srlab2/jkang/symphony_reproducibility/runtime/results_kd/symphony_k=50_d=20  -M 64000 -R 'rusage[mem=64000]' \\\"Rscript run_symphony_kd.R 50 20 \\\"\"\n",
      "[1] \"bsub -q big-multi -n 4 -o  /data/srlab2/jkang/symphony_reproducibility/runtime/results_kd/symphony_k=100_d=20  -M 64000 -R 'rusage[mem=64000]' \\\"Rscript run_symphony_kd.R 100 20 \\\"\"\n",
      "[1] \"bsub -q big-multi -n 4 -o  /data/srlab2/jkang/symphony_reproducibility/runtime/results_kd/symphony_k=200_d=20  -M 64000 -R 'rusage[mem=64000]' \\\"Rscript run_symphony_kd.R 200 20 \\\"\"\n",
      "[1] \"bsub -q big-multi -n 4 -o  /data/srlab2/jkang/symphony_reproducibility/runtime/results_kd/symphony_k=400_d=20  -M 64000 -R 'rusage[mem=64000]' \\\"Rscript run_symphony_kd.R 400 20 \\\"\"\n"
     ]
    }
   ],
   "source": [
    "# vary num centroids (k)\n",
    "for (k in c(25, 50, 100, 200, 400)) {\n",
    "    prefix = '/data/srlab2/jkang/symphony_reproducibility/runtime/results_kd/'\n",
    "    filename = paste0(prefix, 'symphony_', 'k=', k, '_d=', 20)\n",
    "    p = paste('bsub -q big-multi -n 4 -o ', filename, \n",
    "              ' -M 64000 -R \\'rusage[mem=64000]\\' \"Rscript run_symphony_kd.R', k, 20, \"\\\"\")\n",
    "    print(p)\n",
    "    system(p)\n",
    "}"
   ]
  },
  {
   "cell_type": "code",
   "execution_count": 18,
   "metadata": {},
   "outputs": [
    {
     "name": "stdout",
     "output_type": "stream",
     "text": [
      "[1] \"bsub -q big-multi -n 4 -o  /data/srlab2/jkang/symphony_reproducibility/runtime/results_kd/symphony_k=100_d=10  -M 64000 -R 'rusage[mem=64000]' \\\"Rscript run_symphony_kd.R 100 10 \\\"\"\n",
      "[1] \"bsub -q big-multi -n 4 -o  /data/srlab2/jkang/symphony_reproducibility/runtime/results_kd/symphony_k=100_d=20  -M 64000 -R 'rusage[mem=64000]' \\\"Rscript run_symphony_kd.R 100 20 \\\"\"\n",
      "[1] \"bsub -q big-multi -n 4 -o  /data/srlab2/jkang/symphony_reproducibility/runtime/results_kd/symphony_k=100_d=40  -M 64000 -R 'rusage[mem=64000]' \\\"Rscript run_symphony_kd.R 100 40 \\\"\"\n",
      "[1] \"bsub -q big-multi -n 4 -o  /data/srlab2/jkang/symphony_reproducibility/runtime/results_kd/symphony_k=100_d=80  -M 64000 -R 'rusage[mem=64000]' \\\"Rscript run_symphony_kd.R 100 80 \\\"\"\n",
      "[1] \"bsub -q big-multi -n 4 -o  /data/srlab2/jkang/symphony_reproducibility/runtime/results_kd/symphony_k=100_d=160  -M 64000 -R 'rusage[mem=64000]' \\\"Rscript run_symphony_kd.R 100 160 \\\"\"\n",
      "[1] \"bsub -q big-multi -n 4 -o  /data/srlab2/jkang/symphony_reproducibility/runtime/results_kd/symphony_k=100_d=320  -M 64000 -R 'rusage[mem=64000]' \\\"Rscript run_symphony_kd.R 100 320 \\\"\"\n"
     ]
    }
   ],
   "source": [
    "# vary num dimensions\n",
    "for (d in c(10, 20, 40, 80, 160, 320)) {\n",
    "    prefix = '/data/srlab2/jkang/symphony_reproducibility/runtime/results_kd/'\n",
    "    filename = paste0(prefix, 'symphony_', 'k=', 100 , '_d=', d)\n",
    "    p = paste('bsub -q big-multi -n 4 -o ', filename, \n",
    "              ' -M 64000 -R \\'rusage[mem=64000]\\' \"Rscript run_symphony_kd.R', 100, d, \"\\\"\")\n",
    "    print(p)\n",
    "    system(p)\n",
    "}"
   ]
  },
  {
   "cell_type": "markdown",
   "metadata": {},
   "source": [
    "### View results"
   ]
  },
  {
   "cell_type": "code",
   "execution_count": 11,
   "metadata": {
    "scrolled": true,
    "tags": []
   },
   "outputs": [
    {
     "name": "stderr",
     "output_type": "stream",
     "text": [
      "symphony_k=100_d=10\n",
      "\n"
     ]
    },
    {
     "name": "stdout",
     "output_type": "stream",
     "text": [
      "[1] \"1054.600 2475.269  219.045 \"\n",
      "[1] \"  1.360   2.381   0.753 \"\n"
     ]
    },
    {
     "name": "stderr",
     "output_type": "stream",
     "text": [
      "symphony_k=100_d=160\n",
      "\n"
     ]
    },
    {
     "name": "stdout",
     "output_type": "stream",
     "text": [
      "[1] \"2656.582 1016.820  300.964 \"\n",
      "[1] \"  6.159   6.060   1.132 \"\n"
     ]
    },
    {
     "name": "stderr",
     "output_type": "stream",
     "text": [
      "symphony_k=100_d=20\n",
      "\n"
     ]
    },
    {
     "name": "stdout",
     "output_type": "stream",
     "text": [
      "[1] \" 658.677 1333.413  139.383 \"\n",
      "[1] \"  2.288   2.573   0.805 \"\n",
      "[1] \" 654.289 1383.541  142.431 \"\n",
      "[1] \"  2.175   2.538   0.812 \"\n"
     ]
    },
    {
     "name": "stderr",
     "output_type": "stream",
     "text": [
      "symphony_k=100_d=320\n",
      "\n"
     ]
    },
    {
     "name": "stdout",
     "output_type": "stream",
     "text": [
      "[1] \"3863.610 1331.909  567.174 \"\n",
      "[1] \"  9.259   8.006   1.363 \"\n"
     ]
    },
    {
     "name": "stderr",
     "output_type": "stream",
     "text": [
      "symphony_k=100_d=40\n",
      "\n"
     ]
    },
    {
     "name": "stdout",
     "output_type": "stream",
     "text": [
      "[1] \" 493.949 1593.198  270.097 \"\n",
      "[1] \"  2.715   7.393   1.581 \"\n"
     ]
    },
    {
     "name": "stderr",
     "output_type": "stream",
     "text": [
      "symphony_k=100_d=80\n",
      "\n"
     ]
    },
    {
     "name": "stdout",
     "output_type": "stream",
     "text": [
      "[1] \"1504.308  740.378  176.377 \"\n",
      "[1] \"  4.859   2.941   0.934 \"\n"
     ]
    },
    {
     "name": "stderr",
     "output_type": "stream",
     "text": [
      "symphony_k=200_d=20\n",
      "\n"
     ]
    },
    {
     "name": "stdout",
     "output_type": "stream",
     "text": [
      "[1] \"1041.627 2059.934  275.892 \"\n",
      "[1] \"  3.255   5.688   0.983 \"\n"
     ]
    },
    {
     "name": "stderr",
     "output_type": "stream",
     "text": [
      "symphony_k=25_d=20\n",
      "\n"
     ]
    },
    {
     "name": "stdout",
     "output_type": "stream",
     "text": [
      "[1] \"357.001 645.435  58.937 \"\n",
      "[1] \"  1.330   0.896   0.693 \"\n"
     ]
    },
    {
     "name": "stderr",
     "output_type": "stream",
     "text": [
      "symphony_k=400_d=20\n",
      "\n"
     ]
    },
    {
     "name": "stdout",
     "output_type": "stream",
     "text": [
      "[1] \" 3417.749 11238.720  1781.440 \"\n",
      "[1] \"  6.023  31.873   5.106 \"\n"
     ]
    },
    {
     "name": "stderr",
     "output_type": "stream",
     "text": [
      "symphony_k=50_d=20\n",
      "\n"
     ]
    },
    {
     "name": "stdout",
     "output_type": "stream",
     "text": [
      "[1] \"417.136 685.444  70.889 \"\n",
      "[1] \"  1.580   1.465   0.741 \"\n"
     ]
    }
   ],
   "source": [
    "for (file in list.files('results_kd')) {\n",
    "    message(file)\n",
    "    outfile = file(paste0('results_kd/', file) , open=\"r\")\n",
    "    lines = readLines(outfile)\n",
    "    idx = grep(\"elapsed\", lines)\n",
    "    for (i in idx){\n",
    "        #print(lines[i])\n",
    "        print(lines[i+1])\n",
    "    }\n",
    "    close(outfile)\n",
    "}"
   ]
  },
  {
   "cell_type": "markdown",
   "metadata": {},
   "source": [
    "## Vary the number of query donors and query cells \n",
    "(while keeping the other constant)"
   ]
  },
  {
   "cell_type": "code",
   "execution_count": 2,
   "metadata": {},
   "outputs": [],
   "source": [
    "# set up the dataset\n",
    "exprs_norm = readRDS(\"/data/srlab1/anathan/TBRU/data/analysis/exprs_norm_01.12.rds\")\n",
    "meta_data = readRDS(\"/data/srlab1/anathan/TBRU/data/analysis/meta_data_01.12.rds\")\n",
    "\n",
    "meta_data <- meta_data[meta_data$memTgate,]\n",
    "meta_data$dummy <- 'A'"
   ]
  },
  {
   "cell_type": "code",
   "execution_count": 3,
   "metadata": {},
   "outputs": [],
   "source": [
    "# limit to 6 donors, vary cells\n",
    "idx_query = which(meta_data$batch <= 1)\n",
    "\n",
    "for (m in c(1000, 2500, 5000, 10000)) {\n",
    "    idx_query_sample = sample(idx_query, m)\n",
    "    query_exp = exprs_norm[, idx_query_sample]\n",
    "    query_metadata = meta_data[idx_query_sample, ]\n",
    "    saveRDS(query_exp, paste0('benchmark_datasets/', 'query_exp_donors=6_m=', m, '.rds'))\n",
    "    saveRDS(query_metadata, paste0('benchmark_datasets/', 'query_metadata_donors=6_m=', m, '.rds'))\n",
    "}"
   ]
  },
  {
   "cell_type": "code",
   "execution_count": 4,
   "metadata": {},
   "outputs": [],
   "source": [
    "# limit to 10,000 cells, vary donors\n",
    "for (ndonors in c(15, 30, 60, 120)) {\n",
    "    donors = sample(unique(meta_data$donor), ndonors)\n",
    "    idx_query = which(meta_data$donor %in% donors)\n",
    "\n",
    "    idx_query_sample = sample(idx_query, 10000)\n",
    "    \n",
    "    query_exp = exprs_norm[, idx_query_sample]\n",
    "    query_metadata = meta_data[idx_query_sample, ]\n",
    "    saveRDS(query_exp, paste0('benchmark_datasets/', 'query_exp_donors=', ndonors, '_m=10000.rds'))\n",
    "    saveRDS(query_metadata, paste0('benchmark_datasets/', 'query_metadata_donors=', ndonors, '_m=10000.rds'))\n",
    "}"
   ]
  },
  {
   "cell_type": "code",
   "execution_count": 8,
   "metadata": {},
   "outputs": [
    {
     "name": "stdout",
     "output_type": "stream",
     "text": [
      "[1] \"bsub -q big-multi -n 4 -o  /data/srlab2/jkang/symphony_reproducibility/runtime/results_querym_ndonors/symphony_donors=6_m=1000  -M 64000 -R 'rusage[mem=64000]' \\\"Rscript run_symphony_query.R /data/srlab2/jkang/symphony_reproducibility/runtime/benchmark_datasets/query_exp_donors=6_m=1000.rds /data/srlab2/jkang/symphony_reproducibility/runtime/benchmark_datasets/query_metadata_donors=6_m=1000.rds \\\"\"\n",
      "[1] \"bsub -q big-multi -n 4 -o  /data/srlab2/jkang/symphony_reproducibility/runtime/results_querym_ndonors/symphony_donors=6_m=2500  -M 64000 -R 'rusage[mem=64000]' \\\"Rscript run_symphony_query.R /data/srlab2/jkang/symphony_reproducibility/runtime/benchmark_datasets/query_exp_donors=6_m=2500.rds /data/srlab2/jkang/symphony_reproducibility/runtime/benchmark_datasets/query_metadata_donors=6_m=2500.rds \\\"\"\n",
      "[1] \"bsub -q big-multi -n 4 -o  /data/srlab2/jkang/symphony_reproducibility/runtime/results_querym_ndonors/symphony_donors=6_m=5000  -M 64000 -R 'rusage[mem=64000]' \\\"Rscript run_symphony_query.R /data/srlab2/jkang/symphony_reproducibility/runtime/benchmark_datasets/query_exp_donors=6_m=5000.rds /data/srlab2/jkang/symphony_reproducibility/runtime/benchmark_datasets/query_metadata_donors=6_m=5000.rds \\\"\"\n",
      "[1] \"bsub -q big-multi -n 4 -o  /data/srlab2/jkang/symphony_reproducibility/runtime/results_querym_ndonors/symphony_donors=6_m=10000  -M 64000 -R 'rusage[mem=64000]' \\\"Rscript run_symphony_query.R /data/srlab2/jkang/symphony_reproducibility/runtime/benchmark_datasets/query_exp_donors=6_m=10000.rds /data/srlab2/jkang/symphony_reproducibility/runtime/benchmark_datasets/query_metadata_donors=6_m=10000.rds \\\"\"\n"
     ]
    }
   ],
   "source": [
    "q = '/data/srlab2/jkang/symphony_reproducibility/runtime/'\n",
    "\n",
    "# vary num query cells\n",
    "for (m in c(1000, 2500, 5000, 10000)) {\n",
    "    qexpfile = paste0(q, 'benchmark_datasets/', 'query_exp_donors=6_m=', m, '.rds')\n",
    "    qmetadatafile = paste0(q,'benchmark_datasets/', 'query_metadata_donors=6_m=', m, '.rds')\n",
    "\n",
    "    prefix = '/data/srlab2/jkang/symphony_reproducibility/runtime/results_querym_ndonors/'\n",
    "    filename = paste0(prefix, 'symphony_', 'donors=', 6, '_m=', m)\n",
    "    p = paste('bsub -q big-multi -n 4 -o ', filename, \n",
    "              ' -M 64000 -R \\'rusage[mem=64000]\\' \"Rscript run_symphony_query.R', qexpfile, qmetadatafile, \"\\\"\")\n",
    "    print(p)\n",
    "    system(p)\n",
    "}"
   ]
  },
  {
   "cell_type": "code",
   "execution_count": 9,
   "metadata": {},
   "outputs": [
    {
     "name": "stdout",
     "output_type": "stream",
     "text": [
      "[1] \"bsub -q big-multi -n 4 -o  /data/srlab2/jkang/symphony_reproducibility/runtime/results_querym_ndonors/symphony_donors=15_m=10000  -M 64000 -R 'rusage[mem=64000]' \\\"Rscript run_symphony_query.R /data/srlab2/jkang/symphony_reproducibility/runtime/benchmark_datasets/query_exp_donors=15_m=10000.rds /data/srlab2/jkang/symphony_reproducibility/runtime/benchmark_datasets/query_metadata_donors=15_m=10000.rds \\\"\"\n",
      "[1] \"bsub -q big-multi -n 4 -o  /data/srlab2/jkang/symphony_reproducibility/runtime/results_querym_ndonors/symphony_donors=30_m=10000  -M 64000 -R 'rusage[mem=64000]' \\\"Rscript run_symphony_query.R /data/srlab2/jkang/symphony_reproducibility/runtime/benchmark_datasets/query_exp_donors=30_m=10000.rds /data/srlab2/jkang/symphony_reproducibility/runtime/benchmark_datasets/query_metadata_donors=30_m=10000.rds \\\"\"\n",
      "[1] \"bsub -q big-multi -n 4 -o  /data/srlab2/jkang/symphony_reproducibility/runtime/results_querym_ndonors/symphony_donors=60_m=10000  -M 64000 -R 'rusage[mem=64000]' \\\"Rscript run_symphony_query.R /data/srlab2/jkang/symphony_reproducibility/runtime/benchmark_datasets/query_exp_donors=60_m=10000.rds /data/srlab2/jkang/symphony_reproducibility/runtime/benchmark_datasets/query_metadata_donors=60_m=10000.rds \\\"\"\n",
      "[1] \"bsub -q big-multi -n 4 -o  /data/srlab2/jkang/symphony_reproducibility/runtime/results_querym_ndonors/symphony_donors=120_m=10000  -M 64000 -R 'rusage[mem=64000]' \\\"Rscript run_symphony_query.R /data/srlab2/jkang/symphony_reproducibility/runtime/benchmark_datasets/query_exp_donors=120_m=10000.rds /data/srlab2/jkang/symphony_reproducibility/runtime/benchmark_datasets/query_metadata_donors=120_m=10000.rds \\\"\"\n"
     ]
    }
   ],
   "source": [
    "# vary num query donors\n",
    "for (ndonors in c(15, 30, 60, 120)) {\n",
    "    qexpfile = paste0(q, 'benchmark_datasets/', 'query_exp_donors=', ndonors, '_m=10000.rds')\n",
    "    qmetadatafile = paste0(q, 'benchmark_datasets/', 'query_metadata_donors=', ndonors, '_m=10000.rds')\n",
    "\n",
    "    prefix = '/data/srlab2/jkang/symphony_reproducibility/runtime/results_querym_ndonors/'\n",
    "    filename = paste0(prefix, 'symphony_', 'donors=', ndonors, '_m=', 10000)\n",
    "    p = paste('bsub -q big-multi -n 4 -o ', filename, \n",
    "              ' -M 64000 -R \\'rusage[mem=64000]\\' \"Rscript run_symphony_query.R', qexpfile, qmetadatafile, \"\\\"\")\n",
    "    print(p)\n",
    "    system(p)\n",
    "}"
   ]
  },
  {
   "cell_type": "markdown",
   "metadata": {},
   "source": [
    "### View results"
   ]
  },
  {
   "cell_type": "code",
   "execution_count": 12,
   "metadata": {
    "scrolled": true,
    "tags": []
   },
   "outputs": [
    {
     "name": "stderr",
     "output_type": "stream",
     "text": [
      "symphony_donors=120_m=10000\n",
      "\n"
     ]
    },
    {
     "name": "stdout",
     "output_type": "stream",
     "text": [
      "[1] \" 638.549 1348.272  140.209 \"\n",
      "[1] \" 14.727   8.070   1.536 \"\n"
     ]
    },
    {
     "name": "stderr",
     "output_type": "stream",
     "text": [
      "symphony_donors=15_m=10000\n",
      "\n"
     ]
    },
    {
     "name": "stdout",
     "output_type": "stream",
     "text": [
      "[1] \" 494.853 1926.096  305.422 \"\n",
      "[1] \"  3.098  12.157   1.861 \"\n"
     ]
    },
    {
     "name": "stderr",
     "output_type": "stream",
     "text": [
      "symphony_donors=30_m=10000\n",
      "\n"
     ]
    },
    {
     "name": "stdout",
     "output_type": "stream",
     "text": [
      "[1] \" 506.369 1997.843  343.075 \"\n",
      "[1] \"  7.255  27.720   3.887 \"\n"
     ]
    },
    {
     "name": "stderr",
     "output_type": "stream",
     "text": [
      "symphony_donors=6_m=1000\n",
      "\n"
     ]
    },
    {
     "name": "stdout",
     "output_type": "stream",
     "text": [
      "[1] \" 636.044 1313.045  137.254 \"\n",
      "[1] \"  0.131   0.356   0.067 \"\n"
     ]
    },
    {
     "name": "stderr",
     "output_type": "stream",
     "text": [
      "symphony_donors=6_m=10000\n",
      "\n"
     ]
    },
    {
     "name": "stdout",
     "output_type": "stream",
     "text": [
      "[1] \" 657.287 1371.157  142.155 \"\n",
      "[1] \"  2.199   2.593   0.810 \"\n"
     ]
    },
    {
     "name": "stderr",
     "output_type": "stream",
     "text": [
      "symphony_donors=6_m=2500\n",
      "\n"
     ]
    },
    {
     "name": "stdout",
     "output_type": "stream",
     "text": [
      "[1] \" 630.934 1338.987  138.930 \"\n",
      "[1] \"  0.513   0.726   0.189 \"\n"
     ]
    },
    {
     "name": "stderr",
     "output_type": "stream",
     "text": [
      "symphony_donors=6_m=5000\n",
      "\n"
     ]
    },
    {
     "name": "stdout",
     "output_type": "stream",
     "text": [
      "[1] \" 645.885 1345.319  139.767 \"\n",
      "[1] \"  1.083   1.261   0.393 \"\n"
     ]
    },
    {
     "name": "stderr",
     "output_type": "stream",
     "text": [
      "symphony_donors=60_m=10000\n",
      "\n"
     ]
    },
    {
     "name": "stdout",
     "output_type": "stream",
     "text": [
      "[1] \" 631.207 1296.878  139.494 \"\n",
      "[1] \"  9.182   5.501   1.196 \"\n"
     ]
    }
   ],
   "source": [
    "for (file in list.files('results_querym_ndonors')) {\n",
    "    message(file)\n",
    "    outfile = file(paste0('results_querym_ndonors/', file) , open=\"r\")\n",
    "    lines = readLines(outfile)\n",
    "    idx = grep(\"elapsed\", lines)\n",
    "    for (i in idx){\n",
    "        #print(lines[i])\n",
    "        print(lines[i+1])\n",
    "    }\n",
    "    close(outfile)\n",
    "}"
   ]
  },
  {
   "cell_type": "markdown",
   "metadata": {},
   "source": [
    "# All done!"
   ]
  },
  {
   "cell_type": "code",
   "execution_count": 7,
   "metadata": {},
   "outputs": [
    {
     "data": {
      "text/plain": [
       "R version 4.0.5 (2021-03-31)\n",
       "Platform: x86_64-conda-linux-gnu (64-bit)\n",
       "Running under: Red Hat Enterprise Linux Server release 6.5 (Santiago)\n",
       "\n",
       "Matrix products: default\n",
       "BLAS/LAPACK: /PHShome/jbk37/anaconda3/envs/seurat4/lib/libopenblasp-r0.3.15.so\n",
       "\n",
       "locale:\n",
       " [1] LC_CTYPE=en_US.UTF-8       LC_NUMERIC=C              \n",
       " [3] LC_TIME=en_US.UTF-8        LC_COLLATE=en_US.UTF-8    \n",
       " [5] LC_MONETARY=en_US.UTF-8    LC_MESSAGES=en_US.UTF-8   \n",
       " [7] LC_PAPER=en_US.UTF-8       LC_NAME=C                 \n",
       " [9] LC_ADDRESS=C               LC_TELEPHONE=C            \n",
       "[11] LC_MEASUREMENT=en_US.UTF-8 LC_IDENTIFICATION=C       \n",
       "\n",
       "attached base packages:\n",
       "[1] stats     graphics  grDevices utils     datasets  methods   base     \n",
       "\n",
       "other attached packages:\n",
       " [1] scales_1.1.1       ggpubr_0.4.0       ggrastr_0.2.3      SeuratObject_4.0.1\n",
       " [5] Seurat_4.0.2       plyr_1.8.6         Matrix_1.3-3       ggthemes_4.2.4    \n",
       " [9] patchwork_1.1.1    matrixStats_0.59.0 data.table_1.14.0  forcats_0.5.1     \n",
       "[13] stringr_1.4.0      dplyr_1.0.7        purrr_0.3.4        readr_1.4.0       \n",
       "[17] tidyr_1.1.3        tibble_3.1.2       ggplot2_3.3.4      tidyverse_1.3.1   \n",
       "\n",
       "loaded via a namespace (and not attached):\n",
       "  [1] readxl_1.3.1          uuid_0.1-4            backports_1.2.1      \n",
       "  [4] igraph_1.2.6          repr_1.1.3            lazyeval_0.2.2       \n",
       "  [7] splines_4.0.5         listenv_0.8.0         scattermore_0.7      \n",
       " [10] digest_0.6.27         htmltools_0.5.1.1     fansi_0.5.0          \n",
       " [13] magrittr_2.0.1        tensor_1.5            cluster_2.1.2        \n",
       " [16] ROCR_1.0-11           openxlsx_4.2.3        globals_0.14.0       \n",
       " [19] modelr_0.1.8          spatstat.sparse_2.0-0 colorspace_2.0-1     \n",
       " [22] rvest_1.0.0           ggrepel_0.9.1         haven_2.4.1          \n",
       " [25] crayon_1.4.1          jsonlite_1.7.2        spatstat.data_2.1-0  \n",
       " [28] survival_3.2-11       zoo_1.8-9             glue_1.4.2           \n",
       " [31] polyclip_1.10-0       gtable_0.3.0          leiden_0.3.8         \n",
       " [34] car_3.0-10            future.apply_1.7.0    abind_1.4-5          \n",
       " [37] DBI_1.1.1             rstatix_0.7.0         miniUI_0.1.1.1       \n",
       " [40] Rcpp_1.0.6            viridisLite_0.4.0     xtable_1.8-4         \n",
       " [43] reticulate_1.20       spatstat.core_2.1-2   foreign_0.8-81       \n",
       " [46] htmlwidgets_1.5.3     httr_1.4.2            RColorBrewer_1.1-2   \n",
       " [49] ellipsis_0.3.2        ica_1.0-2             pkgconfig_2.0.3      \n",
       " [52] uwot_0.1.10           dbplyr_2.1.1          deldir_0.2-10        \n",
       " [55] utf8_1.2.1            tidyselect_1.1.1      rlang_0.4.11         \n",
       " [58] reshape2_1.4.4        later_1.2.0           munsell_0.5.0        \n",
       " [61] cellranger_1.1.0      tools_4.0.5           cli_3.0.0            \n",
       " [64] generics_0.1.0        broom_0.7.6           ggridges_0.5.3       \n",
       " [67] evaluate_0.14         fastmap_1.1.0         goftest_1.2-2        \n",
       " [70] fs_1.5.0              fitdistrplus_1.1-3    zip_2.1.1            \n",
       " [73] RANN_2.6.1            pbapply_1.4-3         future_1.21.0        \n",
       " [76] nlme_3.1-152          mime_0.10             xml2_1.3.2           \n",
       " [79] compiler_4.0.5        rstudioapi_0.13       curl_4.3.1           \n",
       " [82] beeswarm_0.4.0        plotly_4.9.3          png_0.1-7            \n",
       " [85] ggsignif_0.6.1        spatstat.utils_2.1-0  reprex_2.0.0         \n",
       " [88] stringi_1.6.2         lattice_0.20-44       IRdisplay_1.0        \n",
       " [91] vctrs_0.3.8           pillar_1.6.1          lifecycle_1.0.0      \n",
       " [94] spatstat.geom_2.1-0   lmtest_0.9-38         RcppAnnoy_0.0.18     \n",
       " [97] cowplot_1.1.1         irlba_2.3.3           httpuv_1.6.1         \n",
       "[100] R6_2.5.0              promises_1.2.0.1      KernSmooth_2.23-20   \n",
       "[103] gridExtra_2.3         rio_0.5.26            vipor_0.4.5          \n",
       "[106] parallelly_1.25.0     codetools_0.2-18      MASS_7.3-54          \n",
       "[109] assertthat_0.2.1      withr_2.4.2           sctransform_0.3.2    \n",
       "[112] mgcv_1.8-35           parallel_4.0.5        hms_1.1.0            \n",
       "[115] grid_4.0.5            rpart_4.1-15          IRkernel_1.2         \n",
       "[118] carData_3.0-4         Rtsne_0.15            pbdZMQ_0.3-5         \n",
       "[121] shiny_1.6.0           lubridate_1.7.10      base64enc_0.1-3      \n",
       "[124] ggbeeswarm_0.6.0     "
      ]
     },
     "metadata": {},
     "output_type": "display_data"
    }
   ],
   "source": [
    "sessionInfo()"
   ]
  }
 ],
 "metadata": {
  "kernelspec": {
   "display_name": "R",
   "language": "R",
   "name": "ir"
  },
  "language_info": {
   "codemirror_mode": "r",
   "file_extension": ".r",
   "mimetype": "text/x-r-source",
   "name": "R",
   "pygments_lexer": "r",
   "version": "4.0.5"
  }
 },
 "nbformat": 4,
 "nbformat_minor": 4
}
