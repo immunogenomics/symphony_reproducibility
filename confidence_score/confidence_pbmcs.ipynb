{
 "cells": [
  {
   "cell_type": "markdown",
   "id": "forced-title",
   "metadata": {},
   "source": [
    "# Confidence scores figure"
   ]
  },
  {
   "cell_type": "markdown",
   "id": "unnecessary-horizontal",
   "metadata": {},
   "source": [
    "Last edited June 29, 2021."
   ]
  },
  {
   "cell_type": "code",
   "execution_count": 1,
   "id": "fluid-literature",
   "metadata": {},
   "outputs": [],
   "source": [
    "suppressPackageStartupMessages({\n",
    "    library(symphony)\n",
    "    library(singlecellmethods)\n",
    "    library(tidyverse)\n",
    "    library(data.table)\n",
    "    library(matrixStats)\n",
    "    library(Matrix)\n",
    "    library(plyr)\n",
    "    library(dplyr)\n",
    "    library(Seurat)\n",
    "    \n",
    "    # Plotting\n",
    "    library(ggplot2)\n",
    "    library(ggthemes)\n",
    "    library(ggrastr)\n",
    "    library(RColorBrewer)\n",
    "    library(patchwork)\n",
    "})\n",
    "\n",
    "fig.size <- function (height, width) {\n",
    "    options(repr.plot.height = height, repr.plot.width = width)\n",
    "}\n",
    "\n",
    "colors = c('Unseen in reference' = 'coral1', 'Seen in reference' = 'aquamarine4')\n",
    "outdir = '/data/srlab2/jkang/symphony_reproducibility/confidence_score/'"
   ]
  },
  {
   "cell_type": "markdown",
   "id": "reduced-matter",
   "metadata": {},
   "source": [
    "# Build standard missing cell type reference datasets"
   ]
  },
  {
   "cell_type": "code",
   "execution_count": 2,
   "id": "compatible-relaxation",
   "metadata": {},
   "outputs": [
    {
     "data": {
      "text/plain": [
       "           \n",
       "            3pv1 3pv2   5p\n",
       "  B          589 1231 1174\n",
       "  DC          78  255  181\n",
       "  HSC         21   19   24\n",
       "  MK          30   63   55\n",
       "  Mono_CD14  841 1822 2227\n",
       "  Mono_CD16  352  242  373\n",
       "  NK         291  322  303\n",
       "  T_CD4     1657 2524 2135\n",
       "  T_CD8      899 1827 1036"
      ]
     },
     "metadata": {},
     "output_type": "display_data"
    }
   ],
   "source": [
    "# Read in full dataset\n",
    "metadata = readRDS('/data/srlab2/jkang/symphony_reproducibility/data/Fig2_pbmcs/metadata_gold_filtered.rds')\n",
    "exprs_norm = readRDS('/data/srlab2/jkang/symphony_reproducibility/data/Fig2_pbmcs/exprs_norm_gold_filtered.rds')\n",
    "\n",
    "table(metadata$cell_type, metadata$donor)\n",
    "query_dataset = '3pv1'"
   ]
  },
  {
   "cell_type": "code",
   "execution_count": 3,
   "id": "numerous-recommendation",
   "metadata": {},
   "outputs": [
    {
     "name": "stderr",
     "output_type": "stream",
     "text": [
      "B\n",
      "\n",
      "Mono\n",
      "\n",
      "T\n",
      "\n",
      "DC\n",
      "\n",
      "NK\n",
      "\n",
      "MK\n",
      "\n",
      "HSC\n",
      "\n"
     ]
    }
   ],
   "source": [
    "for (c in unique(metadata$cell_type_broad)) {\n",
    "    message(c)\n",
    "    filename_label = paste('query', query_dataset, 'missing', c, sep = '_')\n",
    "    \n",
    "    # Determine which indices to use\n",
    "    idx_ref = which(metadata$donor != query_dataset & metadata$cell_type_broad != c)\n",
    "    idx_query = which(metadata$donor == query_dataset)\n",
    "\n",
    "    # Subset reference exprs and metadata\n",
    "    exprs_norm_ref = exprs_norm[, idx_ref]\n",
    "    metadata_ref = metadata[idx_ref,]\n",
    "\n",
    "    # Subset query exprs and metadata\n",
    "    exprs_norm_query = exprs_norm[, idx_query]\n",
    "    metadata_query = metadata[idx_query,]\n",
    "    \n",
    "    # Save datasets\n",
    "    saveRDS(exprs_norm_ref, paste0('./pbmc_missing_datasets/', 'reference_exp_norm_', filename_label, '.rds'))\n",
    "    saveRDS(metadata_ref, paste0('./pbmc_missing_datasets/', 'reference_metadata_', filename_label, '.rds'))\n",
    "    saveRDS(exprs_norm_query, paste0('./pbmc_missing_datasets/', 'query_exp_norm_', filename_label, '.rds'))\n",
    "    saveRDS(metadata_query, paste0('./pbmc_missing_datasets/', 'query_metadata_', filename_label, '.rds'))\n",
    "}"
   ]
  },
  {
   "cell_type": "markdown",
   "id": "derived-democrat",
   "metadata": {},
   "source": [
    "# Make Symphony references and queries"
   ]
  },
  {
   "cell_type": "code",
   "execution_count": 5,
   "id": "covered-discovery",
   "metadata": {},
   "outputs": [
    {
     "name": "stderr",
     "output_type": "stream",
     "text": [
      "B\n",
      "\n",
      "Warning message:\n",
      "“invalid uid value replaced by that for user 'nobody'”\n",
      "Mono\n",
      "\n",
      "Warning message:\n",
      "“invalid uid value replaced by that for user 'nobody'”\n",
      "T\n",
      "\n",
      "Warning message:\n",
      "“invalid uid value replaced by that for user 'nobody'”\n",
      "DC\n",
      "\n",
      "Warning message:\n",
      "“invalid uid value replaced by that for user 'nobody'”\n",
      "NK\n",
      "\n",
      "Warning message:\n",
      "“invalid uid value replaced by that for user 'nobody'”\n",
      "MK\n",
      "\n",
      "Warning message:\n",
      "“invalid uid value replaced by that for user 'nobody'”\n",
      "HSC\n",
      "\n",
      "Warning message:\n",
      "“invalid uid value replaced by that for user 'nobody'”\n"
     ]
    }
   ],
   "source": [
    "for (c in unique(metadata$cell_type_broad)) {\n",
    "    message(c)\n",
    "    filename_label = paste('query', query_dataset, 'missing', c, sep = '_')\n",
    "    \n",
    "    # Build reference\n",
    "    exprs_norm_ref = readRDS(paste0('./pbmc_missing_datasets/', 'reference_exp_norm_', filename_label, '.rds'))\n",
    "    metadata_ref = readRDS(paste0('./pbmc_missing_datasets/', 'reference_metadata_', filename_label, '.rds'))\n",
    "    exprs_norm_query = readRDS(paste0('./pbmc_missing_datasets/', 'query_exp_norm_', filename_label, '.rds'))\n",
    "    metadata_query = readRDS(paste0('./pbmc_missing_datasets/', 'query_metadata_', filename_label, '.rds'))\n",
    "    \n",
    "    reference = symphony::buildReference(exp_ref = exprs_norm_ref, metadata_ref = metadata_ref, \n",
    "                    vars = 'donor', K = 100, verbose = FALSE, do_umap = TRUE, do_normalize = FALSE, \n",
    "                    vargenes_method = 'vst', vargenes_groups = 'donor', 'topn' = 1000, theta = 2,\n",
    "                    save_uwot_path = paste0(outdir, 'results_pbmcs/ref_', filename_label, '_uwot_model'))\n",
    "    \n",
    "    # Map query\n",
    "    query = mapQuery(exp_query = exprs_norm_query, metadata_query = metadata_query,\n",
    "                        ref_obj = reference, vars = 'donor', do_normalize = FALSE, do_umap = TRUE, verbose = FALSE)\n",
    "    \n",
    "    # Add metadata variable specifying novel cell type\n",
    "    query$meta_data$missing_in_reference = 'Seen in reference'\n",
    "    query$meta_data$missing_in_reference[which(query$meta_data$cell_type_broad == c)] = 'Unseen in reference'\n",
    "    \n",
    "    saveRDS(reference, paste0('./results_pbmcs/ref_', filename_label, '.rds'))\n",
    "    saveRDS(query, paste0('./results_pbmcs/query_', filename_label, '.rds'))\n",
    "}"
   ]
  },
  {
   "cell_type": "markdown",
   "id": "complex-patch",
   "metadata": {},
   "source": [
    "# Calculate and plot Symphony per-cluster mapping metric"
   ]
  },
  {
   "cell_type": "code",
   "execution_count": 3,
   "id": "decent-blocking",
   "metadata": {},
   "outputs": [
    {
     "name": "stderr",
     "output_type": "stream",
     "text": [
      "B\n",
      "\n",
      "Calculating mapping confidence for 7 query clusters\n",
      "\n",
      "(Warning) cluster contains too few cells to estimate confidence: HSC\n",
      "\n",
      "Warning message:\n",
      "“Removed 1 rows containing missing values (position_stack).”\n",
      "Mono\n",
      "\n",
      "Calculating mapping confidence for 7 query clusters\n",
      "\n",
      "(Warning) cluster contains too few cells to estimate confidence: HSC\n",
      "\n",
      "Warning message:\n",
      "“Removed 1 rows containing missing values (position_stack).”\n",
      "T\n",
      "\n",
      "Calculating mapping confidence for 7 query clusters\n",
      "\n",
      "(Warning) cluster contains too few cells to estimate confidence: HSC\n",
      "\n",
      "Warning message:\n",
      "“Removed 1 rows containing missing values (position_stack).”\n",
      "DC\n",
      "\n",
      "Calculating mapping confidence for 7 query clusters\n",
      "\n",
      "(Warning) cluster contains too few cells to estimate confidence: HSC\n",
      "\n",
      "Warning message:\n",
      "“Removed 1 rows containing missing values (position_stack).”\n",
      "NK\n",
      "\n",
      "Calculating mapping confidence for 7 query clusters\n",
      "\n",
      "(Warning) cluster contains too few cells to estimate confidence: HSC\n",
      "\n",
      "Warning message:\n",
      "“Removed 1 rows containing missing values (position_stack).”\n",
      "MK\n",
      "\n",
      "Calculating mapping confidence for 7 query clusters\n",
      "\n",
      "(Warning) cluster contains too few cells to estimate confidence: HSC\n",
      "\n",
      "Warning message:\n",
      "“Removed 1 rows containing missing values (position_stack).”\n",
      "HSC\n",
      "\n",
      "Calculating mapping confidence for 7 query clusters\n",
      "\n",
      "(Warning) cluster contains too few cells to estimate confidence: HSC\n",
      "\n",
      "Warning message:\n",
      "“Removed 1 rows containing missing values (position_stack).”\n"
     ]
    }
   ],
   "source": [
    "## Plot results\n",
    "for (c in unique(metadata$cell_type_broad)) {\n",
    "    message(c)\n",
    "    filename_label = paste('query', query_dataset, 'missing', c, sep = '_')\n",
    "\n",
    "    query = readRDS(paste0('./results_pbmcs/query_', filename_label, '.rds'))\n",
    "    reference = readRDS(paste0('./results_pbmcs/ref_', filename_label, '.rds'))\n",
    "        \n",
    "    per_cluster_metric = calcPerClusterMappingMetric(reference = reference, query = query, \n",
    "                            query_cluster_labels = query$meta_data$cell_type_broad, u = 1.5)\n",
    "        # default u = 2, but force set to 1.5 to allow calculation for megakaryocytes (MK)\n",
    "        \n",
    "    per_cluster_metric$seen_in_reference = 'Seen in reference'\n",
    "    per_cluster_metric$seen_in_reference[which(per_cluster_metric$query_cluster == c)] = 'Unseen in reference'\n",
    "\n",
    "    # Plot per-cluster score\n",
    "    fig.size(3.5, 4)\n",
    "    pdf(paste0('figs_pbmcs/per-cluster_barplots/', filename_label, '_per_cluster.pdf'), \n",
    "        width = 4, height = 3.5, useDingbats = FALSE)\n",
    "    p = ggplot(per_cluster_metric) +\n",
    "        theme_bw() + theme(legend.position = 'none') + \n",
    "        geom_bar(aes(x = query_cluster, y = distance_score, \n",
    "                     fill = seen_in_reference), stat = 'identity') +\n",
    "        theme(axis.text.x = element_text(angle = 90, vjust = 0.5, hjust = 1)) +\n",
    "        scale_fill_manual(values = colors) + ylim(0, 22) +\n",
    "        ggtitle(paste0('Symphony (per-cluster): Ref missing ', c)) + theme(plot.title = element_text(hjust = 0.5)) +\n",
    "        xlab('Query cell type') + ylab('per-cluster mapping metric') + \n",
    "        theme(legend.title = element_blank())\n",
    "    plot(p)\n",
    "    dev.off()\n",
    "    p\n",
    "    \n",
    "    # Save query\n",
    "    query$per_cluster_metric = per_cluster_metric\n",
    "    saveRDS(query, paste0('./results_pbmcs/query_', filename_label, '.rds'))\n",
    "}"
   ]
  },
  {
   "cell_type": "markdown",
   "id": "worthy-stack",
   "metadata": {},
   "source": [
    "# Calculate and plot Symphony per-cell mapping metric"
   ]
  },
  {
   "cell_type": "markdown",
   "id": "7e36db63-150e-4393-b216-a9c57d6b77c9",
   "metadata": {},
   "source": [
    "Z_corr"
   ]
  },
  {
   "cell_type": "code",
   "execution_count": 4,
   "id": "competent-firewall",
   "metadata": {},
   "outputs": [
    {
     "name": "stderr",
     "output_type": "stream",
     "text": [
      "B\n",
      "\n",
      "Mono\n",
      "\n",
      "T\n",
      "\n",
      "DC\n",
      "\n",
      "NK\n",
      "\n",
      "MK\n",
      "\n",
      "HSC\n",
      "\n"
     ]
    }
   ],
   "source": [
    "## Plot results\n",
    "for (c in unique(metadata$cell_type_broad)) {\n",
    "    message(c)\n",
    "    filename_label = paste('query', query_dataset, 'missing', c, sep = '_')\n",
    "\n",
    "    query = readRDS(paste0('./results_pbmcs/query_', filename_label, '.rds'))\n",
    "    reference = readRDS(paste0('./results_pbmcs/ref_', filename_label, '.rds'))\n",
    "        \n",
    "    query$meta_data$per_cell_metric = calcPerCellMappingMetric(reference, query, Z_orig = FALSE)\n",
    "\n",
    "    # Plot\n",
    "    pdf(paste0('figs_pbmcs/per-cell_boxplots/', filename_label, '_per_cell_Z_corr.pdf'), width = 4, height = 3.5, useDingbats = FALSE)\n",
    "    fig.size(3.5, 4)\n",
    "        \n",
    "    p = ggplot(query$meta_data, #aes(x=reorder(cell_type_broad, -per_cell_metric), y=per_cell_metric, \n",
    "                                aes(x=cell_type_broad, y=per_cell_metric, \n",
    "                                    fill = missing_in_reference)) +\n",
    "            geom_boxplot(outlier.size = 0.1, size = 0.3) + ylab('per-cell mapping metric') + \n",
    "            xlab('Query cell type') + scale_fill_manual(values = colors) +\n",
    "            theme_bw() + theme(legend.position = 'none') + \n",
    "            theme(axis.text.x = element_text(angle = 90, vjust = 0.5, hjust=1)) + ylim(0, 24) +\n",
    "            ggtitle(paste0('Symphony (per-cell): Ref missing ', c)) + theme(plot.title = element_text(hjust = 0.5))\n",
    "    plot(p)\n",
    "    dev.off()\n",
    "    p\n",
    "}"
   ]
  },
  {
   "cell_type": "markdown",
   "id": "d17e3e3a-0823-4b33-b694-eab452a74080",
   "metadata": {},
   "source": [
    "Z_orig"
   ]
  },
  {
   "cell_type": "code",
   "execution_count": 5,
   "id": "46819e74-221e-4fbe-9485-51b172c63ac1",
   "metadata": {},
   "outputs": [
    {
     "name": "stderr",
     "output_type": "stream",
     "text": [
      "B\n",
      "\n",
      "Mono\n",
      "\n",
      "T\n",
      "\n",
      "DC\n",
      "\n",
      "NK\n",
      "\n",
      "MK\n",
      "\n",
      "HSC\n",
      "\n"
     ]
    }
   ],
   "source": [
    "## Plot results\n",
    "for (c in unique(metadata$cell_type_broad)) {\n",
    "    message(c)\n",
    "    filename_label = paste('query', query_dataset, 'missing', c, sep = '_')\n",
    "\n",
    "    query = readRDS(paste0('./results_pbmcs/query_', filename_label, '.rds'))\n",
    "    reference = readRDS(paste0('./results_pbmcs/ref_', filename_label, '.rds'))\n",
    "        \n",
    "    query$meta_data$per_cell_metric = calcPerCellMappingMetric(reference, query, Z_orig = TRUE)\n",
    "    query$meta_data$missing_in_reference = 'Seen in reference'\n",
    "    query$meta_data$missing_in_reference[which(query$meta_data$cell_type_broad == c)] = 'Unseen in reference'\n",
    "\n",
    "    # Plot\n",
    "    pdf(paste0('figs_pbmcs/per-cell_boxplots/', filename_label, '_per_cell_Z_orig.pdf'), width = 4, height = 3.5, useDingbats = FALSE)\n",
    "    fig.size(3.5, 4)\n",
    "        \n",
    "    p = ggplot(query$meta_data, #aes(x=reorder(cell_type_broad, -per_cell_metric), y=per_cell_metric, \n",
    "                                aes(x=cell_type_broad, y=per_cell_metric, \n",
    "                                    fill = missing_in_reference)) +\n",
    "            geom_boxplot(outlier.size = 0.1, size = 0.3) + ylab('per-cell mapping metric') + \n",
    "            xlab('Query cell type') + scale_fill_manual(values = colors) +\n",
    "            theme_bw() + theme(legend.position = 'none') + \n",
    "            theme(axis.text.x = element_text(angle = 90, vjust = 0.5, hjust=1)) + ylim(0, 24) +\n",
    "            ggtitle(paste0('Symphony (per-cell): Ref missing ', c)) + theme(plot.title = element_text(hjust = 0.5))\n",
    "    plot(p)\n",
    "    dev.off()\n",
    "    p    \n",
    "}"
   ]
  },
  {
   "cell_type": "markdown",
   "id": "arbitrary-mongolia",
   "metadata": {},
   "source": [
    "# Compare with Seurat mapping scores"
   ]
  },
  {
   "cell_type": "markdown",
   "id": "a277cee7-8b0e-4af1-a244-edc2c0468cd9",
   "metadata": {},
   "source": [
    "## Run Seurat"
   ]
  },
  {
   "cell_type": "code",
   "execution_count": 7,
   "id": "ahead-cause",
   "metadata": {},
   "outputs": [],
   "source": [
    "query_dataset = '3pv1'"
   ]
  },
  {
   "cell_type": "code",
   "execution_count": 9,
   "id": "falling-producer",
   "metadata": {},
   "outputs": [
    {
     "name": "stderr",
     "output_type": "stream",
     "text": [
      "B\n",
      "\n",
      "Warning message:\n",
      "“Feature names cannot have underscores ('_'), replacing with dashes ('-')”\n",
      "Warning message:\n",
      "“The default method for RunUMAP has changed from calling Python UMAP via reticulate to the R-native UWOT using the cosine metric\n",
      "To use Python UMAP via reticulate, set umap.method to 'umap-learn' and metric to 'correlation'\n",
      "This message will be shown once per session”\n",
      "Warning message:\n",
      "“Feature names cannot have underscores ('_'), replacing with dashes ('-')”\n",
      "Warning message:\n",
      "“Keys should be one or more alphanumeric characters followed by an underscore, setting key from ref.pca_ to refpca_”\n",
      "Warning message:\n",
      "“UNRELIABLE VALUE: Future (‘future_lapply-1’) unexpectedly generated random numbers without specifying argument 'future.seed'. There is a risk that those random numbers are not statistically sound and the overall results might be invalid. To fix this, specify 'future.seed=TRUE'. This ensures that proper, parallel-safe random numbers are produced via the L'Ecuyer-CMRG method. To disable this check, use 'future.seed=NULL', or set option 'future.rng.onMisuse' to \"ignore\".”\n",
      "Warning message:\n",
      "“Keys should be one or more alphanumeric characters followed by an underscore, setting key from ref.pca_ to refpca_”\n",
      "Warning message:\n",
      "“All keys should be one or more alphanumeric characters followed by an underscore '_', setting key to refpca_”\n",
      "Recomputing query neighborhoods.\n",
      "Setting mapping.score.k in FindTransferAnchors to the ksmooth \n",
      "value here (100), can bypass this calculation in future runs.\n",
      "\n",
      "Mono\n",
      "\n",
      "Warning message:\n",
      "“Feature names cannot have underscores ('_'), replacing with dashes ('-')”\n",
      "Warning message:\n",
      "“Feature names cannot have underscores ('_'), replacing with dashes ('-')”\n",
      "Warning message:\n",
      "“Keys should be one or more alphanumeric characters followed by an underscore, setting key from ref.pca_ to refpca_”\n",
      "Warning message:\n",
      "“UNRELIABLE VALUE: Future (‘future_lapply-1’) unexpectedly generated random numbers without specifying argument 'future.seed'. There is a risk that those random numbers are not statistically sound and the overall results might be invalid. To fix this, specify 'future.seed=TRUE'. This ensures that proper, parallel-safe random numbers are produced via the L'Ecuyer-CMRG method. To disable this check, use 'future.seed=NULL', or set option 'future.rng.onMisuse' to \"ignore\".”\n",
      "Warning message:\n",
      "“Keys should be one or more alphanumeric characters followed by an underscore, setting key from ref.pca_ to refpca_”\n",
      "Warning message:\n",
      "“All keys should be one or more alphanumeric characters followed by an underscore '_', setting key to refpca_”\n",
      "Recomputing query neighborhoods.\n",
      "Setting mapping.score.k in FindTransferAnchors to the ksmooth \n",
      "value here (100), can bypass this calculation in future runs.\n",
      "\n",
      "T\n",
      "\n",
      "Warning message:\n",
      "“Feature names cannot have underscores ('_'), replacing with dashes ('-')”\n",
      "Warning message:\n",
      "“Feature names cannot have underscores ('_'), replacing with dashes ('-')”\n",
      "Warning message:\n",
      "“Keys should be one or more alphanumeric characters followed by an underscore, setting key from ref.pca_ to refpca_”\n",
      "Warning message:\n",
      "“UNRELIABLE VALUE: Future (‘future_lapply-1’) unexpectedly generated random numbers without specifying argument 'future.seed'. There is a risk that those random numbers are not statistically sound and the overall results might be invalid. To fix this, specify 'future.seed=TRUE'. This ensures that proper, parallel-safe random numbers are produced via the L'Ecuyer-CMRG method. To disable this check, use 'future.seed=NULL', or set option 'future.rng.onMisuse' to \"ignore\".”\n",
      "Warning message:\n",
      "“Keys should be one or more alphanumeric characters followed by an underscore, setting key from ref.pca_ to refpca_”\n",
      "Warning message:\n",
      "“All keys should be one or more alphanumeric characters followed by an underscore '_', setting key to refpca_”\n",
      "Recomputing query neighborhoods.\n",
      "Setting mapping.score.k in FindTransferAnchors to the ksmooth \n",
      "value here (100), can bypass this calculation in future runs.\n",
      "\n",
      "DC\n",
      "\n",
      "Warning message:\n",
      "“Feature names cannot have underscores ('_'), replacing with dashes ('-')”\n",
      "Warning message:\n",
      "“Feature names cannot have underscores ('_'), replacing with dashes ('-')”\n",
      "Warning message:\n",
      "“Keys should be one or more alphanumeric characters followed by an underscore, setting key from ref.pca_ to refpca_”\n",
      "Warning message:\n",
      "“UNRELIABLE VALUE: Future (‘future_lapply-1’) unexpectedly generated random numbers without specifying argument 'future.seed'. There is a risk that those random numbers are not statistically sound and the overall results might be invalid. To fix this, specify 'future.seed=TRUE'. This ensures that proper, parallel-safe random numbers are produced via the L'Ecuyer-CMRG method. To disable this check, use 'future.seed=NULL', or set option 'future.rng.onMisuse' to \"ignore\".”\n",
      "Warning message:\n",
      "“Keys should be one or more alphanumeric characters followed by an underscore, setting key from ref.pca_ to refpca_”\n",
      "Warning message:\n",
      "“All keys should be one or more alphanumeric characters followed by an underscore '_', setting key to refpca_”\n",
      "Recomputing query neighborhoods.\n",
      "Setting mapping.score.k in FindTransferAnchors to the ksmooth \n",
      "value here (100), can bypass this calculation in future runs.\n",
      "\n",
      "NK\n",
      "\n",
      "Warning message:\n",
      "“Feature names cannot have underscores ('_'), replacing with dashes ('-')”\n",
      "Warning message:\n",
      "“Feature names cannot have underscores ('_'), replacing with dashes ('-')”\n",
      "Warning message:\n",
      "“Keys should be one or more alphanumeric characters followed by an underscore, setting key from ref.pca_ to refpca_”\n",
      "Warning message:\n",
      "“UNRELIABLE VALUE: Future (‘future_lapply-1’) unexpectedly generated random numbers without specifying argument 'future.seed'. There is a risk that those random numbers are not statistically sound and the overall results might be invalid. To fix this, specify 'future.seed=TRUE'. This ensures that proper, parallel-safe random numbers are produced via the L'Ecuyer-CMRG method. To disable this check, use 'future.seed=NULL', or set option 'future.rng.onMisuse' to \"ignore\".”\n",
      "Warning message:\n",
      "“Keys should be one or more alphanumeric characters followed by an underscore, setting key from ref.pca_ to refpca_”\n",
      "Warning message:\n",
      "“All keys should be one or more alphanumeric characters followed by an underscore '_', setting key to refpca_”\n",
      "Recomputing query neighborhoods.\n",
      "Setting mapping.score.k in FindTransferAnchors to the ksmooth \n",
      "value here (100), can bypass this calculation in future runs.\n",
      "\n",
      "MK\n",
      "\n",
      "Warning message:\n",
      "“Feature names cannot have underscores ('_'), replacing with dashes ('-')”\n",
      "Warning message:\n",
      "“Feature names cannot have underscores ('_'), replacing with dashes ('-')”\n",
      "Warning message:\n",
      "“Keys should be one or more alphanumeric characters followed by an underscore, setting key from ref.pca_ to refpca_”\n",
      "Warning message:\n",
      "“UNRELIABLE VALUE: Future (‘future_lapply-1’) unexpectedly generated random numbers without specifying argument 'future.seed'. There is a risk that those random numbers are not statistically sound and the overall results might be invalid. To fix this, specify 'future.seed=TRUE'. This ensures that proper, parallel-safe random numbers are produced via the L'Ecuyer-CMRG method. To disable this check, use 'future.seed=NULL', or set option 'future.rng.onMisuse' to \"ignore\".”\n",
      "Warning message:\n",
      "“Keys should be one or more alphanumeric characters followed by an underscore, setting key from ref.pca_ to refpca_”\n",
      "Warning message:\n",
      "“All keys should be one or more alphanumeric characters followed by an underscore '_', setting key to refpca_”\n",
      "Recomputing query neighborhoods.\n",
      "Setting mapping.score.k in FindTransferAnchors to the ksmooth \n",
      "value here (100), can bypass this calculation in future runs.\n",
      "\n",
      "HSC\n",
      "\n",
      "Warning message:\n",
      "“Feature names cannot have underscores ('_'), replacing with dashes ('-')”\n",
      "Warning message:\n",
      "“Feature names cannot have underscores ('_'), replacing with dashes ('-')”\n",
      "Warning message:\n",
      "“Keys should be one or more alphanumeric characters followed by an underscore, setting key from ref.pca_ to refpca_”\n",
      "Warning message:\n",
      "“UNRELIABLE VALUE: Future (‘future_lapply-1’) unexpectedly generated random numbers without specifying argument 'future.seed'. There is a risk that those random numbers are not statistically sound and the overall results might be invalid. To fix this, specify 'future.seed=TRUE'. This ensures that proper, parallel-safe random numbers are produced via the L'Ecuyer-CMRG method. To disable this check, use 'future.seed=NULL', or set option 'future.rng.onMisuse' to \"ignore\".”\n",
      "Warning message:\n",
      "“Keys should be one or more alphanumeric characters followed by an underscore, setting key from ref.pca_ to refpca_”\n",
      "Warning message:\n",
      "“All keys should be one or more alphanumeric characters followed by an underscore '_', setting key to refpca_”\n",
      "Recomputing query neighborhoods.\n",
      "Setting mapping.score.k in FindTransferAnchors to the ksmooth \n",
      "value here (100), can bypass this calculation in future runs.\n",
      "\n"
     ]
    }
   ],
   "source": [
    "for (cell_type_missing in unique(metadata$cell_type_broad)) {\n",
    "    message(cell_type_missing)\n",
    "    filename_label = paste('query', query_dataset, 'missing', cell_type_missing, sep = '_')\n",
    "\n",
    "    exp_ref = readRDS(paste0('./pbmc_missing_datasets/', 'reference_exp_norm_', filename_label, '.rds'))\n",
    "    metadata_ref = readRDS(paste0('./pbmc_missing_datasets/', 'reference_metadata_', filename_label, '.rds'))\n",
    "    exp_query = readRDS(paste0('./pbmc_missing_datasets/', 'query_exp_norm_', filename_label, '.rds'))\n",
    "    metadata_query = readRDS(paste0('./pbmc_missing_datasets/', 'query_metadata_', filename_label, '.rds'))\n",
    "    rownames(metadata_ref) = metadata_ref$cell_id\n",
    "\n",
    "    ## Build Seurat reference\n",
    "    reference <- CreateSeuratObject(counts = exp_ref, project = paste0(\"no_\", cell_type_missing), meta.data = metadata_ref)\n",
    "    ref.list <- SplitObject(reference, split.by = \"donor\") # Splitting reference object\n",
    "\n",
    "    for (i in 1:length(ref.list)) { # Finding reference variable features...\n",
    "        # Data already normalized\n",
    "        ref.list[[i]] = FindVariableFeatures(ref.list[[i]], selection.method = \"vst\", nfeatures = 1000)\n",
    "    }\n",
    "\n",
    "    # Identify anchors using the FindIntegrationAnchors function, which takes a list of Seurat objects as input.\n",
    "    set.seed(0)\n",
    "    ref.anchors <- FindIntegrationAnchors(object.list = ref.list, dims = 1:20, verbose = FALSE)\n",
    "\n",
    "    # Integrating reference data\n",
    "    ref.integrated <- IntegrateData(anchorset = ref.anchors, dims = 1:20, verbose = FALSE) # default is 30, but use 20 to compare with Symphony\n",
    "    DefaultAssay(ref.integrated) <- \"integrated\"\n",
    "\n",
    "    ## PCA to get integrated embedding\n",
    "    ref.integrated <- ScaleData(ref.integrated, verbose = FALSE)\n",
    "    ref.integrated <- RunPCA(ref.integrated, npcs = 20, verbose = FALSE)\n",
    "    ref.integrated <- RunUMAP(ref.integrated, reduction = \"pca\", dims = 1:20, verbose = FALSE)\n",
    "    \n",
    "    # Save Seurat reference obj\n",
    "    saveRDS(ref.integrated, paste0('./results_pbmcs/Seurat_ref_', filename_label, '.rds'))\n",
    "\n",
    "    # Map query\n",
    "    rownames(metadata_query) = metadata_query$cell_id\n",
    "    set.seed(0)\n",
    "    query <- CreateSeuratObject(counts = exp_query, project = \"query\", meta.data = metadata_query)\n",
    "    query.anchors <- FindTransferAnchors(reference = ref.integrated, query = query, dims = 1:20, verbose = FALSE)\n",
    "    query <- MapQuery(anchorset = query.anchors, query = query, reference = ref.integrated,\n",
    "                  refdata = ref.integrated$cell_type_broad, reference.dims = 1:20, verbose = FALSE)\n",
    "    \n",
    "    # Calculate Seurat mapping score\n",
    "    query@meta.data$mapping.scores = MappingScore(query.anchors, ndim = 20, verbose = FALSE)\n",
    "    query@meta.data$missing_in_reference = 'Seen in reference'\n",
    "    query@meta.data$missing_in_reference[which(query@meta.data$cell_type_broad == cell_type_missing)] = 'Unseen in reference'\n",
    "    \n",
    "    # Save Seurat query obj\n",
    "    saveRDS(query, paste0('./results_pbmcs/Seurat_query_', filename_label, '.rds'))\n",
    "}"
   ]
  },
  {
   "cell_type": "markdown",
   "id": "approved-banks",
   "metadata": {},
   "source": [
    "## Plot mapping scores"
   ]
  },
  {
   "cell_type": "code",
   "execution_count": 6,
   "id": "cordless-celebration",
   "metadata": {},
   "outputs": [
    {
     "name": "stderr",
     "output_type": "stream",
     "text": [
      "B\n",
      "\n",
      "Mono\n",
      "\n",
      "T\n",
      "\n",
      "DC\n",
      "\n",
      "NK\n",
      "\n",
      "MK\n",
      "\n",
      "HSC\n",
      "\n"
     ]
    }
   ],
   "source": [
    "for (cell_type_missing in unique(metadata$cell_type_broad)) {\n",
    "    message(cell_type_missing)\n",
    "    filename_label = paste('query', query_dataset, 'missing', cell_type_missing, sep = '_')\n",
    "\n",
    "    query = readRDS(paste0('./results_pbmcs/Seurat_query_', filename_label, '.rds'))\n",
    "\n",
    "    # Plot\n",
    "    fig.size(3.5, 4)\n",
    "    pdf(paste0('figs_pbmcs/Seurat_mapping_scores/', filename_label, '_Seurat_mapping.pdf'), width = 4, height = 3.5, useDingbats = FALSE)\n",
    "    p = ggplot(query@meta.data, #aes(x=reorder(cell_type_broad, mapping.scores), \n",
    "                               aes(x = cell_type_broad,\n",
    "                                   y=mapping.scores, fill = missing_in_reference)) +\n",
    "        geom_boxplot(outlier.size = 0.1, size = 0.3) + ylab('Seurat Mapping Score') + \n",
    "        xlab('Query cell type') + scale_fill_manual(values = colors) + \n",
    "        theme(axis.text.x = element_text(angle = 90, vjust = 0.5, hjust=1)) + theme_bw() + \n",
    "        ggtitle(paste0('Seurat: Ref missing ', cell_type_missing)) + theme(plot.title = element_text(hjust = 0.5)) +\n",
    "        theme(legend.position = 'none') + ylim(0, 1) + theme(axis.text.x = element_text(angle = 90, vjust = 0.5, hjust=1))\n",
    "    plot(p)\n",
    "    dev.off()\n",
    "    p\n",
    "}"
   ]
  },
  {
   "cell_type": "markdown",
   "id": "e5f36060-8736-48ad-a8c5-d66597f70fb9",
   "metadata": {},
   "source": [
    "# AUC plots separated by scenario"
   ]
  },
  {
   "cell_type": "code",
   "execution_count": 3,
   "id": "5b3c203b-6e97-4137-8e4a-ef7e949c9260",
   "metadata": {},
   "outputs": [],
   "source": [
    "suppressPackageStartupMessages({\n",
    "    library(pROC)\n",
    "    library(ggplot2)  \n",
    "})"
   ]
  },
  {
   "cell_type": "code",
   "execution_count": 4,
   "id": "a9299994-1a7f-4f29-8f2c-f15743bf3d6c",
   "metadata": {},
   "outputs": [
    {
     "name": "stderr",
     "output_type": "stream",
     "text": [
      "B\n",
      "\n",
      "Setting levels: control = Seen in reference, case = Unseen in reference\n",
      "\n",
      "Setting levels: control = Seen in reference, case = Unseen in reference\n",
      "\n",
      "Setting levels: control = Seen in reference, case = Unseen in reference\n",
      "\n",
      "Setting levels: control = Seen in reference, case = Unseen in reference\n",
      "\n",
      "Calculating mapping confidence for 7 query clusters\n",
      "\n",
      "(Warning) cluster contains too few cells to estimate confidence: HSC\n",
      "\n",
      "Setting levels: control = Seen in reference, case = Unseen in reference\n",
      "\n",
      "Setting levels: control = Seen in reference, case = Unseen in reference\n",
      "\n",
      "Setting levels: control = Seen in reference, case = Unseen in reference\n",
      "\n",
      "Setting direction: controls > cases\n",
      "\n",
      "Setting levels: control = Seen in reference, case = Unseen in reference\n",
      "\n",
      "Setting direction: controls > cases\n",
      "\n",
      "Mono\n",
      "\n",
      "Setting levels: control = Seen in reference, case = Unseen in reference\n",
      "\n",
      "Setting levels: control = Seen in reference, case = Unseen in reference\n",
      "\n",
      "Setting levels: control = Seen in reference, case = Unseen in reference\n",
      "\n",
      "Setting levels: control = Seen in reference, case = Unseen in reference\n",
      "\n",
      "Calculating mapping confidence for 7 query clusters\n",
      "\n",
      "(Warning) cluster contains too few cells to estimate confidence: HSC\n",
      "\n",
      "Setting levels: control = Seen in reference, case = Unseen in reference\n",
      "\n",
      "Setting levels: control = Seen in reference, case = Unseen in reference\n",
      "\n",
      "Setting levels: control = Seen in reference, case = Unseen in reference\n",
      "\n",
      "Setting direction: controls > cases\n",
      "\n",
      "Setting levels: control = Seen in reference, case = Unseen in reference\n",
      "\n",
      "Setting direction: controls > cases\n",
      "\n",
      "T\n",
      "\n",
      "Setting levels: control = Seen in reference, case = Unseen in reference\n",
      "\n",
      "Setting levels: control = Seen in reference, case = Unseen in reference\n",
      "\n",
      "Setting levels: control = Seen in reference, case = Unseen in reference\n",
      "\n",
      "Setting levels: control = Seen in reference, case = Unseen in reference\n",
      "\n",
      "Calculating mapping confidence for 7 query clusters\n",
      "\n",
      "(Warning) cluster contains too few cells to estimate confidence: HSC\n",
      "\n",
      "Setting levels: control = Seen in reference, case = Unseen in reference\n",
      "\n",
      "Setting levels: control = Seen in reference, case = Unseen in reference\n",
      "\n",
      "Setting levels: control = Seen in reference, case = Unseen in reference\n",
      "\n",
      "Setting direction: controls > cases\n",
      "\n",
      "Setting levels: control = Seen in reference, case = Unseen in reference\n",
      "\n",
      "Setting direction: controls > cases\n",
      "\n",
      "DC\n",
      "\n",
      "Setting levels: control = Seen in reference, case = Unseen in reference\n",
      "\n",
      "Setting levels: control = Seen in reference, case = Unseen in reference\n",
      "\n",
      "Setting levels: control = Seen in reference, case = Unseen in reference\n",
      "\n",
      "Setting levels: control = Seen in reference, case = Unseen in reference\n",
      "\n",
      "Calculating mapping confidence for 7 query clusters\n",
      "\n",
      "(Warning) cluster contains too few cells to estimate confidence: HSC\n",
      "\n",
      "Setting levels: control = Seen in reference, case = Unseen in reference\n",
      "\n",
      "Setting levels: control = Seen in reference, case = Unseen in reference\n",
      "\n",
      "Setting levels: control = Seen in reference, case = Unseen in reference\n",
      "\n",
      "Setting direction: controls > cases\n",
      "\n",
      "Setting levels: control = Seen in reference, case = Unseen in reference\n",
      "\n",
      "Setting direction: controls > cases\n",
      "\n",
      "NK\n",
      "\n",
      "Setting levels: control = Seen in reference, case = Unseen in reference\n",
      "\n",
      "Setting levels: control = Seen in reference, case = Unseen in reference\n",
      "\n",
      "Setting levels: control = Seen in reference, case = Unseen in reference\n",
      "\n",
      "Setting levels: control = Seen in reference, case = Unseen in reference\n",
      "\n",
      "Calculating mapping confidence for 7 query clusters\n",
      "\n",
      "(Warning) cluster contains too few cells to estimate confidence: HSC\n",
      "\n",
      "Setting levels: control = Seen in reference, case = Unseen in reference\n",
      "\n",
      "Setting levels: control = Seen in reference, case = Unseen in reference\n",
      "\n",
      "Setting levels: control = Seen in reference, case = Unseen in reference\n",
      "\n",
      "Setting direction: controls > cases\n",
      "\n",
      "Setting levels: control = Seen in reference, case = Unseen in reference\n",
      "\n",
      "Setting direction: controls > cases\n",
      "\n",
      "MK\n",
      "\n",
      "Setting levels: control = Seen in reference, case = Unseen in reference\n",
      "\n",
      "Setting levels: control = Seen in reference, case = Unseen in reference\n",
      "\n",
      "Setting levels: control = Seen in reference, case = Unseen in reference\n",
      "\n",
      "Setting levels: control = Seen in reference, case = Unseen in reference\n",
      "\n",
      "Calculating mapping confidence for 7 query clusters\n",
      "\n",
      "(Warning) cluster contains too few cells to estimate confidence: HSC\n",
      "\n",
      "Setting levels: control = Seen in reference, case = Unseen in reference\n",
      "\n",
      "Setting levels: control = Seen in reference, case = Unseen in reference\n",
      "\n",
      "Setting levels: control = Seen in reference, case = Unseen in reference\n",
      "\n",
      "Setting direction: controls > cases\n",
      "\n",
      "Setting levels: control = Seen in reference, case = Unseen in reference\n",
      "\n",
      "Setting direction: controls > cases\n",
      "\n",
      "HSC\n",
      "\n",
      "Setting levels: control = Seen in reference, case = Unseen in reference\n",
      "\n",
      "Setting levels: control = Seen in reference, case = Unseen in reference\n",
      "\n",
      "Setting levels: control = Seen in reference, case = Unseen in reference\n",
      "\n",
      "Setting levels: control = Seen in reference, case = Unseen in reference\n",
      "\n",
      "Calculating mapping confidence for 7 query clusters\n",
      "\n",
      "(Warning) cluster contains too few cells to estimate confidence: HSC\n",
      "\n",
      "Setting levels: control = Seen in reference, case = Unseen in reference\n",
      "\n",
      "Setting levels: control = Seen in reference, case = Unseen in reference\n",
      "\n",
      "Setting levels: control = Seen in reference, case = Unseen in reference\n",
      "\n",
      "Setting direction: controls > cases\n",
      "\n",
      "Setting levels: control = Seen in reference, case = Unseen in reference\n",
      "\n",
      "Setting direction: controls > cases\n",
      "\n"
     ]
    }
   ],
   "source": [
    "## Plot results\n",
    "listofrocs_Z_orig = list()\n",
    "listofrocs_Z_corr = list()\n",
    "listofrocs_per_cluster = list()\n",
    "listofrocs_Seurat = list()\n",
    "\n",
    "for (c in unique(metadata$cell_type_broad)) {\n",
    "    message(c)\n",
    "    filename_label = paste('query', query_dataset, 'missing', c, sep = '_')\n",
    "\n",
    "    query = readRDS(paste0('./results_pbmcs/query_', filename_label, '.rds'))\n",
    "    reference = readRDS(paste0('./results_pbmcs/ref_', filename_label, '.rds'))\n",
    "        \n",
    "    query$meta_data$per_cell_metric_Z_orig = calcPerCellMappingMetric(reference, query, Z_orig = TRUE)\n",
    "    query$meta_data$per_cell_metric_Z_corr = calcPerCellMappingMetric(reference, query, Z_orig = FALSE)\n",
    "    \n",
    "    #----------- Symphony per-cell (Z_orig)\n",
    "    # Plot\n",
    "    pdf(paste0('figs_pbmcs/auroc/', filename_label, '_per_cell_Z_orig_auroc.pdf'), width = 4, height = 4, useDingbats = FALSE)\n",
    "    fig.size(4, 4)\n",
    "    rocobj_Z_orig = roc(query$meta_data$missing_in_reference, query$meta_data$per_cell_metric_Z_orig, direction = '<')\n",
    "    auc = round(auc(query$meta_data$missing_in_reference, query$meta_data$per_cell_metric_Z_orig, direction = '<'), 2)\n",
    "\n",
    "    listofrocs_Z_orig[[paste0(c, ': AUC=', auc)]] = rocobj_Z_orig\n",
    "    \n",
    "    p = ggroc(rocobj_Z_orig, colour = 'steelblue', size = 2) +\n",
    "        labs(subtitle = (paste0('(AUC = ', auc, ')'))) + ggtitle(paste0('Symphony: Ref missing ', c)) +\n",
    "        theme_minimal() + theme(plot.title = element_text(hjust = 0.5), plot.subtitle = element_text(hjust = 0.5))\n",
    "    plot(p)\n",
    "    dev.off()\n",
    "    p\n",
    "    \n",
    "    #------------ Symphony per-cell (Z_corr)\n",
    "    \n",
    "    # Plot\n",
    "    pdf(paste0('figs_pbmcs/auroc/', filename_label, '_per_cell_Z_corr_auroc.pdf'), width = 4, height = 4, useDingbats = FALSE)\n",
    "    fig.size(4, 4)\n",
    "    rocobj_Z_corr = roc(query$meta_data$missing_in_reference, query$meta_data$per_cell_metric_Z_corr, direction = '<')\n",
    "    auc = round(auc(query$meta_data$missing_in_reference, query$meta_data$per_cell_metric_Z_corr, direction = '<'), 2)\n",
    "\n",
    "    listofrocs_Z_corr[[paste0(c, ': AUC=', auc)]] = rocobj_Z_corr\n",
    "\n",
    "    p = ggroc(rocobj_Z_corr, colour = 'steelblue', size = 2) +\n",
    "        labs(subtitle = (paste0('(AUC = ', auc, ')'))) + ggtitle(paste0('Symphony: Ref missing ', c)) +\n",
    "        theme_minimal() + theme(plot.title = element_text(hjust = 0.5), plot.subtitle = element_text(hjust = 0.5))\n",
    "    plot(p)\n",
    "    dev.off()\n",
    "    p\n",
    "    \n",
    "    #---------- Symphony per-cluster\n",
    "    \n",
    "    per_cluster_metric = calcPerClusterMappingMetric(reference = reference, query = query, \n",
    "                            query_cluster_labels = query$meta_data$cell_type_broad, u = 1.5)\n",
    "    \n",
    "    per_cluster_metric[is.na(per_cluster_metric)] = 0 \n",
    "    colnames(per_cluster_metric) = c('cell_type_broad', 'per_cluster_metric')\n",
    "    query$meta_data = merge(x = query$meta_data, y = per_cluster_metric, by = \"cell_type_broad\", all.x = TRUE)\n",
    "    \n",
    "    # Plot\n",
    "    pdf(paste0('figs_pbmcs/auroc/', filename_label, '_per_cluster_auroc.pdf'), width = 4, height = 4, useDingbats = FALSE)\n",
    "    fig.size(4, 4)\n",
    "    rocobj_percluster = roc(query$meta_data$missing_in_reference, query$meta_data$per_cluster_metric, direction = '<')\n",
    "    auc = round(auc(query$meta_data$missing_in_reference, query$meta_data$per_cluster_metric, direction = '<'), 2)\n",
    "\n",
    "    listofrocs_per_cluster[[paste0(c, ': AUC=', auc)]] = rocobj_percluster\n",
    "\n",
    "    p = ggroc(rocobj_percluster, colour = 'steelblue', size = 2) +\n",
    "        labs(subtitle = (paste0('(AUC = ', auc, ')'))) + ggtitle(paste0('Symphony: Ref missing ', c)) +\n",
    "        theme_minimal() + theme(plot.title = element_text(hjust = 0.5), plot.subtitle = element_text(hjust = 0.5))\n",
    "    plot(p)\n",
    "    dev.off()\n",
    "    p\n",
    "    \n",
    "    \n",
    "    #---------- Seurat\n",
    "    query = readRDS(paste0('./results_pbmcs/Seurat_query_', filename_label, '.rds'))\n",
    "    \n",
    "    # Plot\n",
    "    pdf(paste0('figs_pbmcs/auroc/', filename_label, '_per_cell_Seurat_auroc.pdf'), width = 4, height = 4, useDingbats = FALSE)\n",
    "    fig.size(4, 4)\n",
    "    rocobj_Seurat = roc(query@meta.data$missing_in_reference, query@meta.data$mapping.scores)\n",
    "    auc = round(auc(query@meta.data$missing_in_reference, query@meta.data$mapping.scores), 2)\n",
    "\n",
    "    listofrocs_Seurat[[paste0(c, ': AUC=', auc)]] = rocobj_Seurat\n",
    "    \n",
    "    p = ggroc(rocobj_Seurat, colour = 'steelblue', size = 2) +\n",
    "        labs(subtitle = (paste0('(AUC = ', auc, ')'))) + ggtitle(paste0('Seurat: Ref missing ', c)) +\n",
    "        theme_minimal() + theme(plot.title = element_text(hjust = 0.5), plot.subtitle = element_text(hjust = 0.5))\n",
    "    plot(p)\n",
    "    dev.off()\n",
    "    p\n",
    "}"
   ]
  },
  {
   "cell_type": "markdown",
   "id": "9e138aba-cee4-40a8-8f51-d5700c689e96",
   "metadata": {},
   "source": [
    "Plotting function obtained from: https://gist.github.com/charly06/91578196fc615c5a79c7174318be4349"
   ]
  },
  {
   "cell_type": "code",
   "execution_count": 5,
   "id": "38a2aa2c-dd51-42c2-a28f-1a8102259029",
   "metadata": {},
   "outputs": [],
   "source": [
    "ggrocs <- function(rocs, breaks = seq(0, 1, 0.2), legendTitel = \"Unseen Cell Type\") {\n",
    "    require(plyr)\n",
    "    # Store all sensitivities and specifivities in a data frame, which an be used in ggplot\n",
    "    RocVals <- plyr::ldply(names(rocs), function(rocName) {\n",
    "      data.frame(\n",
    "        fpr = rev(rocs[[rocName]]$specificities),\n",
    "        tpr = rev(rocs[[rocName]]$sensitivities),\n",
    "        names = rep(rocName, length(rocs[[rocName]]$sensitivities)),\n",
    "        stringAsFactors = T\n",
    "      )\n",
    "    })\n",
    "    \n",
    "    aucAvg <- mean(sapply(rocs, \"[[\", \"auc\"))\n",
    "\n",
    "    rocPlot <- ggplot(RocVals, aes(x = fpr, y = tpr, colour = names)) +\n",
    "      geom_segment(aes(x = 0, y = 1, xend = 1,yend = 0), alpha = 0.5, colour = \"gray\") + \n",
    "      geom_step() +\n",
    "      scale_x_reverse(name = \"Specificity\",limits = c(1,0), breaks = breaks) + \n",
    "      scale_y_continuous(name = \"Sensitivity\", limits = c(0,1), breaks = breaks) +\n",
    "      theme_classic() + \n",
    "      coord_equal() + \n",
    "      annotate(\"text\", x = 0.1, y = 0.1, vjust = 0, label = paste(\"Mean AUC =\\n\", sprintf(\"%.2f\",aucAvg))) +\n",
    "      guides(colour = guide_legend(legendTitel)) +\n",
    "      theme(axis.ticks = element_line(color = \"grey80\"))\n",
    "    \n",
    "    return(rocPlot)\n",
    "}"
   ]
  },
  {
   "cell_type": "markdown",
   "id": "f101212f-1157-499b-91dc-d17dd7bfe6e6",
   "metadata": {},
   "source": [
    "Plot Symphony per-cell ROCs"
   ]
  },
  {
   "cell_type": "code",
   "execution_count": 6,
   "id": "98f79cc6-130b-4b96-9504-71667b7ce895",
   "metadata": {},
   "outputs": [
    {
     "data": {
      "text/html": [
       "<strong>png:</strong> 2"
      ],
      "text/latex": [
       "\\textbf{png:} 2"
      ],
      "text/markdown": [
       "**png:** 2"
      ],
      "text/plain": [
       "png \n",
       "  2 "
      ]
     },
     "metadata": {},
     "output_type": "display_data"
    },
    {
     "data": {
      "image/png": "[encoded data removed]",
      "text/plain": [
       "plot without title"
      ]
     },
     "metadata": {
      "image/png": {
       "height": 360,
       "width": 360
      }
     },
     "output_type": "display_data"
    }
   ],
   "source": [
    "fig.size(6, 6)\n",
    "pdf(paste0('figs_pbmcs/auroc/Symphony_per_cell_rocs.pdf'), width = 6, height = 6, useDingbats = FALSE)\n",
    "rocs = ggrocs(listofrocs_Z_orig) + ggtitle('Symphony per-cell metric') + \n",
    "        theme(plot.title = element_text(hjust = 0.5))\n",
    "plot(rocs)\n",
    "dev.off()\n",
    "rocs"
   ]
  },
  {
   "cell_type": "markdown",
   "id": "f547efbb-b91a-4604-8392-2ee42baf9e99",
   "metadata": {},
   "source": [
    "Plot Symphony per-cluster ROCs"
   ]
  },
  {
   "cell_type": "code",
   "execution_count": 7,
   "id": "4a79bb1a-20b3-489b-8cdd-02289904ed85",
   "metadata": {},
   "outputs": [
    {
     "data": {
      "text/html": [
       "<strong>png:</strong> 2"
      ],
      "text/latex": [
       "\\textbf{png:} 2"
      ],
      "text/markdown": [
       "**png:** 2"
      ],
      "text/plain": [
       "png \n",
       "  2 "
      ]
     },
     "metadata": {},
     "output_type": "display_data"
    },
    {
     "data": {
      "image/png": "[encoded data removed]",
      "text/plain": [
       "plot without title"
      ]
     },
     "metadata": {
      "image/png": {
       "height": 360,
       "width": 360
      }
     },
     "output_type": "display_data"
    }
   ],
   "source": [
    "fig.size(6, 6)\n",
    "pdf(paste0('figs_pbmcs/auroc/Symphony_per_cluster_rocs.pdf'), width = 6, height = 6, useDingbats = FALSE)\n",
    "rocs = ggrocs(listofrocs_per_cluster) + ggtitle('Symphony per-cluster metric') + \n",
    "        theme(plot.title = element_text(hjust = 0.5))\n",
    "plot(rocs)\n",
    "dev.off()\n",
    "rocs"
   ]
  },
  {
   "cell_type": "markdown",
   "id": "84fb1996-bbee-48e2-8a6e-87baae06b204",
   "metadata": {},
   "source": [
    "Plot Seurat ROCs"
   ]
  },
  {
   "cell_type": "code",
   "execution_count": 8,
   "id": "d3d4ddef-638c-4211-9cd2-3ef1c9505140",
   "metadata": {},
   "outputs": [
    {
     "data": {
      "text/html": [
       "<strong>png:</strong> 2"
      ],
      "text/latex": [
       "\\textbf{png:} 2"
      ],
      "text/markdown": [
       "**png:** 2"
      ],
      "text/plain": [
       "png \n",
       "  2 "
      ]
     },
     "metadata": {},
     "output_type": "display_data"
    },
    {
     "data": {
      "image/png": "[encoded data removed]",
      "text/plain": [
       "plot without title"
      ]
     },
     "metadata": {
      "image/png": {
       "height": 360,
       "width": 360
      }
     },
     "output_type": "display_data"
    }
   ],
   "source": [
    "fig.size(6, 6)\n",
    "pdf(paste0('figs_pbmcs/auroc/Seurat_rocs.pdf'), width = 6, height = 6, useDingbats = FALSE)\n",
    "rocs = ggrocs(listofrocs_Seurat) + ggtitle('Seurat mapping score') + \n",
    "        theme(plot.title = element_text(hjust = 0.5))\n",
    "plot(rocs)\n",
    "dev.off()\n",
    "rocs"
   ]
  },
  {
   "cell_type": "markdown",
   "id": "f95baf40-6ff0-44a5-8da5-9a68248f04be",
   "metadata": {},
   "source": [
    "# AUC plots aggregated across all scenarios"
   ]
  },
  {
   "cell_type": "code",
   "execution_count": 9,
   "id": "487870bb-ee5f-413d-8a96-62d00519a910",
   "metadata": {},
   "outputs": [],
   "source": [
    "listofcombinedrocs = list()"
   ]
  },
  {
   "cell_type": "code",
   "execution_count": 10,
   "id": "4ac55127-8c38-4881-9a01-957879afbddf",
   "metadata": {},
   "outputs": [
    {
     "name": "stderr",
     "output_type": "stream",
     "text": [
      "B\n",
      "\n",
      "Mono\n",
      "\n",
      "T\n",
      "\n",
      "DC\n",
      "\n",
      "NK\n",
      "\n",
      "MK\n",
      "\n",
      "HSC\n",
      "\n"
     ]
    }
   ],
   "source": [
    "aggregated_per_cell_Symphony = NULL\n",
    "for (c in unique(metadata$cell_type_broad)) {\n",
    "    message(c)\n",
    "    filename_label = paste('query', query_dataset, 'missing', c, sep = '_')\n",
    "\n",
    "    query = readRDS(paste0('./results_pbmcs/query_', filename_label, '.rds'))\n",
    "    reference = readRDS(paste0('./results_pbmcs/ref_', filename_label, '.rds'))\n",
    "        \n",
    "    query$meta_data$per_cell_metric_Symphony = calcPerCellMappingMetric(reference, query, Z_orig = TRUE)\n",
    "    aggregated_per_cell_Symphony = rbind(aggregated_per_cell_Symphony, query$meta_data)\n",
    "}"
   ]
  },
  {
   "cell_type": "code",
   "execution_count": 11,
   "id": "5a6bc2f6-63ea-40fb-8c02-cbf81b774cb2",
   "metadata": {},
   "outputs": [
    {
     "name": "stderr",
     "output_type": "stream",
     "text": [
      "Setting levels: control = Seen in reference, case = Unseen in reference\n",
      "\n",
      "Setting direction: controls < cases\n",
      "\n",
      "Setting levels: control = Seen in reference, case = Unseen in reference\n",
      "\n",
      "Setting direction: controls < cases\n",
      "\n"
     ]
    },
    {
     "data": {
      "text/html": [
       "<strong>png:</strong> 2"
      ],
      "text/latex": [
       "\\textbf{png:} 2"
      ],
      "text/markdown": [
       "**png:** 2"
      ],
      "text/plain": [
       "png \n",
       "  2 "
      ]
     },
     "metadata": {},
     "output_type": "display_data"
    },
    {
     "data": {
      "image/png": "[encoded data removed]",
      "text/plain": [
       "plot without title"
      ]
     },
     "metadata": {
      "image/png": {
       "height": 240,
       "width": 240
      }
     },
     "output_type": "display_data"
    }
   ],
   "source": [
    "# Plot\n",
    "pdf(paste0('figs_pbmcs/auroc/', 'Symphony_per_cell_combined_auroc.pdf'), width = 4, height = 4, useDingbats = FALSE)\n",
    "fig.size(4, 4)\n",
    "rocobj = roc(aggregated_per_cell_Symphony$missing_in_reference, aggregated_per_cell_Symphony$per_cell_metric_Symphony)\n",
    "auc = round(auc(aggregated_per_cell_Symphony$missing_in_reference, aggregated_per_cell_Symphony$per_cell_metric_Symphony), 3)\n",
    "    \n",
    "listofcombinedrocs[[paste0('Symphony_per-cell', ': AUC=', auc)]] = rocobj\n",
    "\n",
    "p_sym_percell = ggroc(rocobj, colour = 'steelblue', size = 2) +\n",
    "        labs(subtitle = (paste0('(AUC = ', auc, ')'))) + ggtitle(paste0('Symphony per-cell')) +\n",
    "        theme_minimal() + theme(plot.title = element_text(hjust = 0.5), plot.subtitle = element_text(hjust = 0.5))\n",
    "plot(p_sym_percell)\n",
    "dev.off()\n",
    "p_sym_percell"
   ]
  },
  {
   "cell_type": "code",
   "execution_count": 12,
   "id": "c9eae576-63ce-4f99-b84f-5a0eef53ff6d",
   "metadata": {},
   "outputs": [
    {
     "name": "stderr",
     "output_type": "stream",
     "text": [
      "B\n",
      "\n",
      "Mono\n",
      "\n",
      "T\n",
      "\n",
      "DC\n",
      "\n",
      "NK\n",
      "\n",
      "MK\n",
      "\n",
      "HSC\n",
      "\n"
     ]
    }
   ],
   "source": [
    "aggregated_per_cluster_Symphony = NULL\n",
    "for (c in unique(metadata$cell_type_broad)) {\n",
    "    message(c)\n",
    "    suppressMessages({\n",
    "    filename_label = paste('query', query_dataset, 'missing', c, sep = '_')\n",
    "\n",
    "    query = readRDS(paste0('./results_pbmcs/query_', filename_label, '.rds'))\n",
    "    reference = readRDS(paste0('./results_pbmcs/ref_', filename_label, '.rds'))\n",
    "        \n",
    "    per_cluster_metric = calcPerClusterMappingMetric(reference = reference, query = query, \n",
    "                            query_cluster_labels = query$meta_data$cell_type_broad, u = 1.5)\n",
    "    \n",
    "    per_cluster_metric[is.na(per_cluster_metric)] = 0 \n",
    "    \n",
    "    colnames(per_cluster_metric) = c('cell_type_broad', 'per_cluster_metric')\n",
    "    aggregated_per_cluster_Symphony = rbind(aggregated_per_cluster_Symphony,\n",
    "                            merge(x = query$meta_data, y = per_cluster_metric, by = \"cell_type_broad\", all.x = TRUE))\n",
    "    \n",
    "    })\n",
    "}"
   ]
  },
  {
   "cell_type": "code",
   "execution_count": 13,
   "id": "edd5ebed-b975-462a-ac0d-57b5e54d4628",
   "metadata": {},
   "outputs": [
    {
     "name": "stderr",
     "output_type": "stream",
     "text": [
      "Setting levels: control = Seen in reference, case = Unseen in reference\n",
      "\n",
      "Setting direction: controls < cases\n",
      "\n",
      "Setting levels: control = Seen in reference, case = Unseen in reference\n",
      "\n",
      "Setting direction: controls < cases\n",
      "\n"
     ]
    },
    {
     "data": {
      "text/html": [
       "<strong>png:</strong> 2"
      ],
      "text/latex": [
       "\\textbf{png:} 2"
      ],
      "text/markdown": [
       "**png:** 2"
      ],
      "text/plain": [
       "png \n",
       "  2 "
      ]
     },
     "metadata": {},
     "output_type": "display_data"
    },
    {
     "data": {
      "image/png": "[encoded data removed]",
      "text/plain": [
       "plot without title"
      ]
     },
     "metadata": {
      "image/png": {
       "height": 240,
       "width": 240
      }
     },
     "output_type": "display_data"
    }
   ],
   "source": [
    "# Plot\n",
    "pdf(paste0('figs_pbmcs/auroc/', 'Symphony_per_cluster_combined_auroc.pdf'), width = 4, height = 4, useDingbats = FALSE)\n",
    "fig.size(4, 4)\n",
    "rocobj = roc(aggregated_per_cluster_Symphony$missing_in_reference, aggregated_per_cluster_Symphony$per_cluster_metric)\n",
    "auc = round(auc(aggregated_per_cluster_Symphony$missing_in_reference, aggregated_per_cluster_Symphony$per_cluster_metric), 3)\n",
    "\n",
    "listofcombinedrocs[[paste0('Symphony_per-cluster', ': AUC=', auc)]] = rocobj\n",
    "\n",
    "p_sym_percluster = ggroc(rocobj, colour = 'steelblue', size = 2) +\n",
    "        labs(subtitle = (paste0('(AUC = ', auc, ')'))) + ggtitle(paste0('Symphony per-cluster')) +\n",
    "        theme_minimal() + theme(plot.title = element_text(hjust = 0.5), plot.subtitle = element_text(hjust = 0.5))\n",
    "plot(p_sym_percluster)\n",
    "dev.off()\n",
    "p_sym_percluster"
   ]
  },
  {
   "cell_type": "code",
   "execution_count": 14,
   "id": "562b7ded-b541-4df1-812c-0cf78e7723b0",
   "metadata": {},
   "outputs": [
    {
     "name": "stderr",
     "output_type": "stream",
     "text": [
      "B\n",
      "\n",
      "Mono\n",
      "\n",
      "T\n",
      "\n",
      "DC\n",
      "\n",
      "NK\n",
      "\n",
      "MK\n",
      "\n",
      "HSC\n",
      "\n"
     ]
    }
   ],
   "source": [
    "aggregated_per_cell_Seurat = NULL\n",
    "for (c in unique(metadata$cell_type_broad)) {\n",
    "    message(c)\n",
    "    filename_label = paste('query', query_dataset, 'missing', c, sep = '_')\n",
    "\n",
    "    query = readRDS(paste0('./results_pbmcs/Seurat_query_', filename_label, '.rds'))\n",
    "    aggregated_per_cell_Seurat = rbind(aggregated_per_cell_Seurat, query@meta.data)\n",
    "}"
   ]
  },
  {
   "cell_type": "code",
   "execution_count": 15,
   "id": "89f1d32f-eac7-4631-a175-d990a407bc7e",
   "metadata": {},
   "outputs": [
    {
     "name": "stderr",
     "output_type": "stream",
     "text": [
      "Setting levels: control = Seen in reference, case = Unseen in reference\n",
      "\n",
      "Setting direction: controls > cases\n",
      "\n",
      "Setting levels: control = Seen in reference, case = Unseen in reference\n",
      "\n",
      "Setting direction: controls > cases\n",
      "\n"
     ]
    },
    {
     "data": {
      "text/html": [
       "<strong>png:</strong> 2"
      ],
      "text/latex": [
       "\\textbf{png:} 2"
      ],
      "text/markdown": [
       "**png:** 2"
      ],
      "text/plain": [
       "png \n",
       "  2 "
      ]
     },
     "metadata": {},
     "output_type": "display_data"
    },
    {
     "data": {
      "image/png": "[encoded data removed]",
      "text/plain": [
       "plot without title"
      ]
     },
     "metadata": {
      "image/png": {
       "height": 240,
       "width": 240
      }
     },
     "output_type": "display_data"
    }
   ],
   "source": [
    "# Plot\n",
    "pdf(paste0('figs_pbmcs/auroc/', 'Seurat_combined_auroc.pdf'), width = 4, height = 4, useDingbats = FALSE)\n",
    "fig.size(4, 4)\n",
    "rocobj = roc(aggregated_per_cell_Seurat$missing_in_reference, aggregated_per_cell_Seurat$mapping.score)\n",
    "auc = round(auc(aggregated_per_cell_Seurat$missing_in_reference, aggregated_per_cell_Seurat$mapping.score), 3)\n",
    "    \n",
    "listofcombinedrocs[[paste0('Seurat_mapping_score', ': AUC=', auc)]] = rocobj\n",
    "\n",
    "p_seurat = ggroc(rocobj, colour = 'steelblue', size = 2) +\n",
    "        labs(subtitle = (paste0('(AUC = ', auc, ')'))) + ggtitle(paste0('Seurat mapping score')) +\n",
    "        theme_minimal() + theme(plot.title = element_text(hjust = 0.5), plot.subtitle = element_text(hjust = 0.5))\n",
    "plot(p_seurat)\n",
    "dev.off()\n",
    "p_seurat"
   ]
  },
  {
   "cell_type": "code",
   "execution_count": 16,
   "id": "9fa1be46-e22c-44d6-8d70-3609f6b2c078",
   "metadata": {},
   "outputs": [
    {
     "data": {
      "text/html": [
       "<strong>png:</strong> 2"
      ],
      "text/latex": [
       "\\textbf{png:} 2"
      ],
      "text/markdown": [
       "**png:** 2"
      ],
      "text/plain": [
       "png \n",
       "  2 "
      ]
     },
     "metadata": {},
     "output_type": "display_data"
    }
   ],
   "source": [
    "fig.size(4, 12)\n",
    "pdf(paste0('figs_pbmcs/auroc/', 'all_combined_aurocs.pdf'), width = 12, height = 4, useDingbats = FALSE)\n",
    "\n",
    "p_sym_percell | p_sym_percluster | p_seurat\n",
    "\n",
    "dev.off()"
   ]
  },
  {
   "cell_type": "markdown",
   "id": "07623bd4-ba27-48d8-9c5a-b8172cfbc3ab",
   "metadata": {},
   "source": [
    "# All done!"
   ]
  },
  {
   "cell_type": "code",
   "execution_count": 17,
   "id": "reduced-richmond",
   "metadata": {},
   "outputs": [
    {
     "data": {
      "text/plain": [
       "R version 4.0.5 (2021-03-31)\n",
       "Platform: x86_64-conda-linux-gnu (64-bit)\n",
       "Running under: Red Hat Enterprise Linux Server release 6.5 (Santiago)\n",
       "\n",
       "Matrix products: default\n",
       "BLAS/LAPACK: /PHShome/jbk37/anaconda3/envs/seurat4/lib/libopenblasp-r0.3.15.so\n",
       "\n",
       "locale:\n",
       " [1] LC_CTYPE=en_US.UTF-8       LC_NUMERIC=C              \n",
       " [3] LC_TIME=en_US.UTF-8        LC_COLLATE=en_US.UTF-8    \n",
       " [5] LC_MONETARY=en_US.UTF-8    LC_MESSAGES=en_US.UTF-8   \n",
       " [7] LC_PAPER=en_US.UTF-8       LC_NAME=C                 \n",
       " [9] LC_ADDRESS=C               LC_TELEPHONE=C            \n",
       "[11] LC_MEASUREMENT=en_US.UTF-8 LC_IDENTIFICATION=C       \n",
       "\n",
       "attached base packages:\n",
       "[1] stats     graphics  grDevices utils     datasets  methods   base     \n",
       "\n",
       "other attached packages:\n",
       " [1] pROC_1.17.0.1           patchwork_1.1.1         RColorBrewer_1.1-2     \n",
       " [4] ggrastr_0.2.3           ggthemes_4.2.4          SeuratObject_4.0.1     \n",
       " [7] Seurat_4.0.2            plyr_1.8.6              Matrix_1.3-3           \n",
       "[10] matrixStats_0.59.0      forcats_0.5.1           stringr_1.4.0          \n",
       "[13] dplyr_1.0.7             purrr_0.3.4             readr_1.4.0            \n",
       "[16] tidyr_1.1.3             tibble_3.1.2            ggplot2_3.3.4          \n",
       "[19] tidyverse_1.3.1         singlecellmethods_0.1.0 data.table_1.14.0      \n",
       "[22] symphony_1.0           \n",
       "\n",
       "loaded via a namespace (and not attached):\n",
       "  [1] readxl_1.3.1          uuid_0.1-4            backports_1.2.1      \n",
       "  [4] igraph_1.2.6          repr_1.1.3            lazyeval_0.2.2       \n",
       "  [7] splines_4.0.5         listenv_0.8.0         scattermore_0.7      \n",
       " [10] digest_0.6.27         htmltools_0.5.1.1     fansi_0.5.0          \n",
       " [13] magrittr_2.0.1        tensor_1.5            cluster_2.1.2        \n",
       " [16] ROCR_1.0-11           globals_0.14.0        modelr_0.1.8         \n",
       " [19] spatstat.sparse_2.0-0 colorspace_2.0-1      rvest_1.0.0          \n",
       " [22] ggrepel_0.9.1         haven_2.4.1           crayon_1.4.1         \n",
       " [25] jsonlite_1.7.2        spatstat.data_2.1-0   survival_3.2-11      \n",
       " [28] zoo_1.8-9             glue_1.4.2            polyclip_1.10-0      \n",
       " [31] gtable_0.3.0          leiden_0.3.8          future.apply_1.7.0   \n",
       " [34] abind_1.4-5           scales_1.1.1          DBI_1.1.1            \n",
       " [37] miniUI_0.1.1.1        Rcpp_1.0.6            viridisLite_0.4.0    \n",
       " [40] xtable_1.8-4          reticulate_1.20       spatstat.core_2.1-2  \n",
       " [43] htmlwidgets_1.5.3     httr_1.4.2            ellipsis_0.3.2       \n",
       " [46] ica_1.0-2             farver_2.1.0          pkgconfig_2.0.3      \n",
       " [49] uwot_0.1.10           dbplyr_2.1.1          deldir_0.2-10        \n",
       " [52] utf8_1.2.1            tidyselect_1.1.1      labeling_0.4.2       \n",
       " [55] rlang_0.4.11          reshape2_1.4.4        later_1.2.0          \n",
       " [58] munsell_0.5.0         cellranger_1.1.0      tools_4.0.5          \n",
       " [61] cli_3.0.0             generics_0.1.0        broom_0.7.6          \n",
       " [64] ggridges_0.5.3        evaluate_0.14         fastmap_1.1.0        \n",
       " [67] goftest_1.2-2         fs_1.5.0              fitdistrplus_1.1-3   \n",
       " [70] RANN_2.6.1            pbapply_1.4-3         future_1.21.0        \n",
       " [73] nlme_3.1-152          mime_0.10             xml2_1.3.2           \n",
       " [76] compiler_4.0.5        rstudioapi_0.13       beeswarm_0.4.0       \n",
       " [79] plotly_4.9.3          png_0.1-7             spatstat.utils_2.1-0 \n",
       " [82] reprex_2.0.0          stringi_1.6.2         lattice_0.20-44      \n",
       " [85] IRdisplay_1.0         vctrs_0.3.8           pillar_1.6.1         \n",
       " [88] lifecycle_1.0.0       spatstat.geom_2.1-0   lmtest_0.9-38        \n",
       " [91] RcppAnnoy_0.0.18      cowplot_1.1.1         irlba_2.3.3          \n",
       " [94] httpuv_1.6.1          R6_2.5.0              promises_1.2.0.1     \n",
       " [97] KernSmooth_2.23-20    gridExtra_2.3         vipor_0.4.5          \n",
       "[100] parallelly_1.25.0     codetools_0.2-18      MASS_7.3-54          \n",
       "[103] assertthat_0.2.1      withr_2.4.2           sctransform_0.3.2    \n",
       "[106] mgcv_1.8-35           parallel_4.0.5        hms_1.1.0            \n",
       "[109] grid_4.0.5            rpart_4.1-15          IRkernel_1.2         \n",
       "[112] Cairo_1.5-12.2        Rtsne_0.15            pbdZMQ_0.3-5         \n",
       "[115] shiny_1.6.0           lubridate_1.7.10      base64enc_0.1-3      \n",
       "[118] ggbeeswarm_0.6.0     "
      ]
     },
     "metadata": {},
     "output_type": "display_data"
    }
   ],
   "source": [
    "sessionInfo()"
   ]
  }
 ],
 "metadata": {
  "kernelspec": {
   "display_name": "R",
   "language": "R",
   "name": "ir"
  },
  "language_info": {
   "codemirror_mode": "r",
   "file_extension": ".r",
   "mimetype": "text/x-r-source",
   "name": "R",
   "pygments_lexer": "r",
   "version": "4.0.5"
  },
  "toc-autonumbering": true
 },
 "nbformat": 4,
 "nbformat_minor": 5
}
